{
  "nbformat": 4,
  "nbformat_minor": 0,
  "metadata": {
    "colab": {
      "name": "COVID_19_augmentation.ipynb",
      "provenance": [],
      "collapsed_sections": [],
      "machine_shape": "hm",
      "include_colab_link": true
    },
    "kernelspec": {
      "name": "python3",
      "display_name": "Python 3"
    },
    "accelerator": "GPU"
  },
  "cells": [
    {
      "cell_type": "markdown",
      "metadata": {
        "id": "view-in-github",
        "colab_type": "text"
      },
      "source": [
        "<a href=\"https://colab.research.google.com/github/ChethanaVaisali/COVID_19/blob/master/COVID_19_augmentation.ipynb\" target=\"_parent\"><img src=\"https://colab.research.google.com/assets/colab-badge.svg\" alt=\"Open In Colab\"/></a>"
      ]
    },
    {
      "cell_type": "code",
      "metadata": {
        "id": "jVwn95cbXsWa",
        "colab_type": "code",
        "colab": {
          "base_uri": "https://localhost:8080/",
          "height": 34
        },
        "outputId": "673ff999-a267-4e05-da7b-0b07a086d2a4"
      },
      "source": [
        "from google.colab import drive\n",
        "drive.mount('/gdrive')"
      ],
      "execution_count": 1,
      "outputs": [
        {
          "output_type": "stream",
          "text": [
            "Drive already mounted at /gdrive; to attempt to forcibly remount, call drive.mount(\"/gdrive\", force_remount=True).\n"
          ],
          "name": "stdout"
        }
      ]
    },
    {
      "cell_type": "code",
      "metadata": {
        "id": "opueiE0iXvfB",
        "colab_type": "code",
        "colab": {
          "base_uri": "https://localhost:8080/",
          "height": 34
        },
        "outputId": "aee9b49a-5ab9-406e-a95d-b16434cca2e0"
      },
      "source": [
        "import numpy as np\n",
        "trainx = np.load('/gdrive/My Drive/CV Assignment 2/Train_Data/trainx.npy')\n",
        "trainy = np.load('/gdrive/My Drive/CV Assignment 2/Train_Data/trainy.npy')\n",
        "\n",
        "print(trainx.shape,trainy.shape)"
      ],
      "execution_count": 2,
      "outputs": [
        {
          "output_type": "stream",
          "text": [
            "(2318, 512, 512, 3) (2318,)\n"
          ],
          "name": "stdout"
        }
      ]
    },
    {
      "cell_type": "code",
      "metadata": {
        "id": "PEMyajbmX20R",
        "colab_type": "code",
        "colab": {
          "base_uri": "https://localhost:8080/",
          "height": 34
        },
        "outputId": "f731aeff-e098-4421-ed14-605bb60db330"
      },
      "source": [
        "unique, counts = np.unique(trainy, return_counts = True)\n",
        "print(unique, counts)"
      ],
      "execution_count": 3,
      "outputs": [
        {
          "output_type": "stream",
          "text": [
            "[0 1 2] [ 170 1072 1076]\n"
          ],
          "name": "stdout"
        }
      ]
    },
    {
      "cell_type": "code",
      "metadata": {
        "id": "K6JTD--pX5Cr",
        "colab_type": "code",
        "colab": {
          "base_uri": "https://localhost:8080/",
          "height": 68
        },
        "outputId": "f8b7031d-9834-4e9a-d12d-4c40ea204a29"
      },
      "source": [
        "### Data Preprocessing\n",
        "## Find the indices\n",
        "print(np.unique(trainy[0:170]))\n",
        "print(np.unique(trainy[170:170 + 1072]))\n",
        "print(np.unique(trainy[170+1072:170+1072+1076], return_counts=True))"
      ],
      "execution_count": 4,
      "outputs": [
        {
          "output_type": "stream",
          "text": [
            "[0]\n",
            "[1]\n",
            "(array([2]), array([1076]))\n"
          ],
          "name": "stdout"
        }
      ]
    },
    {
      "cell_type": "code",
      "metadata": {
        "id": "dkRPhWvpX-Or",
        "colab_type": "code",
        "colab": {
          "base_uri": "https://localhost:8080/",
          "height": 88
        },
        "outputId": "6b5ee853-771e-4c6e-bfef-2ff486701dae"
      },
      "source": [
        "import numpy as np\n",
        "import pandas as pd\n",
        "import seaborn as sns\n",
        "import matplotlib.pyplot as plt\n",
        "\n",
        "from keras.preprocessing.image import ImageDataGenerator\n",
        "from keras.layers import Dense, GlobalAveragePooling2D\n",
        "from keras.models import Model\n",
        "from keras import backend as K\n",
        "\n",
        "from keras.models import load_model\n"
      ],
      "execution_count": 5,
      "outputs": [
        {
          "output_type": "stream",
          "text": [
            "/usr/local/lib/python3.6/dist-packages/statsmodels/tools/_testing.py:19: FutureWarning: pandas.util.testing is deprecated. Use the functions in the public API at pandas.testing instead.\n",
            "  import pandas.util.testing as tm\n",
            "Using TensorFlow backend.\n"
          ],
          "name": "stderr"
        }
      ]
    },
    {
      "cell_type": "code",
      "metadata": {
        "id": "M3pNb03VYAYl",
        "colab_type": "code",
        "colab": {
          "base_uri": "https://localhost:8080/",
          "height": 68
        },
        "outputId": "21e88214-7f64-4b45-a942-27921a35521c"
      },
      "source": [
        "## Divide the data into three sets to facilitate manual augmentation\n",
        "\n",
        "covid_x = trainx[0:170]\n",
        "covid_y = trainy[0:170]\n",
        "normal_x = trainx[170:170+1072]\n",
        "normal_y = trainy[170:170+1072]\n",
        "pneumonia_x = trainx[170+1072:170+1072+1076]\n",
        "pneumonia_y = trainy[170+1072:170+1072+1076]\n",
        "\n",
        "print(covid_x.shape,covid_y.shape)\n",
        "print(normal_x.shape,normal_y.shape)\n",
        "print(pneumonia_x.shape,pneumonia_y.shape)"
      ],
      "execution_count": 6,
      "outputs": [
        {
          "output_type": "stream",
          "text": [
            "(170, 512, 512, 3) (170,)\n",
            "(1072, 512, 512, 3) (1072,)\n",
            "(1076, 512, 512, 3) (1076,)\n"
          ],
          "name": "stdout"
        }
      ]
    },
    {
      "cell_type": "code",
      "metadata": {
        "id": "P4WM84aKYCXM",
        "colab_type": "code",
        "colab": {}
      },
      "source": [
        "from keras.preprocessing.image import ImageDataGenerator\n",
        "\n",
        "datagen = ImageDataGenerator(rescale = 1./255,\n",
        "                             rotation_range = 90,\n",
        "                             width_shift_range = [0.2,0.2,0],\n",
        "                             height_shift_range =[0.2,0.2,0],\n",
        "                             fill_mode = 'constant',\n",
        "                             zoom_range=[1,1.10],\n",
        "                             cval = 0.0)"
      ],
      "execution_count": 0,
      "outputs": []
    },
    {
      "cell_type": "code",
      "metadata": {
        "id": "9e9qw5eWYFle",
        "colab_type": "code",
        "colab": {
          "base_uri": "https://localhost:8080/",
          "height": 269
        },
        "outputId": "0cded6ed-57c5-4ff5-8179-d41d27f29e6a"
      },
      "source": [
        "for Xbatch,Ybatch in datagen.flow(covid_x,covid_y,batch_size = 1,shuffle = False):\n",
        "  plt.imshow(Xbatch[0])\n",
        "  break"
      ],
      "execution_count": 8,
      "outputs": [
        {
          "output_type": "display_data",
          "data": {
            "image/png": "[encoded data removed]",
            "text/plain": [
              "<Figure size 432x288 with 1 Axes>"
            ]
          },
          "metadata": {
            "tags": [],
            "needs_background": "light"
          }
        }
      ]
    },
    {
      "cell_type": "code",
      "metadata": {
        "id": "6uKPgugwYIle",
        "colab_type": "code",
        "colab": {
          "base_uri": "https://localhost:8080/",
          "height": 34
        },
        "outputId": "30c56b85-b88c-4c32-f3ee-bbcd0eced342"
      },
      "source": [
        "num_images = 0\n",
        "augmented_covid_x = []\n",
        "augmented_covid_y = []\n",
        "# augmented_covid_x = np.array(covid_x)\n",
        "# augmented_covid_y = np.array(covid_y)\n",
        "print(len(augmented_covid_x), len(augmented_covid_y))\n",
        "\n",
        "# augmented_covid_y.append(covid_y)\n"
      ],
      "execution_count": 12,
      "outputs": [
        {
          "output_type": "stream",
          "text": [
            "0 0\n"
          ],
          "name": "stdout"
        }
      ]
    },
    {
      "cell_type": "code",
      "metadata": {
        "id": "QJnRdzA6YNPT",
        "colab_type": "code",
        "colab": {
          "base_uri": "https://localhost:8080/",
          "height": 748
        },
        "outputId": "2337ffe6-6922-4765-9b3c-d49a7943ab6d"
      },
      "source": [
        "for Xbatch,Ybatch in datagen.flow(covid_x,covid_y,batch_size = 64, shuffle = False):\n",
        "  augmented_covid_x.append(Xbatch)\n",
        "  augmented_covid_y.append(Ybatch)\n",
        "  # augmented_covid_x = np.concatenate((augmented_covid_x,Xbatch), axis = 0)\n",
        "  # augmented_covid_y = np.concatenate((augmented_covid_y,Ybatch), axis = 0)\n",
        "  num_images += 64\n",
        "  print(num_images)\n",
        "  if num_images >= 2600:\n",
        "    break\n",
        "augmented_covid_x = np.concatenate(augmented_covid_x, axis = 0)\n",
        "augmented_covid_y = np.concatenate(augmented_covid_y, axis = 0)\n",
        "print(augmented_covid_x.shape, augmented_covid_y.shape)\n",
        "augmented_covid_x = np.concatenate((augmented_covid_x,covid_x), axis = 0)\n",
        "augmented_covid_y = np.concatenate((augmented_covid_y,covid_y), axis = 0)\n",
        "print(augmented_covid_x.shape, augmented_covid_y.shape)"
      ],
      "execution_count": 13,
      "outputs": [
        {
          "output_type": "stream",
          "text": [
            "64\n",
            "128\n",
            "192\n",
            "256\n",
            "320\n",
            "384\n",
            "448\n",
            "512\n",
            "576\n",
            "640\n",
            "704\n",
            "768\n",
            "832\n",
            "896\n",
            "960\n",
            "1024\n",
            "1088\n",
            "1152\n",
            "1216\n",
            "1280\n",
            "1344\n",
            "1408\n",
            "1472\n",
            "1536\n",
            "1600\n",
            "1664\n",
            "1728\n",
            "1792\n",
            "1856\n",
            "1920\n",
            "1984\n",
            "2048\n",
            "2112\n",
            "2176\n",
            "2240\n",
            "2304\n",
            "2368\n",
            "2432\n",
            "2496\n",
            "2560\n",
            "2624\n",
            "(2338, 512, 512, 3) (2338,)\n",
            "(2508, 512, 512, 3) (2508,)\n"
          ],
          "name": "stdout"
        }
      ]
    },
    {
      "cell_type": "code",
      "metadata": {
        "id": "eV2DKgGRY07G",
        "colab_type": "code",
        "colab": {}
      },
      "source": [
        "norpneu_generator = ImageDataGenerator(\n",
        "    rescale = 1./255,\n",
        "    rotation_range = 45\n",
        ")"
      ],
      "execution_count": 0,
      "outputs": []
    },
    {
      "cell_type": "code",
      "metadata": {
        "id": "1X1o3cvBa1ii",
        "colab_type": "code",
        "colab": {}
      },
      "source": [
        "num_images = 0\n",
        "augmented_normal_x = []\n",
        "augmented_normal_y = []\n",
        "\n",
        "for Xbatch,Ybatch in norpneu_generator.flow(normal_x,normal_y,batch_size = 64, shuffle = False):\n",
        "  augmented_normal_x.append(Xbatch)\n",
        "  augmented_normal_y.append(Ybatch)\n",
        "  num_images += 64\n",
        "  # print(num_images)\n",
        "  if num_images >= 2600:\n",
        "    break\n",
        "augmented_normal_x = np.concatenate(augmented_covid_x, axis = 0)\n",
        "augmented_covid_y = np.concatenate(augmented_covid_y, axis = 0)\n",
        "print(augmented_covid_x.shape, augmented_covid_y.shape)\n",
        "augmented_covid_x = np.concatenate((augmented_covid_x,covid_x), axis = 0)\n",
        "augmented_covid_y = np.concatenate((augmented_covid_y,covid_y), axis = 0)\n",
        "print(augmented_covid_x.shape, augmented_covid_y.shape)\n"
      ],
      "execution_count": 0,
      "outputs": []
    },
    {
      "cell_type": "code",
      "metadata": {
        "id": "Sw-9Wli6bRQQ",
        "colab_type": "code",
        "colab": {}
      },
      "source": [
        "def augmented_images(X,Y, generator , batch_size, estimated_size,shuffle = False):\n",
        "  num_images = 0\n",
        "  augmented_x = []\n",
        "  augmented_y = []\n",
        "\n",
        "  for Xbatch,Ybatch in generator.flow(X,Y,batch_size = batch_size, shuffle = shuffle):\n",
        "    augmented_x.append(Xbatch)\n",
        "    augmented_y.append(Ybatch)\n",
        "    num_images += batch_size\n",
        "    # print(num_images)\n",
        "    if num_images >= estimated_size:\n",
        "      break\n",
        "  augmented_x = np.concatenate(augmented_x,axis = 0)\n",
        "  augmented_y = np.concatenate(augmented_y,axis = 0)\n",
        "\n",
        "  augmented_x = np.concatenate((augmented_x,X), axis= 0)\n",
        "  augmented_y = np.concatenate((augmented_y,Y), axis = 0)\n",
        "\n",
        "  return augmented_x,augmented_y"
      ],
      "execution_count": 0,
      "outputs": []
    },
    {
      "cell_type": "code",
      "metadata": {
        "id": "_oD7uCrwcTT-",
        "colab_type": "code",
        "colab": {}
      },
      "source": [
        "augmented_covid_x, augmented_covid_y = augmented_images(covid_x,covid_y, datagen, 64, 2500)\n",
        "print(augmented_covid_x.shape, augmented_covid_y.shape)\n",
        "np.save('/gdrive/My Drive/CV Assignment 2/Augmented_data/augmented_covid_x.npy', augmented_covid_x)\n",
        "np.save('/gdrive/My Drive/CV Assignment 2/Augmented_data/augmented_covid_y.npy', augmented_covid_y)\n",
        "del augmented_covid_x\n",
        "del augmented_covid_y"
      ],
      "execution_count": 0,
      "outputs": []
    },
    {
      "cell_type": "code",
      "metadata": {
        "id": "D_nSKQDLcoPn",
        "colab_type": "code",
        "colab": {}
      },
      "source": [
        "augmented_normal_x, augmented_normal_y = augmented_images(normal_x, normal_y,norpneu_generator, 64, 1800,False)\n",
        "print(augmented_normal_x.shape, augmented_normal_y.shape)\n",
        "np.save('/gdrive/My Drive/CV Assignment 2/Augmented_data/augmented_normal_x.npy', augmented_normal_x)\n",
        "np.save('/gdrive/My Drive/CV Assignment 2/Augmented_data/augmented_normal_y.npy', augmented_normal_y)\n",
        "del augmented_normal_x\n",
        "del augmented_normal_y"
      ],
      "execution_count": 0,
      "outputs": []
    },
    {
      "cell_type": "code",
      "metadata": {
        "id": "6EmmlyERegwJ",
        "colab_type": "code",
        "colab": {}
      },
      "source": [
        "augmented_pneumonia_x, augmented_pneumonia_y = augmented_images(pneumonia_x,penumonia_y, norpneu_generator, 64, 1800, False)\n",
        "print(augmented_pneumonia_x.shape)\n",
        "np.save('/gdrive/My Drive/CV Assignment 2/Augmented_data/augmented_pneumonia_x.npy', augmented_pneumonia_x)\n",
        "np.save('/gdrive/My Drive/CV Assignment 2/Augmented_data/augmented_pneumonia_y.npy', augmented_pneumonia_y)\n",
        "del augmented_pneumonia_x\n",
        "del augmented_pneumonia_y"
      ],
      "execution_count": 0,
      "outputs": []
    }
  ]
}