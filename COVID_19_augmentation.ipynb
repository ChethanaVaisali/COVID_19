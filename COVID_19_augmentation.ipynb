{
  "nbformat": 4,
  "nbformat_minor": 0,
  "metadata": {
    "colab": {
      "name": "COVID_19_augmentation.ipynb",
      "provenance": [],
      "collapsed_sections": [],
      "machine_shape": "hm",
      "include_colab_link": true
    },
    "kernelspec": {
      "name": "python3",
      "display_name": "Python 3"
    },
    "accelerator": "GPU"
  },
  "cells": [
    {
      "cell_type": "markdown",
      "metadata": {
        "id": "view-in-github",
        "colab_type": "text"
      },
      "source": [
        "<a href=\"https://colab.research.google.com/github/ChethanaVaisali/COVID_19/blob/master/COVID_19_augmentation.ipynb\" target=\"_parent\"><img src=\"https://colab.research.google.com/assets/colab-badge.svg\" alt=\"Open In Colab\"/></a>"
      ]
    },
    {
      "cell_type": "markdown",
      "metadata": {
        "id": "gdiokwx204Nc",
        "colab_type": "text"
      },
      "source": [
        "# Data Augmentation"
      ]
    },
    {
      "cell_type": "code",
      "metadata": {
        "id": "jVwn95cbXsWa",
        "colab_type": "code",
        "colab": {
          "base_uri": "https://localhost:8080/",
          "height": 34
        },
        "outputId": "ad2a865b-a98d-4a9f-e598-a329c045b074"
      },
      "source": [
        "# Import google drive\n",
        "from google.colab import drive\n",
        "drive.mount('/gdrive')"
      ],
      "execution_count": 1,
      "outputs": [
        {
          "output_type": "stream",
          "text": [
            "Drive already mounted at /gdrive; to attempt to forcibly remount, call drive.mount(\"/gdrive\", force_remount=True).\n"
          ],
          "name": "stdout"
        }
      ]
    },
    {
      "cell_type": "code",
      "metadata": {
        "id": "opueiE0iXvfB",
        "colab_type": "code",
        "colab": {
          "base_uri": "https://localhost:8080/",
          "height": 34
        },
        "outputId": "455a87b8-b90c-452d-fabf-97243a5e2405"
      },
      "source": [
        "## Load data from the drive\n",
        "import numpy as np\n",
        "trainx = np.load('/gdrive/My Drive/CV Assignment 2/Train_Data/227X227_trainx.npy')\n",
        "trainy = np.load('/gdrive/My Drive/CV Assignment 2/Train_Data/trainy.npy')\n",
        "\n",
        "print(trainx.shape,trainy.shape)"
      ],
      "execution_count": 2,
      "outputs": [
        {
          "output_type": "stream",
          "text": [
            "(2318, 227, 227, 3) (2318,)\n"
          ],
          "name": "stdout"
        }
      ]
    },
    {
      "cell_type": "code",
      "metadata": {
        "id": "UzbAXrDav0SK",
        "colab_type": "code",
        "colab": {
          "base_uri": "https://localhost:8080/",
          "height": 34
        },
        "outputId": "566b2f5b-c492-413a-a9cf-481c651cb761"
      },
      "source": [
        "## Reduce Images\n",
        "import cv2\n",
        "WIDTH = 227\n",
        "HEIGHT = 227\n",
        "reduced_images=[]\n",
        "for img in trainx:\n",
        "  reduced_images.append(np.expand_dims(cv2.resize(img,(WIDTH,HEIGHT) , interpolation = cv2.INTER_CUBIC),0))\n",
        "  \n",
        "reduced_images = np.concatenate(reduced_images)\n",
        "reduced_images.shape"
      ],
      "execution_count": 6,
      "outputs": [
        {
          "output_type": "execute_result",
          "data": {
            "text/plain": [
              "(2318, 227, 227, 3)"
            ]
          },
          "metadata": {
            "tags": []
          },
          "execution_count": 6
        }
      ]
    },
    {
      "cell_type": "markdown",
      "metadata": {
        "id": "Wm7hJqwd4Ule",
        "colab_type": "text"
      },
      "source": [
        "### Saving 227 X 227 Images"
      ]
    },
    {
      "cell_type": "code",
      "metadata": {
        "id": "x34kVtglxkGY",
        "colab_type": "code",
        "colab": {}
      },
      "source": [
        "np.save('/gdrive/My Drive/CV Assignment 2/Train_Data/227X227_trainx.npy',reduced_images)"
      ],
      "execution_count": 0,
      "outputs": []
    },
    {
      "cell_type": "code",
      "metadata": {
        "id": "PEMyajbmX20R",
        "colab_type": "code",
        "colab": {
          "base_uri": "https://localhost:8080/",
          "height": 34
        },
        "outputId": "84cb317b-cacd-49f7-c2df-d4f9e685ee74"
      },
      "source": [
        "unique, counts = np.unique(trainy, return_counts = True)\n",
        "print(unique, counts)"
      ],
      "execution_count": 3,
      "outputs": [
        {
          "output_type": "stream",
          "text": [
            "[0 1 2] [ 170 1072 1076]\n"
          ],
          "name": "stdout"
        }
      ]
    },
    {
      "cell_type": "code",
      "metadata": {
        "id": "K6JTD--pX5Cr",
        "colab_type": "code",
        "colab": {
          "base_uri": "https://localhost:8080/",
          "height": 68
        },
        "outputId": "3af22258-b660-40e1-a3e4-2324a945b2c3"
      },
      "source": [
        "### Data Preprocessing\n",
        "## Find the indices\n",
        "print(np.unique(trainy[0:170]))\n",
        "print(np.unique(trainy[170:170 + 1072]))\n",
        "print(np.unique(trainy[170+1072:170+1072+1076], return_counts=True))"
      ],
      "execution_count": 4,
      "outputs": [
        {
          "output_type": "stream",
          "text": [
            "[0]\n",
            "[1]\n",
            "(array([2]), array([1076]))\n"
          ],
          "name": "stdout"
        }
      ]
    },
    {
      "cell_type": "code",
      "metadata": {
        "id": "dkRPhWvpX-Or",
        "colab_type": "code",
        "colab": {
          "base_uri": "https://localhost:8080/",
          "height": 88
        },
        "outputId": "78419a22-c5a3-4ade-afd2-30f5abe22314"
      },
      "source": [
        "import numpy as np\n",
        "import pandas as pd\n",
        "import seaborn as sns\n",
        "import matplotlib.pyplot as plt\n",
        "\n",
        "from keras.preprocessing.image import ImageDataGenerator\n",
        "from keras.layers import Dense, GlobalAveragePooling2D\n",
        "from keras.models import Model\n",
        "from keras import backend as K\n",
        "\n",
        "from keras.models import load_model\n"
      ],
      "execution_count": 5,
      "outputs": [
        {
          "output_type": "stream",
          "text": [
            "/usr/local/lib/python3.6/dist-packages/statsmodels/tools/_testing.py:19: FutureWarning: pandas.util.testing is deprecated. Use the functions in the public API at pandas.testing instead.\n",
            "  import pandas.util.testing as tm\n",
            "Using TensorFlow backend.\n"
          ],
          "name": "stderr"
        }
      ]
    },
    {
      "cell_type": "code",
      "metadata": {
        "id": "M3pNb03VYAYl",
        "colab_type": "code",
        "colab": {
          "base_uri": "https://localhost:8080/",
          "height": 68
        },
        "outputId": "d6ea47a8-a370-4e94-b2f7-efc7226c6e64"
      },
      "source": [
        "## Divide the data into three sets to facilitate manual augmentation\n",
        "\n",
        "covid_x = trainx[0:170]\n",
        "covid_y = trainy[0:170]\n",
        "normal_x = trainx[170:170+1072]\n",
        "normal_y = trainy[170:170+1072]\n",
        "pneumonia_x = trainx[170+1072:170+1072+1076]\n",
        "pneumonia_y = trainy[170+1072:170+1072+1076]\n",
        "\n",
        "print(covid_x.shape,covid_y.shape)\n",
        "print(normal_x.shape,normal_y.shape)\n",
        "print(pneumonia_x.shape,pneumonia_y.shape)"
      ],
      "execution_count": 6,
      "outputs": [
        {
          "output_type": "stream",
          "text": [
            "(170, 227, 227, 3) (170,)\n",
            "(1072, 227, 227, 3) (1072,)\n",
            "(1076, 227, 227, 3) (1076,)\n"
          ],
          "name": "stdout"
        }
      ]
    },
    {
      "cell_type": "code",
      "metadata": {
        "id": "Jz7IXUYXnkeH",
        "colab_type": "code",
        "colab": {
          "base_uri": "https://localhost:8080/",
          "height": 68
        },
        "outputId": "6b5c6769-be72-4da5-da2f-b08ec50b9ffd"
      },
      "source": [
        "## Dividing into train, validation and test sets\n",
        "from sklearn.model_selection import train_test_split\n",
        "\n",
        "trvalid_cx, test_cx, trvalid_cy, test_cy = train_test_split(covid_x,covid_y, test_size = 0.20, shuffle = True)\n",
        "train_cx, valid_cx, train_cy, valid_cy = train_test_split(trvalid_cx, trvalid_cy, test_size = 0.20, shuffle = True)\n",
        "\n",
        "trvalid_nx, test_nx, trvalid_ny, test_ny = train_test_split(normal_x,normal_y, test_size = 0.20, shuffle = True)\n",
        "train_nx, valid_nx, train_ny, valid_ny = train_test_split(trvalid_nx, trvalid_ny, test_size = 0.20, shuffle = True)\n",
        "\n",
        "trvalid_px, test_px, trvalid_py, test_py = train_test_split(pneumonia_x, pneumonia_y, test_size = 0.20, shuffle = True)\n",
        "train_px, valid_px, train_py, valid_py = train_test_split(trvalid_px, trvalid_py, test_size = 0.20, shuffle = True)\n",
        "\n",
        "print(train_cx.shape, train_cy.shape, train_nx.shape, train_ny.shape, train_px.shape, train_py.shape)\n",
        "print(valid_cx.shape, valid_cy.shape, valid_nx.shape, valid_ny.shape, valid_px.shape, valid_py.shape)\n",
        "print(test_cx.shape,test_cy.shape, test_nx.shape, test_ny.shape, test_px.shape, test_py.shape)\n"
      ],
      "execution_count": 7,
      "outputs": [
        {
          "output_type": "stream",
          "text": [
            "(108, 227, 227, 3) (108,) (685, 227, 227, 3) (685,) (688, 227, 227, 3) (688,)\n",
            "(28, 227, 227, 3) (28,) (172, 227, 227, 3) (172,) (172, 227, 227, 3) (172,)\n",
            "(34, 227, 227, 3) (34,) (215, 227, 227, 3) (215,) (216, 227, 227, 3) (216,)\n"
          ],
          "name": "stdout"
        }
      ]
    },
    {
      "cell_type": "markdown",
      "metadata": {
        "id": "gv1WJFP14cul",
        "colab_type": "text"
      },
      "source": [
        "### Data Generator for COVID-19 Data"
      ]
    },
    {
      "cell_type": "code",
      "metadata": {
        "id": "P4WM84aKYCXM",
        "colab_type": "code",
        "colab": {}
      },
      "source": [
        "from keras.preprocessing.image import ImageDataGenerator\n",
        "\n",
        "datagen = ImageDataGenerator(rescale = 1./255,\n",
        "                             rotation_range = 90,\n",
        "                             width_shift_range = [0.2,0.2,0],\n",
        "                             height_shift_range =[0.2,0.2,0],\n",
        "                             fill_mode = 'constant',\n",
        "                             zoom_range=[1,1.10],\n",
        "                             cval = 0.0)"
      ],
      "execution_count": 0,
      "outputs": []
    },
    {
      "cell_type": "markdown",
      "metadata": {
        "id": "sycdBg4_5E4_",
        "colab_type": "text"
      },
      "source": [
        "### Data Generator for Normal and viral pneumonia data"
      ]
    },
    {
      "cell_type": "code",
      "metadata": {
        "id": "eV2DKgGRY07G",
        "colab_type": "code",
        "colab": {}
      },
      "source": [
        "norpneu_generator = ImageDataGenerator(\n",
        "    rescale = 1./255,\n",
        "    rotation_range = 45\n",
        ")"
      ],
      "execution_count": 0,
      "outputs": []
    },
    {
      "cell_type": "markdown",
      "metadata": {
        "id": "wcCcIFJN5Lds",
        "colab_type": "text"
      },
      "source": [
        "## Augmentation Function\n",
        "Since there are very few samples of COVID-19 data relative to normal and viral pnemonia patients, there is high class imbalance. The COVID data has to be oversampled."
      ]
    },
    {
      "cell_type": "code",
      "metadata": {
        "id": "Sw-9Wli6bRQQ",
        "colab_type": "code",
        "colab": {}
      },
      "source": [
        "def augmented_images(X,Y, generator , batch_size, estimated_size,shuffle = False):\n",
        "  num_images = 0\n",
        "  augmented_x = []\n",
        "  augmented_y = []\n",
        "\n",
        "  for Xbatch,Ybatch in generator.flow(X,Y,batch_size = batch_size,shuffle = shuffle):\n",
        "    augmented_x.append(Xbatch)\n",
        "    augmented_y.append(Ybatch)\n",
        "    num_images += batch_size\n",
        "    # print(num_images)\n",
        "    if num_images >= estimated_size:\n",
        "      break\n",
        "  augmented_x = np.concatenate(augmented_x,axis = 0)\n",
        "  augmented_y = np.concatenate(augmented_y,axis = 0)\n",
        "\n",
        "  augmented_x = np.concatenate((augmented_x,X), axis= 0)\n",
        "  augmented_y = np.concatenate((augmented_y,Y), axis = 0)\n",
        "\n",
        "  return augmented_x,augmented_y"
      ],
      "execution_count": 0,
      "outputs": []
    },
    {
      "cell_type": "code",
      "metadata": {
        "id": "8fOuFI2ip2VL",
        "colab_type": "code",
        "colab": {
          "base_uri": "https://localhost:8080/",
          "height": 51
        },
        "outputId": "b9c33e6f-6bb9-4ff8-fb9d-bb7b14de90b6"
      },
      "source": [
        "aug_train_cx, aug_train_cy = augmented_images(train_cx, train_cy, datagen, 64, 1600)\n",
        "print(aug_train_cx.shape, aug_train_cy.shape)\n",
        "aug_valid_cx, aug_valid_cy = augmented_images(valid_cx, valid_cy, datagen, 64, 400)\n",
        "print(aug_valid_cx.shape, aug_valid_cy.shape)"
      ],
      "execution_count": 12,
      "outputs": [
        {
          "output_type": "stream",
          "text": [
            "(1468, 227, 227, 3) (1468,)\n",
            "(224, 227, 227, 3) (224,)\n"
          ],
          "name": "stdout"
        }
      ]
    },
    {
      "cell_type": "code",
      "metadata": {
        "id": "hPsM2MYMr2ii",
        "colab_type": "code",
        "colab": {
          "base_uri": "https://localhost:8080/",
          "height": 51
        },
        "outputId": "99b94d2a-d461-4ad4-caf7-6dd207d30e82"
      },
      "source": [
        "aug_train_nx, aug_train_ny = augmented_images(train_nx, train_ny, norpneu_generator,64, 800)\n",
        "print(aug_train_nx.shape, aug_train_ny.shape)\n",
        "aug_valid_nx, aug_valid_ny = augmented_images(valid_nx, valid_ny, norpneu_generator, 64, 300)\n",
        "print(aug_valid_nx.shape, aug_valid_ny.shape)"
      ],
      "execution_count": 13,
      "outputs": [
        {
          "output_type": "stream",
          "text": [
            "(1498, 227, 227, 3) (1498,)\n",
            "(472, 227, 227, 3) (472,)\n"
          ],
          "name": "stdout"
        }
      ]
    },
    {
      "cell_type": "code",
      "metadata": {
        "id": "M2-QLxVltio2",
        "colab_type": "code",
        "colab": {
          "base_uri": "https://localhost:8080/",
          "height": 51
        },
        "outputId": "001bc4c2-643f-4a28-f40c-92f0faef4fee"
      },
      "source": [
        "aug_train_px, aug_train_py = augmented_images(train_px,train_py, norpneu_generator, 64, 800)\n",
        "print(aug_train_px.shape, aug_train_py.shape)\n",
        "aug_valid_px, aug_valid_py = augmented_images(valid_px, valid_py, norpneu_generator,64,300)\n",
        "print(aug_valid_px.shape, aug_valid_py.shape)"
      ],
      "execution_count": 14,
      "outputs": [
        {
          "output_type": "stream",
          "text": [
            "(1504, 227, 227, 3) (1504,)\n",
            "(472, 227, 227, 3) (472,)\n"
          ],
          "name": "stdout"
        }
      ]
    },
    {
      "cell_type": "code",
      "metadata": {
        "id": "nGBNl6kmuMDZ",
        "colab_type": "code",
        "colab": {}
      },
      "source": [
        "## Test data are not normalized\n",
        "test_cx = test_cx/255\n",
        "test_nx = test_nx/255\n",
        "test_px = test_px/255"
      ],
      "execution_count": 0,
      "outputs": []
    },
    {
      "cell_type": "code",
      "metadata": {
        "id": "qNPb5P8QuYzS",
        "colab_type": "code",
        "colab": {
          "base_uri": "https://localhost:8080/",
          "height": 68
        },
        "outputId": "40e64d46-4a9f-41bb-a136-069d252edcda"
      },
      "source": [
        "## Combining all the covid_19, normal and pneumonia data\n",
        "train_x = np.concatenate((aug_train_cx, aug_train_nx, aug_train_px), axis = 0)\n",
        "train_y = np.concatenate((aug_train_cy,aug_train_ny,aug_train_py), axis = 0)\n",
        "print(train_x.shape, train_y.shape)\n",
        "\n",
        "valid_x = np.concatenate((aug_valid_cx, aug_valid_nx, aug_valid_px), axis = 0)\n",
        "valid_y = np.concatenate((aug_valid_cy, aug_valid_ny, aug_valid_py), axis = 0)\n",
        "print(valid_x.shape, valid_y.shape)\n",
        "\n",
        "test_x = np.concatenate((test_cx,test_nx,test_px),axis = 0)\n",
        "test_y = np.concatenate((test_cy,test_ny,test_py), axis = 0)\n",
        "print(test_x.shape,test_y.shape)\n"
      ],
      "execution_count": 16,
      "outputs": [
        {
          "output_type": "stream",
          "text": [
            "(4470, 227, 227, 3) (4470,)\n",
            "(1168, 227, 227, 3) (1168,)\n",
            "(465, 227, 227, 3) (465,)\n"
          ],
          "name": "stdout"
        }
      ]
    },
    {
      "cell_type": "code",
      "metadata": {
        "id": "YrDHfs61zbzj",
        "colab_type": "code",
        "colab": {}
      },
      "source": [
        "np.save('/gdrive/My Drive/CV Assignment 2/Augmented_data/train_x.npy', train_x)\n",
        "np.save('/gdrive/My Drive/CV Assignment 2/Augmented_data/train_y.npy', train_y)\n",
        "np.save('/gdrive/My Drive/CV Assignment 2/Augmented_data/valid_x.npy', valid_x)\n",
        "np.save('/gdrive/My Drive/CV Assignment 2/Augmented_data/valid_y.npy', valid_y)\n",
        "np.save('/gdrive/My Drive/CV Assignment 2/Augmented_data/test_x.npy',test_x)\n",
        "np.save('/gdrive/My Drive/CV Assignment 2/Augmented_data/test_y.npy',test_y)"
      ],
      "execution_count": 0,
      "outputs": []
    },
    {
      "cell_type": "code",
      "metadata": {
        "id": "UKGxKeVuz_Hj",
        "colab_type": "code",
        "colab": {}
      },
      "source": [
        ""
      ],
      "execution_count": 0,
      "outputs": []
    }
  ]
}