{
  "nbformat": 4,
  "nbformat_minor": 0,
  "metadata": {
    "colab": {
      "name": "COVID_19_squeezenet.ipynb",
      "provenance": [],
      "collapsed_sections": [],
      "machine_shape": "hm",
      "include_colab_link": true
    },
    "kernelspec": {
      "name": "python3",
      "display_name": "Python 3"
    },
    "accelerator": "GPU"
  },
  "cells": [
    {
      "cell_type": "markdown",
      "metadata": {
        "id": "view-in-github",
        "colab_type": "text"
      },
      "source": [
        "<a href=\"https://colab.research.google.com/github/ChethanaVaisali/COVID_19/blob/master/COVID_19_squeezenet.ipynb\" target=\"_parent\"><img src=\"https://colab.research.google.com/assets/colab-badge.svg\" alt=\"Open In Colab\"/></a>"
      ]
    },
    {
      "cell_type": "markdown",
      "metadata": {
        "id": "iLTEiH3A6dbZ",
        "colab_type": "text"
      },
      "source": [
        "# **SqueezeNet For COVID-19**"
      ]
    },
    {
      "cell_type": "markdown",
      "metadata": {
        "id": "ex3q0R9K6lAJ",
        "colab_type": "text"
      },
      "source": [
        "### Import data"
      ]
    },
    {
      "cell_type": "code",
      "metadata": {
        "id": "PVL_2MpL6hLw",
        "colab_type": "code",
        "outputId": "bdb9cc15-4134-48c8-ab82-a718b5fa9077",
        "colab": {
          "base_uri": "https://localhost:8080/",
          "height": 122
        }
      },
      "source": [
        "# Mount google drive\n",
        "from google.colab import drive\n",
        "drive.mount('/gdrive')"
      ],
      "execution_count": 1,
      "outputs": [
        {
          "output_type": "stream",
          "text": [
            "Go to this URL in a browser: https://accounts.google.com/o/oauth2/auth?client_id=947318989803-6bn6qk8qdgf4n4g3pfee6491hc0brc4i.apps.googleusercontent.com&redirect_uri=urn%3aietf%3awg%3aoauth%3a2.0%3aoob&response_type=code&scope=email%20https%3a%2f%2fwww.googleapis.com%2fauth%2fdocs.test%20https%3a%2f%2fwww.googleapis.com%2fauth%2fdrive%20https%3a%2f%2fwww.googleapis.com%2fauth%2fdrive.photos.readonly%20https%3a%2f%2fwww.googleapis.com%2fauth%2fpeopleapi.readonly\n",
            "\n",
            "Enter your authorization code:\n",
            "··········\n",
            "Mounted at /gdrive\n"
          ],
          "name": "stdout"
        }
      ]
    },
    {
      "cell_type": "code",
      "metadata": {
        "id": "Ay3zDjNt7u5-",
        "colab_type": "code",
        "outputId": "72b0c62c-d869-4f04-c50a-2af2488073c5",
        "colab": {
          "base_uri": "https://localhost:8080/",
          "height": 34
        }
      },
      "source": [
        "import keras\n",
        "from keras import backend as K\n",
        "from keras.models import Model, load_model, Sequential\n",
        "from keras.layers import Input, BatchNormalization, Activation, Dense, Dropout, Add, Flatten\n",
        "from keras.layers.core import Lambda, RepeatVector, Reshape\n",
        "from keras.layers.convolutional import Conv2D, Conv2DTranspose\n",
        "from keras.layers.pooling import GlobalMaxPool2D, MaxPooling2D, MaxPool2D, GlobalAveragePooling2D\n",
        "from keras.layers.merge import concatenate, add\n",
        "from keras.callbacks import EarlyStopping, ModelCheckpoint, ReduceLROnPlateau\n",
        "from keras.optimizers import Adam\n",
        "from keras.preprocessing.image import ImageDataGenerator, array_to_img, img_to_array, load_img\n",
        "from keras import regularizers, optimizers"
      ],
      "execution_count": 2,
      "outputs": [
        {
          "output_type": "stream",
          "text": [
            "Using TensorFlow backend.\n"
          ],
          "name": "stderr"
        }
      ]
    },
    {
      "cell_type": "code",
      "metadata": {
        "id": "jhX5tKwK6sob",
        "colab_type": "code",
        "outputId": "bd719dc6-667e-420f-a230-3f69dcee1dbf",
        "colab": {
          "base_uri": "https://localhost:8080/",
          "height": 68
        }
      },
      "source": [
        "import numpy as np\n",
        "\n",
        "train_x = np.load('/gdrive/My Drive/CV Assignment 2/Augmented_data/train_x_256x256.npy')\n",
        "train_y = np.load('/gdrive/My Drive/CV Assignment 2/Augmented_data/train_y_256x256.npy')\n",
        "\n",
        "valid_x = np.load('/gdrive/My Drive/CV Assignment 2/Augmented_data/val_x_256x256.npy')\n",
        "valid_y = np.load('/gdrive/My Drive/CV Assignment 2/Augmented_data/val_y_256x256.npy')\n",
        "\n",
        "test_x = np.load('/gdrive/My Drive/CV Assignment 2/Augmented_data/test_x_256x256.npy')\n",
        "test_y = np.load('/gdrive/My Drive/CV Assignment 2/Augmented_data/test_y_256x256.npy')\n",
        "\n",
        "print(train_x.shape, train_y.shape)\n",
        "print(valid_x.shape, valid_y.shape)\n",
        "print(test_x.shape, test_y.shape)"
      ],
      "execution_count": 3,
      "outputs": [
        {
          "output_type": "stream",
          "text": [
            "(4136, 256, 256, 3) (4136,)\n",
            "(1035, 256, 256, 3) (1035,)\n",
            "(464, 256, 256, 3) (464,)\n"
          ],
          "name": "stdout"
        }
      ]
    },
    {
      "cell_type": "code",
      "metadata": {
        "id": "evit5EV1-_gU",
        "colab_type": "code",
        "outputId": "b081691e-bddf-49d6-c8a6-039fae76cbdd",
        "colab": {
          "base_uri": "https://localhost:8080/",
          "height": 34
        }
      },
      "source": [
        "## Convert y to one hot encoding\n",
        "\n",
        "train_y = keras.utils.to_categorical(train_y)\n",
        "valid_y = keras.utils.to_categorical(valid_y)\n",
        "test_y = keras.utils.to_categorical(test_y)\n",
        "\n",
        "print(train_y.size, valid_y.size, test_y.size)"
      ],
      "execution_count": 4,
      "outputs": [
        {
          "output_type": "stream",
          "text": [
            "12408 3105 1392\n"
          ],
          "name": "stdout"
        }
      ]
    },
    {
      "cell_type": "code",
      "metadata": {
        "id": "6fiu-c-dLX4v",
        "colab_type": "code",
        "colab": {}
      },
      "source": [
        "train_x = train_x/255\n",
        "valid_x  = valid_x/255\n",
        "test_x = test_x/255"
      ],
      "execution_count": 0,
      "outputs": []
    },
    {
      "cell_type": "code",
      "metadata": {
        "id": "vR0r4mqA7U0O",
        "colab_type": "code",
        "outputId": "da8e7e5c-05dd-4cf4-8b97-8b633320aec5",
        "colab": {
          "base_uri": "https://localhost:8080/",
          "height": 1000
        }
      },
      "source": [
        "!pip install git+https://github.com/rcmalli/keras-squeezenet.git\n",
        "!pip install keras_squeezenet"
      ],
      "execution_count": 6,
      "outputs": [
        {
          "output_type": "stream",
          "text": [
            "Collecting git+https://github.com/rcmalli/keras-squeezenet.git\n",
            "  Cloning https://github.com/rcmalli/keras-squeezenet.git to /tmp/pip-req-build-09rurjy1\n",
            "  Running command git clone -q https://github.com/rcmalli/keras-squeezenet.git /tmp/pip-req-build-09rurjy1\n",
            "Requirement already satisfied: numpy>=1.9.1 in /usr/local/lib/python3.6/dist-packages (from keras-squeezenet==0.4) (1.18.4)\n",
            "Requirement already satisfied: scipy>=0.14 in /usr/local/lib/python3.6/dist-packages (from keras-squeezenet==0.4) (1.4.1)\n",
            "Requirement already satisfied: h5py in /usr/local/lib/python3.6/dist-packages (from keras-squeezenet==0.4) (2.10.0)\n",
            "Requirement already satisfied: tensorflow in /usr/local/lib/python3.6/dist-packages (from keras-squeezenet==0.4) (2.2.0)\n",
            "Requirement already satisfied: keras in /usr/local/lib/python3.6/dist-packages (from keras-squeezenet==0.4) (2.3.1)\n",
            "Requirement already satisfied: six>=1.9.0 in /usr/local/lib/python3.6/dist-packages (from keras-squeezenet==0.4) (1.12.0)\n",
            "Requirement already satisfied: pyyaml in /usr/local/lib/python3.6/dist-packages (from keras-squeezenet==0.4) (3.13)\n",
            "Requirement already satisfied: absl-py>=0.7.0 in /usr/local/lib/python3.6/dist-packages (from tensorflow->keras-squeezenet==0.4) (0.9.0)\n",
            "Requirement already satisfied: tensorboard<2.3.0,>=2.2.0 in /usr/local/lib/python3.6/dist-packages (from tensorflow->keras-squeezenet==0.4) (2.2.1)\n",
            "Requirement already satisfied: wheel>=0.26; python_version >= \"3\" in /usr/local/lib/python3.6/dist-packages (from tensorflow->keras-squeezenet==0.4) (0.34.2)\n",
            "Requirement already satisfied: google-pasta>=0.1.8 in /usr/local/lib/python3.6/dist-packages (from tensorflow->keras-squeezenet==0.4) (0.2.0)\n",
            "Requirement already satisfied: termcolor>=1.1.0 in /usr/local/lib/python3.6/dist-packages (from tensorflow->keras-squeezenet==0.4) (1.1.0)\n",
            "Requirement already satisfied: opt-einsum>=2.3.2 in /usr/local/lib/python3.6/dist-packages (from tensorflow->keras-squeezenet==0.4) (3.2.1)\n",
            "Requirement already satisfied: gast==0.3.3 in /usr/local/lib/python3.6/dist-packages (from tensorflow->keras-squeezenet==0.4) (0.3.3)\n",
            "Requirement already satisfied: tensorflow-estimator<2.3.0,>=2.2.0 in /usr/local/lib/python3.6/dist-packages (from tensorflow->keras-squeezenet==0.4) (2.2.0)\n",
            "Requirement already satisfied: grpcio>=1.8.6 in /usr/local/lib/python3.6/dist-packages (from tensorflow->keras-squeezenet==0.4) (1.29.0)\n",
            "Requirement already satisfied: wrapt>=1.11.1 in /usr/local/lib/python3.6/dist-packages (from tensorflow->keras-squeezenet==0.4) (1.12.1)\n",
            "Requirement already satisfied: keras-preprocessing>=1.1.0 in /usr/local/lib/python3.6/dist-packages (from tensorflow->keras-squeezenet==0.4) (1.1.2)\n",
            "Requirement already satisfied: astunparse==1.6.3 in /usr/local/lib/python3.6/dist-packages (from tensorflow->keras-squeezenet==0.4) (1.6.3)\n",
            "Requirement already satisfied: protobuf>=3.8.0 in /usr/local/lib/python3.6/dist-packages (from tensorflow->keras-squeezenet==0.4) (3.10.0)\n",
            "Requirement already satisfied: keras-applications>=1.0.6 in /usr/local/lib/python3.6/dist-packages (from keras->keras-squeezenet==0.4) (1.0.8)\n",
            "Requirement already satisfied: tensorboard-plugin-wit>=1.6.0 in /usr/local/lib/python3.6/dist-packages (from tensorboard<2.3.0,>=2.2.0->tensorflow->keras-squeezenet==0.4) (1.6.0.post3)\n",
            "Requirement already satisfied: google-auth<2,>=1.6.3 in /usr/local/lib/python3.6/dist-packages (from tensorboard<2.3.0,>=2.2.0->tensorflow->keras-squeezenet==0.4) (1.7.2)\n",
            "Requirement already satisfied: markdown>=2.6.8 in /usr/local/lib/python3.6/dist-packages (from tensorboard<2.3.0,>=2.2.0->tensorflow->keras-squeezenet==0.4) (3.2.2)\n",
            "Requirement already satisfied: requests<3,>=2.21.0 in /usr/local/lib/python3.6/dist-packages (from tensorboard<2.3.0,>=2.2.0->tensorflow->keras-squeezenet==0.4) (2.23.0)\n",
            "Requirement already satisfied: google-auth-oauthlib<0.5,>=0.4.1 in /usr/local/lib/python3.6/dist-packages (from tensorboard<2.3.0,>=2.2.0->tensorflow->keras-squeezenet==0.4) (0.4.1)\n",
            "Requirement already satisfied: werkzeug>=0.11.15 in /usr/local/lib/python3.6/dist-packages (from tensorboard<2.3.0,>=2.2.0->tensorflow->keras-squeezenet==0.4) (1.0.1)\n",
            "Requirement already satisfied: setuptools>=41.0.0 in /usr/local/lib/python3.6/dist-packages (from tensorboard<2.3.0,>=2.2.0->tensorflow->keras-squeezenet==0.4) (46.4.0)\n",
            "Requirement already satisfied: pyasn1-modules>=0.2.1 in /usr/local/lib/python3.6/dist-packages (from google-auth<2,>=1.6.3->tensorboard<2.3.0,>=2.2.0->tensorflow->keras-squeezenet==0.4) (0.2.8)\n",
            "Requirement already satisfied: cachetools<3.2,>=2.0.0 in /usr/local/lib/python3.6/dist-packages (from google-auth<2,>=1.6.3->tensorboard<2.3.0,>=2.2.0->tensorflow->keras-squeezenet==0.4) (3.1.1)\n",
            "Requirement already satisfied: rsa<4.1,>=3.1.4 in /usr/local/lib/python3.6/dist-packages (from google-auth<2,>=1.6.3->tensorboard<2.3.0,>=2.2.0->tensorflow->keras-squeezenet==0.4) (4.0)\n",
            "Requirement already satisfied: importlib-metadata; python_version < \"3.8\" in /usr/local/lib/python3.6/dist-packages (from markdown>=2.6.8->tensorboard<2.3.0,>=2.2.0->tensorflow->keras-squeezenet==0.4) (1.6.0)\n",
            "Requirement already satisfied: idna<3,>=2.5 in /usr/local/lib/python3.6/dist-packages (from requests<3,>=2.21.0->tensorboard<2.3.0,>=2.2.0->tensorflow->keras-squeezenet==0.4) (2.9)\n",
            "Requirement already satisfied: certifi>=2017.4.17 in /usr/local/lib/python3.6/dist-packages (from requests<3,>=2.21.0->tensorboard<2.3.0,>=2.2.0->tensorflow->keras-squeezenet==0.4) (2020.4.5.1)\n",
            "Requirement already satisfied: urllib3!=1.25.0,!=1.25.1,<1.26,>=1.21.1 in /usr/local/lib/python3.6/dist-packages (from requests<3,>=2.21.0->tensorboard<2.3.0,>=2.2.0->tensorflow->keras-squeezenet==0.4) (1.24.3)\n",
            "Requirement already satisfied: chardet<4,>=3.0.2 in /usr/local/lib/python3.6/dist-packages (from requests<3,>=2.21.0->tensorboard<2.3.0,>=2.2.0->tensorflow->keras-squeezenet==0.4) (3.0.4)\n",
            "Requirement already satisfied: requests-oauthlib>=0.7.0 in /usr/local/lib/python3.6/dist-packages (from google-auth-oauthlib<0.5,>=0.4.1->tensorboard<2.3.0,>=2.2.0->tensorflow->keras-squeezenet==0.4) (1.3.0)\n",
            "Requirement already satisfied: pyasn1<0.5.0,>=0.4.6 in /usr/local/lib/python3.6/dist-packages (from pyasn1-modules>=0.2.1->google-auth<2,>=1.6.3->tensorboard<2.3.0,>=2.2.0->tensorflow->keras-squeezenet==0.4) (0.4.8)\n",
            "Requirement already satisfied: zipp>=0.5 in /usr/local/lib/python3.6/dist-packages (from importlib-metadata; python_version < \"3.8\"->markdown>=2.6.8->tensorboard<2.3.0,>=2.2.0->tensorflow->keras-squeezenet==0.4) (3.1.0)\n",
            "Requirement already satisfied: oauthlib>=3.0.0 in /usr/local/lib/python3.6/dist-packages (from requests-oauthlib>=0.7.0->google-auth-oauthlib<0.5,>=0.4.1->tensorboard<2.3.0,>=2.2.0->tensorflow->keras-squeezenet==0.4) (3.1.0)\n",
            "Building wheels for collected packages: keras-squeezenet\n",
            "  Building wheel for keras-squeezenet (setup.py) ... \u001b[?25l\u001b[?25hdone\n",
            "  Created wheel for keras-squeezenet: filename=keras_squeezenet-0.4-cp36-none-any.whl size=4425 sha256=3983337940473fc329105b402eab4ae3a3eac34515e09a338c6ae11cbf93efc8\n",
            "  Stored in directory: /tmp/pip-ephem-wheel-cache-q_s_p1x7/wheels/15/75/ed/45fffbc76d921a5be07af533b774b35bbf40551334c51af91f\n",
            "Successfully built keras-squeezenet\n",
            "Installing collected packages: keras-squeezenet\n",
            "Successfully installed keras-squeezenet-0.4\n",
            "Requirement already satisfied: keras_squeezenet in /usr/local/lib/python3.6/dist-packages (0.4)\n",
            "Requirement already satisfied: tensorflow in /usr/local/lib/python3.6/dist-packages (from keras_squeezenet) (2.2.0)\n",
            "Requirement already satisfied: pyyaml in /usr/local/lib/python3.6/dist-packages (from keras_squeezenet) (3.13)\n",
            "Requirement already satisfied: six>=1.9.0 in /usr/local/lib/python3.6/dist-packages (from keras_squeezenet) (1.12.0)\n",
            "Requirement already satisfied: h5py in /usr/local/lib/python3.6/dist-packages (from keras_squeezenet) (2.10.0)\n",
            "Requirement already satisfied: scipy>=0.14 in /usr/local/lib/python3.6/dist-packages (from keras_squeezenet) (1.4.1)\n",
            "Requirement already satisfied: keras in /usr/local/lib/python3.6/dist-packages (from keras_squeezenet) (2.3.1)\n",
            "Requirement already satisfied: numpy>=1.9.1 in /usr/local/lib/python3.6/dist-packages (from keras_squeezenet) (1.18.4)\n",
            "Requirement already satisfied: google-pasta>=0.1.8 in /usr/local/lib/python3.6/dist-packages (from tensorflow->keras_squeezenet) (0.2.0)\n",
            "Requirement already satisfied: opt-einsum>=2.3.2 in /usr/local/lib/python3.6/dist-packages (from tensorflow->keras_squeezenet) (3.2.1)\n",
            "Requirement already satisfied: grpcio>=1.8.6 in /usr/local/lib/python3.6/dist-packages (from tensorflow->keras_squeezenet) (1.29.0)\n",
            "Requirement already satisfied: wheel>=0.26; python_version >= \"3\" in /usr/local/lib/python3.6/dist-packages (from tensorflow->keras_squeezenet) (0.34.2)\n",
            "Requirement already satisfied: wrapt>=1.11.1 in /usr/local/lib/python3.6/dist-packages (from tensorflow->keras_squeezenet) (1.12.1)\n",
            "Requirement already satisfied: astunparse==1.6.3 in /usr/local/lib/python3.6/dist-packages (from tensorflow->keras_squeezenet) (1.6.3)\n",
            "Requirement already satisfied: termcolor>=1.1.0 in /usr/local/lib/python3.6/dist-packages (from tensorflow->keras_squeezenet) (1.1.0)\n",
            "Requirement already satisfied: absl-py>=0.7.0 in /usr/local/lib/python3.6/dist-packages (from tensorflow->keras_squeezenet) (0.9.0)\n",
            "Requirement already satisfied: keras-preprocessing>=1.1.0 in /usr/local/lib/python3.6/dist-packages (from tensorflow->keras_squeezenet) (1.1.2)\n",
            "Requirement already satisfied: tensorboard<2.3.0,>=2.2.0 in /usr/local/lib/python3.6/dist-packages (from tensorflow->keras_squeezenet) (2.2.1)\n",
            "Requirement already satisfied: protobuf>=3.8.0 in /usr/local/lib/python3.6/dist-packages (from tensorflow->keras_squeezenet) (3.10.0)\n",
            "Requirement already satisfied: tensorflow-estimator<2.3.0,>=2.2.0 in /usr/local/lib/python3.6/dist-packages (from tensorflow->keras_squeezenet) (2.2.0)\n",
            "Requirement already satisfied: gast==0.3.3 in /usr/local/lib/python3.6/dist-packages (from tensorflow->keras_squeezenet) (0.3.3)\n",
            "Requirement already satisfied: keras-applications>=1.0.6 in /usr/local/lib/python3.6/dist-packages (from keras->keras_squeezenet) (1.0.8)\n",
            "Requirement already satisfied: requests<3,>=2.21.0 in /usr/local/lib/python3.6/dist-packages (from tensorboard<2.3.0,>=2.2.0->tensorflow->keras_squeezenet) (2.23.0)\n",
            "Requirement already satisfied: google-auth-oauthlib<0.5,>=0.4.1 in /usr/local/lib/python3.6/dist-packages (from tensorboard<2.3.0,>=2.2.0->tensorflow->keras_squeezenet) (0.4.1)\n",
            "Requirement already satisfied: tensorboard-plugin-wit>=1.6.0 in /usr/local/lib/python3.6/dist-packages (from tensorboard<2.3.0,>=2.2.0->tensorflow->keras_squeezenet) (1.6.0.post3)\n",
            "Requirement already satisfied: markdown>=2.6.8 in /usr/local/lib/python3.6/dist-packages (from tensorboard<2.3.0,>=2.2.0->tensorflow->keras_squeezenet) (3.2.2)\n",
            "Requirement already satisfied: setuptools>=41.0.0 in /usr/local/lib/python3.6/dist-packages (from tensorboard<2.3.0,>=2.2.0->tensorflow->keras_squeezenet) (46.4.0)\n",
            "Requirement already satisfied: google-auth<2,>=1.6.3 in /usr/local/lib/python3.6/dist-packages (from tensorboard<2.3.0,>=2.2.0->tensorflow->keras_squeezenet) (1.7.2)\n",
            "Requirement already satisfied: werkzeug>=0.11.15 in /usr/local/lib/python3.6/dist-packages (from tensorboard<2.3.0,>=2.2.0->tensorflow->keras_squeezenet) (1.0.1)\n",
            "Requirement already satisfied: chardet<4,>=3.0.2 in /usr/local/lib/python3.6/dist-packages (from requests<3,>=2.21.0->tensorboard<2.3.0,>=2.2.0->tensorflow->keras_squeezenet) (3.0.4)\n",
            "Requirement already satisfied: certifi>=2017.4.17 in /usr/local/lib/python3.6/dist-packages (from requests<3,>=2.21.0->tensorboard<2.3.0,>=2.2.0->tensorflow->keras_squeezenet) (2020.4.5.1)\n",
            "Requirement already satisfied: urllib3!=1.25.0,!=1.25.1,<1.26,>=1.21.1 in /usr/local/lib/python3.6/dist-packages (from requests<3,>=2.21.0->tensorboard<2.3.0,>=2.2.0->tensorflow->keras_squeezenet) (1.24.3)\n",
            "Requirement already satisfied: idna<3,>=2.5 in /usr/local/lib/python3.6/dist-packages (from requests<3,>=2.21.0->tensorboard<2.3.0,>=2.2.0->tensorflow->keras_squeezenet) (2.9)\n",
            "Requirement already satisfied: requests-oauthlib>=0.7.0 in /usr/local/lib/python3.6/dist-packages (from google-auth-oauthlib<0.5,>=0.4.1->tensorboard<2.3.0,>=2.2.0->tensorflow->keras_squeezenet) (1.3.0)\n",
            "Requirement already satisfied: importlib-metadata; python_version < \"3.8\" in /usr/local/lib/python3.6/dist-packages (from markdown>=2.6.8->tensorboard<2.3.0,>=2.2.0->tensorflow->keras_squeezenet) (1.6.0)\n",
            "Requirement already satisfied: pyasn1-modules>=0.2.1 in /usr/local/lib/python3.6/dist-packages (from google-auth<2,>=1.6.3->tensorboard<2.3.0,>=2.2.0->tensorflow->keras_squeezenet) (0.2.8)\n",
            "Requirement already satisfied: rsa<4.1,>=3.1.4 in /usr/local/lib/python3.6/dist-packages (from google-auth<2,>=1.6.3->tensorboard<2.3.0,>=2.2.0->tensorflow->keras_squeezenet) (4.0)\n",
            "Requirement already satisfied: cachetools<3.2,>=2.0.0 in /usr/local/lib/python3.6/dist-packages (from google-auth<2,>=1.6.3->tensorboard<2.3.0,>=2.2.0->tensorflow->keras_squeezenet) (3.1.1)\n",
            "Requirement already satisfied: oauthlib>=3.0.0 in /usr/local/lib/python3.6/dist-packages (from requests-oauthlib>=0.7.0->google-auth-oauthlib<0.5,>=0.4.1->tensorboard<2.3.0,>=2.2.0->tensorflow->keras_squeezenet) (3.1.0)\n",
            "Requirement already satisfied: zipp>=0.5 in /usr/local/lib/python3.6/dist-packages (from importlib-metadata; python_version < \"3.8\"->markdown>=2.6.8->tensorboard<2.3.0,>=2.2.0->tensorflow->keras_squeezenet) (3.1.0)\n",
            "Requirement already satisfied: pyasn1<0.5.0,>=0.4.6 in /usr/local/lib/python3.6/dist-packages (from pyasn1-modules>=0.2.1->google-auth<2,>=1.6.3->tensorboard<2.3.0,>=2.2.0->tensorflow->keras_squeezenet) (0.4.8)\n"
          ],
          "name": "stdout"
        }
      ]
    },
    {
      "cell_type": "code",
      "metadata": {
        "id": "T9lAgUBL7xjo",
        "colab_type": "code",
        "outputId": "18431b05-f684-4c85-8eb0-e581081d7d97",
        "colab": {
          "base_uri": "https://localhost:8080/",
          "height": 1000
        }
      },
      "source": [
        "# Import model\n",
        "from keras_squeezenet import SqueezeNet\n",
        "sn_model = SqueezeNet(include_top = False, weights='imagenet',input_shape=(256,256,3))\n",
        "sn_model.summary()"
      ],
      "execution_count": 24,
      "outputs": [
        {
          "output_type": "stream",
          "text": [
            "Model: \"squeezenet\"\n",
            "__________________________________________________________________________________________________\n",
            "Layer (type)                    Output Shape         Param #     Connected to                     \n",
            "==================================================================================================\n",
            "input_3 (InputLayer)            (None, 256, 256, 3)  0                                            \n",
            "__________________________________________________________________________________________________\n",
            "conv1 (Conv2D)                  (None, 127, 127, 64) 1792        input_3[0][0]                    \n",
            "__________________________________________________________________________________________________\n",
            "relu_conv1 (Activation)         (None, 127, 127, 64) 0           conv1[0][0]                      \n",
            "__________________________________________________________________________________________________\n",
            "pool1 (MaxPooling2D)            (None, 63, 63, 64)   0           relu_conv1[0][0]                 \n",
            "__________________________________________________________________________________________________\n",
            "fire2/squeeze1x1 (Conv2D)       (None, 63, 63, 16)   1040        pool1[0][0]                      \n",
            "__________________________________________________________________________________________________\n",
            "fire2/relu_squeeze1x1 (Activati (None, 63, 63, 16)   0           fire2/squeeze1x1[0][0]           \n",
            "__________________________________________________________________________________________________\n",
            "fire2/expand1x1 (Conv2D)        (None, 63, 63, 64)   1088        fire2/relu_squeeze1x1[0][0]      \n",
            "__________________________________________________________________________________________________\n",
            "fire2/expand3x3 (Conv2D)        (None, 63, 63, 64)   9280        fire2/relu_squeeze1x1[0][0]      \n",
            "__________________________________________________________________________________________________\n",
            "fire2/relu_expand1x1 (Activatio (None, 63, 63, 64)   0           fire2/expand1x1[0][0]            \n",
            "__________________________________________________________________________________________________\n",
            "fire2/relu_expand3x3 (Activatio (None, 63, 63, 64)   0           fire2/expand3x3[0][0]            \n",
            "__________________________________________________________________________________________________\n",
            "fire2/concat (Concatenate)      (None, 63, 63, 128)  0           fire2/relu_expand1x1[0][0]       \n",
            "                                                                 fire2/relu_expand3x3[0][0]       \n",
            "__________________________________________________________________________________________________\n",
            "fire3/squeeze1x1 (Conv2D)       (None, 63, 63, 16)   2064        fire2/concat[0][0]               \n",
            "__________________________________________________________________________________________________\n",
            "fire3/relu_squeeze1x1 (Activati (None, 63, 63, 16)   0           fire3/squeeze1x1[0][0]           \n",
            "__________________________________________________________________________________________________\n",
            "fire3/expand1x1 (Conv2D)        (None, 63, 63, 64)   1088        fire3/relu_squeeze1x1[0][0]      \n",
            "__________________________________________________________________________________________________\n",
            "fire3/expand3x3 (Conv2D)        (None, 63, 63, 64)   9280        fire3/relu_squeeze1x1[0][0]      \n",
            "__________________________________________________________________________________________________\n",
            "fire3/relu_expand1x1 (Activatio (None, 63, 63, 64)   0           fire3/expand1x1[0][0]            \n",
            "__________________________________________________________________________________________________\n",
            "fire3/relu_expand3x3 (Activatio (None, 63, 63, 64)   0           fire3/expand3x3[0][0]            \n",
            "__________________________________________________________________________________________________\n",
            "fire3/concat (Concatenate)      (None, 63, 63, 128)  0           fire3/relu_expand1x1[0][0]       \n",
            "                                                                 fire3/relu_expand3x3[0][0]       \n",
            "__________________________________________________________________________________________________\n",
            "pool3 (MaxPooling2D)            (None, 31, 31, 128)  0           fire3/concat[0][0]               \n",
            "__________________________________________________________________________________________________\n",
            "fire4/squeeze1x1 (Conv2D)       (None, 31, 31, 32)   4128        pool3[0][0]                      \n",
            "__________________________________________________________________________________________________\n",
            "fire4/relu_squeeze1x1 (Activati (None, 31, 31, 32)   0           fire4/squeeze1x1[0][0]           \n",
            "__________________________________________________________________________________________________\n",
            "fire4/expand1x1 (Conv2D)        (None, 31, 31, 128)  4224        fire4/relu_squeeze1x1[0][0]      \n",
            "__________________________________________________________________________________________________\n",
            "fire4/expand3x3 (Conv2D)        (None, 31, 31, 128)  36992       fire4/relu_squeeze1x1[0][0]      \n",
            "__________________________________________________________________________________________________\n",
            "fire4/relu_expand1x1 (Activatio (None, 31, 31, 128)  0           fire4/expand1x1[0][0]            \n",
            "__________________________________________________________________________________________________\n",
            "fire4/relu_expand3x3 (Activatio (None, 31, 31, 128)  0           fire4/expand3x3[0][0]            \n",
            "__________________________________________________________________________________________________\n",
            "fire4/concat (Concatenate)      (None, 31, 31, 256)  0           fire4/relu_expand1x1[0][0]       \n",
            "                                                                 fire4/relu_expand3x3[0][0]       \n",
            "__________________________________________________________________________________________________\n",
            "fire5/squeeze1x1 (Conv2D)       (None, 31, 31, 32)   8224        fire4/concat[0][0]               \n",
            "__________________________________________________________________________________________________\n",
            "fire5/relu_squeeze1x1 (Activati (None, 31, 31, 32)   0           fire5/squeeze1x1[0][0]           \n",
            "__________________________________________________________________________________________________\n",
            "fire5/expand1x1 (Conv2D)        (None, 31, 31, 128)  4224        fire5/relu_squeeze1x1[0][0]      \n",
            "__________________________________________________________________________________________________\n",
            "fire5/expand3x3 (Conv2D)        (None, 31, 31, 128)  36992       fire5/relu_squeeze1x1[0][0]      \n",
            "__________________________________________________________________________________________________\n",
            "fire5/relu_expand1x1 (Activatio (None, 31, 31, 128)  0           fire5/expand1x1[0][0]            \n",
            "__________________________________________________________________________________________________\n",
            "fire5/relu_expand3x3 (Activatio (None, 31, 31, 128)  0           fire5/expand3x3[0][0]            \n",
            "__________________________________________________________________________________________________\n",
            "fire5/concat (Concatenate)      (None, 31, 31, 256)  0           fire5/relu_expand1x1[0][0]       \n",
            "                                                                 fire5/relu_expand3x3[0][0]       \n",
            "__________________________________________________________________________________________________\n",
            "pool5 (MaxPooling2D)            (None, 15, 15, 256)  0           fire5/concat[0][0]               \n",
            "__________________________________________________________________________________________________\n",
            "fire6/squeeze1x1 (Conv2D)       (None, 15, 15, 48)   12336       pool5[0][0]                      \n",
            "__________________________________________________________________________________________________\n",
            "fire6/relu_squeeze1x1 (Activati (None, 15, 15, 48)   0           fire6/squeeze1x1[0][0]           \n",
            "__________________________________________________________________________________________________\n",
            "fire6/expand1x1 (Conv2D)        (None, 15, 15, 192)  9408        fire6/relu_squeeze1x1[0][0]      \n",
            "__________________________________________________________________________________________________\n",
            "fire6/expand3x3 (Conv2D)        (None, 15, 15, 192)  83136       fire6/relu_squeeze1x1[0][0]      \n",
            "__________________________________________________________________________________________________\n",
            "fire6/relu_expand1x1 (Activatio (None, 15, 15, 192)  0           fire6/expand1x1[0][0]            \n",
            "__________________________________________________________________________________________________\n",
            "fire6/relu_expand3x3 (Activatio (None, 15, 15, 192)  0           fire6/expand3x3[0][0]            \n",
            "__________________________________________________________________________________________________\n",
            "fire6/concat (Concatenate)      (None, 15, 15, 384)  0           fire6/relu_expand1x1[0][0]       \n",
            "                                                                 fire6/relu_expand3x3[0][0]       \n",
            "__________________________________________________________________________________________________\n",
            "fire7/squeeze1x1 (Conv2D)       (None, 15, 15, 48)   18480       fire6/concat[0][0]               \n",
            "__________________________________________________________________________________________________\n",
            "fire7/relu_squeeze1x1 (Activati (None, 15, 15, 48)   0           fire7/squeeze1x1[0][0]           \n",
            "__________________________________________________________________________________________________\n",
            "fire7/expand1x1 (Conv2D)        (None, 15, 15, 192)  9408        fire7/relu_squeeze1x1[0][0]      \n",
            "__________________________________________________________________________________________________\n",
            "fire7/expand3x3 (Conv2D)        (None, 15, 15, 192)  83136       fire7/relu_squeeze1x1[0][0]      \n",
            "__________________________________________________________________________________________________\n",
            "fire7/relu_expand1x1 (Activatio (None, 15, 15, 192)  0           fire7/expand1x1[0][0]            \n",
            "__________________________________________________________________________________________________\n",
            "fire7/relu_expand3x3 (Activatio (None, 15, 15, 192)  0           fire7/expand3x3[0][0]            \n",
            "__________________________________________________________________________________________________\n",
            "fire7/concat (Concatenate)      (None, 15, 15, 384)  0           fire7/relu_expand1x1[0][0]       \n",
            "                                                                 fire7/relu_expand3x3[0][0]       \n",
            "__________________________________________________________________________________________________\n",
            "fire8/squeeze1x1 (Conv2D)       (None, 15, 15, 64)   24640       fire7/concat[0][0]               \n",
            "__________________________________________________________________________________________________\n",
            "fire8/relu_squeeze1x1 (Activati (None, 15, 15, 64)   0           fire8/squeeze1x1[0][0]           \n",
            "__________________________________________________________________________________________________\n",
            "fire8/expand1x1 (Conv2D)        (None, 15, 15, 256)  16640       fire8/relu_squeeze1x1[0][0]      \n",
            "__________________________________________________________________________________________________\n",
            "fire8/expand3x3 (Conv2D)        (None, 15, 15, 256)  147712      fire8/relu_squeeze1x1[0][0]      \n",
            "__________________________________________________________________________________________________\n",
            "fire8/relu_expand1x1 (Activatio (None, 15, 15, 256)  0           fire8/expand1x1[0][0]            \n",
            "__________________________________________________________________________________________________\n",
            "fire8/relu_expand3x3 (Activatio (None, 15, 15, 256)  0           fire8/expand3x3[0][0]            \n",
            "__________________________________________________________________________________________________\n",
            "fire8/concat (Concatenate)      (None, 15, 15, 512)  0           fire8/relu_expand1x1[0][0]       \n",
            "                                                                 fire8/relu_expand3x3[0][0]       \n",
            "__________________________________________________________________________________________________\n",
            "fire9/squeeze1x1 (Conv2D)       (None, 15, 15, 64)   32832       fire8/concat[0][0]               \n",
            "__________________________________________________________________________________________________\n",
            "fire9/relu_squeeze1x1 (Activati (None, 15, 15, 64)   0           fire9/squeeze1x1[0][0]           \n",
            "__________________________________________________________________________________________________\n",
            "fire9/expand1x1 (Conv2D)        (None, 15, 15, 256)  16640       fire9/relu_squeeze1x1[0][0]      \n",
            "__________________________________________________________________________________________________\n",
            "fire9/expand3x3 (Conv2D)        (None, 15, 15, 256)  147712      fire9/relu_squeeze1x1[0][0]      \n",
            "__________________________________________________________________________________________________\n",
            "fire9/relu_expand1x1 (Activatio (None, 15, 15, 256)  0           fire9/expand1x1[0][0]            \n",
            "__________________________________________________________________________________________________\n",
            "fire9/relu_expand3x3 (Activatio (None, 15, 15, 256)  0           fire9/expand3x3[0][0]            \n",
            "__________________________________________________________________________________________________\n",
            "fire9/concat (Concatenate)      (None, 15, 15, 512)  0           fire9/relu_expand1x1[0][0]       \n",
            "                                                                 fire9/relu_expand3x3[0][0]       \n",
            "==================================================================================================\n",
            "Total params: 722,496\n",
            "Trainable params: 722,496\n",
            "Non-trainable params: 0\n",
            "__________________________________________________________________________________________________\n"
          ],
          "name": "stdout"
        }
      ]
    },
    {
      "cell_type": "code",
      "metadata": {
        "id": "189lzdGs73Fr",
        "colab_type": "code",
        "colab": {}
      },
      "source": [
        "# The addition of top layers\n",
        "x = Flatten()(sn_model.layers[-1].output)\n",
        "x = Dense(1024, activation = 'relu')(x)\n",
        "x = Dense(1024, activation = 'relu')(x)\n",
        "x = Dense(512, activation = 'relu')(x)\n",
        "\n",
        "x = Dense(3, activation = 'softmax')(x)\n",
        "model = Model(inputs = sn_model.input, outputs = x)\n",
        "\n",
        "for layer in sn_model.layers:\n",
        "  layer.trainable = False\n",
        "\n",
        "for layer in sn_model.layers:\n",
        "  if\"BatchNormalization\" in layer.__class__.__name__:\n",
        "    layer.trainable = True\n",
        "\n"
      ],
      "execution_count": 0,
      "outputs": []
    },
    {
      "cell_type": "code",
      "metadata": {
        "id": "GKBo5RwadT1D",
        "colab_type": "code",
        "outputId": "f94cccd9-17d9-4716-f4ea-4d1378a1e5a5",
        "colab": {
          "base_uri": "https://localhost:8080/",
          "height": 1000
        }
      },
      "source": [
        "model.compile(optimizer= optimizers.Adam(lr=0.0003) , loss='categorical_crossentropy',metrics=['accuracy'])\n",
        "model.summary()"
      ],
      "execution_count": 26,
      "outputs": [
        {
          "output_type": "stream",
          "text": [
            "Model: \"model_3\"\n",
            "__________________________________________________________________________________________________\n",
            "Layer (type)                    Output Shape         Param #     Connected to                     \n",
            "==================================================================================================\n",
            "input_3 (InputLayer)            (None, 256, 256, 3)  0                                            \n",
            "__________________________________________________________________________________________________\n",
            "conv1 (Conv2D)                  (None, 127, 127, 64) 1792        input_3[0][0]                    \n",
            "__________________________________________________________________________________________________\n",
            "relu_conv1 (Activation)         (None, 127, 127, 64) 0           conv1[0][0]                      \n",
            "__________________________________________________________________________________________________\n",
            "pool1 (MaxPooling2D)            (None, 63, 63, 64)   0           relu_conv1[0][0]                 \n",
            "__________________________________________________________________________________________________\n",
            "fire2/squeeze1x1 (Conv2D)       (None, 63, 63, 16)   1040        pool1[0][0]                      \n",
            "__________________________________________________________________________________________________\n",
            "fire2/relu_squeeze1x1 (Activati (None, 63, 63, 16)   0           fire2/squeeze1x1[0][0]           \n",
            "__________________________________________________________________________________________________\n",
            "fire2/expand1x1 (Conv2D)        (None, 63, 63, 64)   1088        fire2/relu_squeeze1x1[0][0]      \n",
            "__________________________________________________________________________________________________\n",
            "fire2/expand3x3 (Conv2D)        (None, 63, 63, 64)   9280        fire2/relu_squeeze1x1[0][0]      \n",
            "__________________________________________________________________________________________________\n",
            "fire2/relu_expand1x1 (Activatio (None, 63, 63, 64)   0           fire2/expand1x1[0][0]            \n",
            "__________________________________________________________________________________________________\n",
            "fire2/relu_expand3x3 (Activatio (None, 63, 63, 64)   0           fire2/expand3x3[0][0]            \n",
            "__________________________________________________________________________________________________\n",
            "fire2/concat (Concatenate)      (None, 63, 63, 128)  0           fire2/relu_expand1x1[0][0]       \n",
            "                                                                 fire2/relu_expand3x3[0][0]       \n",
            "__________________________________________________________________________________________________\n",
            "fire3/squeeze1x1 (Conv2D)       (None, 63, 63, 16)   2064        fire2/concat[0][0]               \n",
            "__________________________________________________________________________________________________\n",
            "fire3/relu_squeeze1x1 (Activati (None, 63, 63, 16)   0           fire3/squeeze1x1[0][0]           \n",
            "__________________________________________________________________________________________________\n",
            "fire3/expand1x1 (Conv2D)        (None, 63, 63, 64)   1088        fire3/relu_squeeze1x1[0][0]      \n",
            "__________________________________________________________________________________________________\n",
            "fire3/expand3x3 (Conv2D)        (None, 63, 63, 64)   9280        fire3/relu_squeeze1x1[0][0]      \n",
            "__________________________________________________________________________________________________\n",
            "fire3/relu_expand1x1 (Activatio (None, 63, 63, 64)   0           fire3/expand1x1[0][0]            \n",
            "__________________________________________________________________________________________________\n",
            "fire3/relu_expand3x3 (Activatio (None, 63, 63, 64)   0           fire3/expand3x3[0][0]            \n",
            "__________________________________________________________________________________________________\n",
            "fire3/concat (Concatenate)      (None, 63, 63, 128)  0           fire3/relu_expand1x1[0][0]       \n",
            "                                                                 fire3/relu_expand3x3[0][0]       \n",
            "__________________________________________________________________________________________________\n",
            "pool3 (MaxPooling2D)            (None, 31, 31, 128)  0           fire3/concat[0][0]               \n",
            "__________________________________________________________________________________________________\n",
            "fire4/squeeze1x1 (Conv2D)       (None, 31, 31, 32)   4128        pool3[0][0]                      \n",
            "__________________________________________________________________________________________________\n",
            "fire4/relu_squeeze1x1 (Activati (None, 31, 31, 32)   0           fire4/squeeze1x1[0][0]           \n",
            "__________________________________________________________________________________________________\n",
            "fire4/expand1x1 (Conv2D)        (None, 31, 31, 128)  4224        fire4/relu_squeeze1x1[0][0]      \n",
            "__________________________________________________________________________________________________\n",
            "fire4/expand3x3 (Conv2D)        (None, 31, 31, 128)  36992       fire4/relu_squeeze1x1[0][0]      \n",
            "__________________________________________________________________________________________________\n",
            "fire4/relu_expand1x1 (Activatio (None, 31, 31, 128)  0           fire4/expand1x1[0][0]            \n",
            "__________________________________________________________________________________________________\n",
            "fire4/relu_expand3x3 (Activatio (None, 31, 31, 128)  0           fire4/expand3x3[0][0]            \n",
            "__________________________________________________________________________________________________\n",
            "fire4/concat (Concatenate)      (None, 31, 31, 256)  0           fire4/relu_expand1x1[0][0]       \n",
            "                                                                 fire4/relu_expand3x3[0][0]       \n",
            "__________________________________________________________________________________________________\n",
            "fire5/squeeze1x1 (Conv2D)       (None, 31, 31, 32)   8224        fire4/concat[0][0]               \n",
            "__________________________________________________________________________________________________\n",
            "fire5/relu_squeeze1x1 (Activati (None, 31, 31, 32)   0           fire5/squeeze1x1[0][0]           \n",
            "__________________________________________________________________________________________________\n",
            "fire5/expand1x1 (Conv2D)        (None, 31, 31, 128)  4224        fire5/relu_squeeze1x1[0][0]      \n",
            "__________________________________________________________________________________________________\n",
            "fire5/expand3x3 (Conv2D)        (None, 31, 31, 128)  36992       fire5/relu_squeeze1x1[0][0]      \n",
            "__________________________________________________________________________________________________\n",
            "fire5/relu_expand1x1 (Activatio (None, 31, 31, 128)  0           fire5/expand1x1[0][0]            \n",
            "__________________________________________________________________________________________________\n",
            "fire5/relu_expand3x3 (Activatio (None, 31, 31, 128)  0           fire5/expand3x3[0][0]            \n",
            "__________________________________________________________________________________________________\n",
            "fire5/concat (Concatenate)      (None, 31, 31, 256)  0           fire5/relu_expand1x1[0][0]       \n",
            "                                                                 fire5/relu_expand3x3[0][0]       \n",
            "__________________________________________________________________________________________________\n",
            "pool5 (MaxPooling2D)            (None, 15, 15, 256)  0           fire5/concat[0][0]               \n",
            "__________________________________________________________________________________________________\n",
            "fire6/squeeze1x1 (Conv2D)       (None, 15, 15, 48)   12336       pool5[0][0]                      \n",
            "__________________________________________________________________________________________________\n",
            "fire6/relu_squeeze1x1 (Activati (None, 15, 15, 48)   0           fire6/squeeze1x1[0][0]           \n",
            "__________________________________________________________________________________________________\n",
            "fire6/expand1x1 (Conv2D)        (None, 15, 15, 192)  9408        fire6/relu_squeeze1x1[0][0]      \n",
            "__________________________________________________________________________________________________\n",
            "fire6/expand3x3 (Conv2D)        (None, 15, 15, 192)  83136       fire6/relu_squeeze1x1[0][0]      \n",
            "__________________________________________________________________________________________________\n",
            "fire6/relu_expand1x1 (Activatio (None, 15, 15, 192)  0           fire6/expand1x1[0][0]            \n",
            "__________________________________________________________________________________________________\n",
            "fire6/relu_expand3x3 (Activatio (None, 15, 15, 192)  0           fire6/expand3x3[0][0]            \n",
            "__________________________________________________________________________________________________\n",
            "fire6/concat (Concatenate)      (None, 15, 15, 384)  0           fire6/relu_expand1x1[0][0]       \n",
            "                                                                 fire6/relu_expand3x3[0][0]       \n",
            "__________________________________________________________________________________________________\n",
            "fire7/squeeze1x1 (Conv2D)       (None, 15, 15, 48)   18480       fire6/concat[0][0]               \n",
            "__________________________________________________________________________________________________\n",
            "fire7/relu_squeeze1x1 (Activati (None, 15, 15, 48)   0           fire7/squeeze1x1[0][0]           \n",
            "__________________________________________________________________________________________________\n",
            "fire7/expand1x1 (Conv2D)        (None, 15, 15, 192)  9408        fire7/relu_squeeze1x1[0][0]      \n",
            "__________________________________________________________________________________________________\n",
            "fire7/expand3x3 (Conv2D)        (None, 15, 15, 192)  83136       fire7/relu_squeeze1x1[0][0]      \n",
            "__________________________________________________________________________________________________\n",
            "fire7/relu_expand1x1 (Activatio (None, 15, 15, 192)  0           fire7/expand1x1[0][0]            \n",
            "__________________________________________________________________________________________________\n",
            "fire7/relu_expand3x3 (Activatio (None, 15, 15, 192)  0           fire7/expand3x3[0][0]            \n",
            "__________________________________________________________________________________________________\n",
            "fire7/concat (Concatenate)      (None, 15, 15, 384)  0           fire7/relu_expand1x1[0][0]       \n",
            "                                                                 fire7/relu_expand3x3[0][0]       \n",
            "__________________________________________________________________________________________________\n",
            "fire8/squeeze1x1 (Conv2D)       (None, 15, 15, 64)   24640       fire7/concat[0][0]               \n",
            "__________________________________________________________________________________________________\n",
            "fire8/relu_squeeze1x1 (Activati (None, 15, 15, 64)   0           fire8/squeeze1x1[0][0]           \n",
            "__________________________________________________________________________________________________\n",
            "fire8/expand1x1 (Conv2D)        (None, 15, 15, 256)  16640       fire8/relu_squeeze1x1[0][0]      \n",
            "__________________________________________________________________________________________________\n",
            "fire8/expand3x3 (Conv2D)        (None, 15, 15, 256)  147712      fire8/relu_squeeze1x1[0][0]      \n",
            "__________________________________________________________________________________________________\n",
            "fire8/relu_expand1x1 (Activatio (None, 15, 15, 256)  0           fire8/expand1x1[0][0]            \n",
            "__________________________________________________________________________________________________\n",
            "fire8/relu_expand3x3 (Activatio (None, 15, 15, 256)  0           fire8/expand3x3[0][0]            \n",
            "__________________________________________________________________________________________________\n",
            "fire8/concat (Concatenate)      (None, 15, 15, 512)  0           fire8/relu_expand1x1[0][0]       \n",
            "                                                                 fire8/relu_expand3x3[0][0]       \n",
            "__________________________________________________________________________________________________\n",
            "fire9/squeeze1x1 (Conv2D)       (None, 15, 15, 64)   32832       fire8/concat[0][0]               \n",
            "__________________________________________________________________________________________________\n",
            "fire9/relu_squeeze1x1 (Activati (None, 15, 15, 64)   0           fire9/squeeze1x1[0][0]           \n",
            "__________________________________________________________________________________________________\n",
            "fire9/expand1x1 (Conv2D)        (None, 15, 15, 256)  16640       fire9/relu_squeeze1x1[0][0]      \n",
            "__________________________________________________________________________________________________\n",
            "fire9/expand3x3 (Conv2D)        (None, 15, 15, 256)  147712      fire9/relu_squeeze1x1[0][0]      \n",
            "__________________________________________________________________________________________________\n",
            "fire9/relu_expand1x1 (Activatio (None, 15, 15, 256)  0           fire9/expand1x1[0][0]            \n",
            "__________________________________________________________________________________________________\n",
            "fire9/relu_expand3x3 (Activatio (None, 15, 15, 256)  0           fire9/expand3x3[0][0]            \n",
            "__________________________________________________________________________________________________\n",
            "fire9/concat (Concatenate)      (None, 15, 15, 512)  0           fire9/relu_expand1x1[0][0]       \n",
            "                                                                 fire9/relu_expand3x3[0][0]       \n",
            "__________________________________________________________________________________________________\n",
            "flatten_3 (Flatten)             (None, 115200)       0           fire9/concat[0][0]               \n",
            "__________________________________________________________________________________________________\n",
            "dense_9 (Dense)                 (None, 1024)         117965824   flatten_3[0][0]                  \n",
            "__________________________________________________________________________________________________\n",
            "dense_10 (Dense)                (None, 1024)         1049600     dense_9[0][0]                    \n",
            "__________________________________________________________________________________________________\n",
            "dense_11 (Dense)                (None, 512)          524800      dense_10[0][0]                   \n",
            "__________________________________________________________________________________________________\n",
            "dense_12 (Dense)                (None, 3)            1539        dense_11[0][0]                   \n",
            "==================================================================================================\n",
            "Total params: 120,264,259\n",
            "Trainable params: 119,541,763\n",
            "Non-trainable params: 722,496\n",
            "__________________________________________________________________________________________________\n"
          ],
          "name": "stdout"
        }
      ]
    },
    {
      "cell_type": "code",
      "metadata": {
        "id": "LJmqlcsvAAKe",
        "colab_type": "code",
        "outputId": "85d94ccf-e285-4bf2-a213-208a125a18ad",
        "colab": {
          "base_uri": "https://localhost:8080/",
          "height": 1000
        }
      },
      "source": [
        "mc = ModelCheckpoint('/gdrive/My Drive/Colab Notebooks/squeezenet.h5',monitor='val_loss', save_best_only = True, verbose = 1, mode='min')\n",
        "es = EarlyStopping(monitor='val_loss', mode = 'min',patience = 15, verbose=1)\n",
        "lr = ReduceLROnPlateau(factor=0.1, patience = 5, min_lr = 0.0000001, verbose = 1)\n",
        "history = model.fit(train_x, train_y, batch_size = 64, epochs = 100, validation_data=(valid_x,valid_y), shuffle = True, callbacks = [es,lr, mc])"
      ],
      "execution_count": 27,
      "outputs": [
        {
          "output_type": "stream",
          "text": [
            "Train on 4136 samples, validate on 1035 samples\n",
            "Epoch 1/100\n",
            "4136/4136 [==============================] - 8s 2ms/step - loss: 14.7086 - accuracy: 0.3917 - val_loss: 1.2369 - val_accuracy: 0.6676\n",
            "\n",
            "Epoch 00001: val_loss improved from inf to 1.23688, saving model to /gdrive/My Drive/Colab Notebooks/squeezenet.h5\n",
            "Epoch 2/100\n",
            "4136/4136 [==============================] - 8s 2ms/step - loss: 0.5073 - accuracy: 0.8213 - val_loss: 0.5456 - val_accuracy: 0.7874\n",
            "\n",
            "Epoch 00002: val_loss improved from 1.23688 to 0.54562, saving model to /gdrive/My Drive/Colab Notebooks/squeezenet.h5\n",
            "Epoch 3/100\n",
            "4136/4136 [==============================] - 8s 2ms/step - loss: 0.4097 - accuracy: 0.8557 - val_loss: 0.3310 - val_accuracy: 0.8821\n",
            "\n",
            "Epoch 00003: val_loss improved from 0.54562 to 0.33100, saving model to /gdrive/My Drive/Colab Notebooks/squeezenet.h5\n",
            "Epoch 4/100\n",
            "4136/4136 [==============================] - 8s 2ms/step - loss: 0.3823 - accuracy: 0.8586 - val_loss: 0.3701 - val_accuracy: 0.8618\n",
            "\n",
            "Epoch 00004: val_loss did not improve from 0.33100\n",
            "Epoch 5/100\n",
            "4136/4136 [==============================] - 8s 2ms/step - loss: 0.4069 - accuracy: 0.8479 - val_loss: 0.5460 - val_accuracy: 0.7961\n",
            "\n",
            "Epoch 00005: val_loss did not improve from 0.33100\n",
            "Epoch 6/100\n",
            "4136/4136 [==============================] - 8s 2ms/step - loss: 0.4395 - accuracy: 0.8549 - val_loss: 0.3818 - val_accuracy: 0.8667\n",
            "\n",
            "Epoch 00006: val_loss did not improve from 0.33100\n",
            "Epoch 7/100\n",
            "4136/4136 [==============================] - 8s 2ms/step - loss: 0.2514 - accuracy: 0.9118 - val_loss: 0.1973 - val_accuracy: 0.9295\n",
            "\n",
            "Epoch 00007: val_loss improved from 0.33100 to 0.19732, saving model to /gdrive/My Drive/Colab Notebooks/squeezenet.h5\n",
            "Epoch 8/100\n",
            "4136/4136 [==============================] - 8s 2ms/step - loss: 0.2518 - accuracy: 0.9098 - val_loss: 0.4999 - val_accuracy: 0.7981\n",
            "\n",
            "Epoch 00008: val_loss did not improve from 0.19732\n",
            "Epoch 9/100\n",
            "4136/4136 [==============================] - 8s 2ms/step - loss: 0.2779 - accuracy: 0.8943 - val_loss: 0.1501 - val_accuracy: 0.9478\n",
            "\n",
            "Epoch 00009: val_loss improved from 0.19732 to 0.15007, saving model to /gdrive/My Drive/Colab Notebooks/squeezenet.h5\n",
            "Epoch 10/100\n",
            "4136/4136 [==============================] - 8s 2ms/step - loss: 0.1851 - accuracy: 0.9357 - val_loss: 0.2768 - val_accuracy: 0.8995\n",
            "\n",
            "Epoch 00010: val_loss did not improve from 0.15007\n",
            "Epoch 11/100\n",
            "4136/4136 [==============================] - 8s 2ms/step - loss: 0.2325 - accuracy: 0.9159 - val_loss: 0.2167 - val_accuracy: 0.9034\n",
            "\n",
            "Epoch 00011: val_loss did not improve from 0.15007\n",
            "Epoch 12/100\n",
            "4136/4136 [==============================] - 8s 2ms/step - loss: 0.2801 - accuracy: 0.9009 - val_loss: 0.7004 - val_accuracy: 0.7671\n",
            "\n",
            "Epoch 00012: val_loss did not improve from 0.15007\n",
            "Epoch 13/100\n",
            "4136/4136 [==============================] - 8s 2ms/step - loss: 0.3009 - accuracy: 0.8893 - val_loss: 0.2102 - val_accuracy: 0.9285\n",
            "\n",
            "Epoch 00013: val_loss did not improve from 0.15007\n",
            "Epoch 14/100\n",
            "4136/4136 [==============================] - 8s 2ms/step - loss: 0.2069 - accuracy: 0.9292 - val_loss: 0.1799 - val_accuracy: 0.9382\n",
            "\n",
            "Epoch 00014: ReduceLROnPlateau reducing learning rate to 3.000000142492354e-05.\n",
            "\n",
            "Epoch 00014: val_loss did not improve from 0.15007\n",
            "Epoch 15/100\n",
            "4136/4136 [==============================] - 8s 2ms/step - loss: 0.1152 - accuracy: 0.9616 - val_loss: 0.1102 - val_accuracy: 0.9604\n",
            "\n",
            "Epoch 00015: val_loss improved from 0.15007 to 0.11025, saving model to /gdrive/My Drive/Colab Notebooks/squeezenet.h5\n",
            "Epoch 16/100\n",
            "4136/4136 [==============================] - 8s 2ms/step - loss: 0.1058 - accuracy: 0.9625 - val_loss: 0.1084 - val_accuracy: 0.9614\n",
            "\n",
            "Epoch 00016: val_loss improved from 0.11025 to 0.10836, saving model to /gdrive/My Drive/Colab Notebooks/squeezenet.h5\n",
            "Epoch 17/100\n",
            "4136/4136 [==============================] - 8s 2ms/step - loss: 0.1036 - accuracy: 0.9652 - val_loss: 0.1064 - val_accuracy: 0.9614\n",
            "\n",
            "Epoch 00017: val_loss improved from 0.10836 to 0.10642, saving model to /gdrive/My Drive/Colab Notebooks/squeezenet.h5\n",
            "Epoch 18/100\n",
            "4136/4136 [==============================] - 8s 2ms/step - loss: 0.1052 - accuracy: 0.9645 - val_loss: 0.1105 - val_accuracy: 0.9623\n",
            "\n",
            "Epoch 00018: val_loss did not improve from 0.10642\n",
            "Epoch 19/100\n",
            "4136/4136 [==============================] - 9s 2ms/step - loss: 0.1040 - accuracy: 0.9645 - val_loss: 0.1117 - val_accuracy: 0.9643\n",
            "\n",
            "Epoch 00019: val_loss did not improve from 0.10642\n",
            "Epoch 20/100\n",
            "4136/4136 [==============================] - 8s 2ms/step - loss: 0.1120 - accuracy: 0.9616 - val_loss: 0.1262 - val_accuracy: 0.9585\n",
            "\n",
            "Epoch 00020: val_loss did not improve from 0.10642\n",
            "Epoch 21/100\n",
            "4136/4136 [==============================] - 8s 2ms/step - loss: 0.1024 - accuracy: 0.9674 - val_loss: 0.1055 - val_accuracy: 0.9614\n",
            "\n",
            "Epoch 00021: val_loss improved from 0.10642 to 0.10550, saving model to /gdrive/My Drive/Colab Notebooks/squeezenet.h5\n",
            "Epoch 22/100\n",
            "4136/4136 [==============================] - 9s 2ms/step - loss: 0.1041 - accuracy: 0.9640 - val_loss: 0.1045 - val_accuracy: 0.9623\n",
            "\n",
            "Epoch 00022: val_loss improved from 0.10550 to 0.10453, saving model to /gdrive/My Drive/Colab Notebooks/squeezenet.h5\n",
            "Epoch 23/100\n",
            "4136/4136 [==============================] - 9s 2ms/step - loss: 0.0980 - accuracy: 0.9664 - val_loss: 0.1119 - val_accuracy: 0.9556\n",
            "\n",
            "Epoch 00023: val_loss did not improve from 0.10453\n",
            "Epoch 24/100\n",
            "4136/4136 [==============================] - 9s 2ms/step - loss: 0.1000 - accuracy: 0.9669 - val_loss: 0.1243 - val_accuracy: 0.9565\n",
            "\n",
            "Epoch 00024: val_loss did not improve from 0.10453\n",
            "Epoch 25/100\n",
            "4136/4136 [==============================] - 9s 2ms/step - loss: 0.0983 - accuracy: 0.9664 - val_loss: 0.1077 - val_accuracy: 0.9594\n",
            "\n",
            "Epoch 00025: val_loss did not improve from 0.10453\n",
            "Epoch 26/100\n",
            "4136/4136 [==============================] - 9s 2ms/step - loss: 0.0947 - accuracy: 0.9678 - val_loss: 0.1015 - val_accuracy: 0.9614\n",
            "\n",
            "Epoch 00026: val_loss improved from 0.10453 to 0.10146, saving model to /gdrive/My Drive/Colab Notebooks/squeezenet.h5\n",
            "Epoch 27/100\n",
            "4136/4136 [==============================] - 9s 2ms/step - loss: 0.0945 - accuracy: 0.9666 - val_loss: 0.0979 - val_accuracy: 0.9643\n",
            "\n",
            "Epoch 00027: val_loss improved from 0.10146 to 0.09794, saving model to /gdrive/My Drive/Colab Notebooks/squeezenet.h5\n",
            "Epoch 28/100\n",
            "4136/4136 [==============================] - 9s 2ms/step - loss: 0.0956 - accuracy: 0.9669 - val_loss: 0.1126 - val_accuracy: 0.9565\n",
            "\n",
            "Epoch 00028: val_loss did not improve from 0.09794\n",
            "Epoch 29/100\n",
            "4136/4136 [==============================] - 9s 2ms/step - loss: 0.1001 - accuracy: 0.9642 - val_loss: 0.1019 - val_accuracy: 0.9643\n",
            "\n",
            "Epoch 00029: val_loss did not improve from 0.09794\n",
            "Epoch 30/100\n",
            "4136/4136 [==============================] - 9s 2ms/step - loss: 0.0908 - accuracy: 0.9698 - val_loss: 0.1031 - val_accuracy: 0.9614\n",
            "\n",
            "Epoch 00030: val_loss did not improve from 0.09794\n",
            "Epoch 31/100\n",
            "4136/4136 [==============================] - 9s 2ms/step - loss: 0.0922 - accuracy: 0.9681 - val_loss: 0.1056 - val_accuracy: 0.9594\n",
            "\n",
            "Epoch 00031: val_loss did not improve from 0.09794\n",
            "Epoch 32/100\n",
            "4136/4136 [==============================] - 9s 2ms/step - loss: 0.0969 - accuracy: 0.9657 - val_loss: 0.0944 - val_accuracy: 0.9633\n",
            "\n",
            "Epoch 00032: val_loss improved from 0.09794 to 0.09440, saving model to /gdrive/My Drive/Colab Notebooks/squeezenet.h5\n",
            "Epoch 33/100\n",
            "4136/4136 [==============================] - 9s 2ms/step - loss: 0.0895 - accuracy: 0.9703 - val_loss: 0.1325 - val_accuracy: 0.9507\n",
            "\n",
            "Epoch 00033: val_loss did not improve from 0.09440\n",
            "Epoch 34/100\n",
            "4136/4136 [==============================] - 9s 2ms/step - loss: 0.0920 - accuracy: 0.9686 - val_loss: 0.1031 - val_accuracy: 0.9623\n",
            "\n",
            "Epoch 00034: val_loss did not improve from 0.09440\n",
            "Epoch 35/100\n",
            "4136/4136 [==============================] - 9s 2ms/step - loss: 0.0893 - accuracy: 0.9710 - val_loss: 0.0958 - val_accuracy: 0.9623\n",
            "\n",
            "Epoch 00035: val_loss did not improve from 0.09440\n",
            "Epoch 36/100\n",
            "4136/4136 [==============================] - 9s 2ms/step - loss: 0.0968 - accuracy: 0.9632 - val_loss: 0.0972 - val_accuracy: 0.9604\n",
            "\n",
            "Epoch 00036: val_loss did not improve from 0.09440\n",
            "Epoch 37/100\n",
            "4136/4136 [==============================] - 9s 2ms/step - loss: 0.0844 - accuracy: 0.9717 - val_loss: 0.0969 - val_accuracy: 0.9604\n",
            "\n",
            "Epoch 00037: ReduceLROnPlateau reducing learning rate to 3.000000106112566e-06.\n",
            "\n",
            "Epoch 00037: val_loss did not improve from 0.09440\n",
            "Epoch 38/100\n",
            "4136/4136 [==============================] - 9s 2ms/step - loss: 0.0760 - accuracy: 0.9746 - val_loss: 0.0921 - val_accuracy: 0.9633\n",
            "\n",
            "Epoch 00038: val_loss improved from 0.09440 to 0.09208, saving model to /gdrive/My Drive/Colab Notebooks/squeezenet.h5\n",
            "Epoch 39/100\n",
            "4136/4136 [==============================] - 9s 2ms/step - loss: 0.0751 - accuracy: 0.9734 - val_loss: 0.0934 - val_accuracy: 0.9623\n",
            "\n",
            "Epoch 00039: val_loss did not improve from 0.09208\n",
            "Epoch 40/100\n",
            "4136/4136 [==============================] - 9s 2ms/step - loss: 0.0763 - accuracy: 0.9727 - val_loss: 0.0908 - val_accuracy: 0.9623\n",
            "\n",
            "Epoch 00040: val_loss improved from 0.09208 to 0.09076, saving model to /gdrive/My Drive/Colab Notebooks/squeezenet.h5\n",
            "Epoch 41/100\n",
            "4136/4136 [==============================] - 9s 2ms/step - loss: 0.0750 - accuracy: 0.9741 - val_loss: 0.0918 - val_accuracy: 0.9633\n",
            "\n",
            "Epoch 00041: val_loss did not improve from 0.09076\n",
            "Epoch 42/100\n",
            "4136/4136 [==============================] - 9s 2ms/step - loss: 0.0751 - accuracy: 0.9746 - val_loss: 0.0938 - val_accuracy: 0.9594\n",
            "\n",
            "Epoch 00042: val_loss did not improve from 0.09076\n",
            "Epoch 43/100\n",
            "4136/4136 [==============================] - 9s 2ms/step - loss: 0.0753 - accuracy: 0.9741 - val_loss: 0.0905 - val_accuracy: 0.9633\n",
            "\n",
            "Epoch 00043: val_loss improved from 0.09076 to 0.09047, saving model to /gdrive/My Drive/Colab Notebooks/squeezenet.h5\n",
            "Epoch 44/100\n",
            "4136/4136 [==============================] - 9s 2ms/step - loss: 0.0750 - accuracy: 0.9736 - val_loss: 0.0961 - val_accuracy: 0.9614\n",
            "\n",
            "Epoch 00044: val_loss did not improve from 0.09047\n",
            "Epoch 45/100\n",
            "4136/4136 [==============================] - 9s 2ms/step - loss: 0.0746 - accuracy: 0.9749 - val_loss: 0.0900 - val_accuracy: 0.9633\n",
            "\n",
            "Epoch 00045: val_loss improved from 0.09047 to 0.09000, saving model to /gdrive/My Drive/Colab Notebooks/squeezenet.h5\n",
            "Epoch 46/100\n",
            "4136/4136 [==============================] - 9s 2ms/step - loss: 0.0743 - accuracy: 0.9736 - val_loss: 0.0913 - val_accuracy: 0.9604\n",
            "\n",
            "Epoch 00046: val_loss did not improve from 0.09000\n",
            "Epoch 47/100\n",
            "4136/4136 [==============================] - 9s 2ms/step - loss: 0.0753 - accuracy: 0.9736 - val_loss: 0.0906 - val_accuracy: 0.9604\n",
            "\n",
            "Epoch 00047: val_loss did not improve from 0.09000\n",
            "Epoch 48/100\n",
            "4136/4136 [==============================] - 9s 2ms/step - loss: 0.0749 - accuracy: 0.9741 - val_loss: 0.0920 - val_accuracy: 0.9604\n",
            "\n",
            "Epoch 00048: val_loss did not improve from 0.09000\n",
            "Epoch 49/100\n",
            "4136/4136 [==============================] - 9s 2ms/step - loss: 0.0747 - accuracy: 0.9736 - val_loss: 0.0912 - val_accuracy: 0.9623\n",
            "\n",
            "Epoch 00049: val_loss did not improve from 0.09000\n",
            "Epoch 50/100\n",
            "4136/4136 [==============================] - 9s 2ms/step - loss: 0.0739 - accuracy: 0.9751 - val_loss: 0.0954 - val_accuracy: 0.9604\n",
            "\n",
            "Epoch 00050: ReduceLROnPlateau reducing learning rate to 3.000000106112566e-07.\n",
            "\n",
            "Epoch 00050: val_loss did not improve from 0.09000\n",
            "Epoch 51/100\n",
            "4136/4136 [==============================] - 9s 2ms/step - loss: 0.0735 - accuracy: 0.9761 - val_loss: 0.0915 - val_accuracy: 0.9633\n",
            "\n",
            "Epoch 00051: val_loss did not improve from 0.09000\n",
            "Epoch 52/100\n",
            "4136/4136 [==============================] - 9s 2ms/step - loss: 0.0726 - accuracy: 0.9751 - val_loss: 0.0905 - val_accuracy: 0.9633\n",
            "\n",
            "Epoch 00052: val_loss did not improve from 0.09000\n",
            "Epoch 53/100\n",
            "4136/4136 [==============================] - 9s 2ms/step - loss: 0.0727 - accuracy: 0.9744 - val_loss: 0.0902 - val_accuracy: 0.9633\n",
            "\n",
            "Epoch 00053: val_loss did not improve from 0.09000\n",
            "Epoch 54/100\n",
            "4136/4136 [==============================] - 9s 2ms/step - loss: 0.0726 - accuracy: 0.9746 - val_loss: 0.0903 - val_accuracy: 0.9633\n",
            "\n",
            "Epoch 00054: val_loss did not improve from 0.09000\n",
            "Epoch 55/100\n",
            "4136/4136 [==============================] - 9s 2ms/step - loss: 0.0725 - accuracy: 0.9744 - val_loss: 0.0900 - val_accuracy: 0.9633\n",
            "\n",
            "Epoch 00055: ReduceLROnPlateau reducing learning rate to 1e-07.\n",
            "\n",
            "Epoch 00055: val_loss improved from 0.09000 to 0.09000, saving model to /gdrive/My Drive/Colab Notebooks/squeezenet.h5\n",
            "Epoch 56/100\n",
            "4136/4136 [==============================] - 9s 2ms/step - loss: 0.0723 - accuracy: 0.9746 - val_loss: 0.0901 - val_accuracy: 0.9633\n",
            "\n",
            "Epoch 00056: val_loss did not improve from 0.09000\n",
            "Epoch 57/100\n",
            "4136/4136 [==============================] - 9s 2ms/step - loss: 0.0724 - accuracy: 0.9749 - val_loss: 0.0902 - val_accuracy: 0.9633\n",
            "\n",
            "Epoch 00057: val_loss did not improve from 0.09000\n",
            "Epoch 58/100\n",
            "4136/4136 [==============================] - 9s 2ms/step - loss: 0.0723 - accuracy: 0.9749 - val_loss: 0.0902 - val_accuracy: 0.9633\n",
            "\n",
            "Epoch 00058: val_loss did not improve from 0.09000\n",
            "Epoch 59/100\n",
            "4136/4136 [==============================] - 9s 2ms/step - loss: 0.0724 - accuracy: 0.9746 - val_loss: 0.0902 - val_accuracy: 0.9633\n",
            "\n",
            "Epoch 00059: val_loss did not improve from 0.09000\n",
            "Epoch 60/100\n",
            "4136/4136 [==============================] - 9s 2ms/step - loss: 0.0724 - accuracy: 0.9749 - val_loss: 0.0902 - val_accuracy: 0.9633\n",
            "\n",
            "Epoch 00060: ReduceLROnPlateau reducing learning rate to 1e-07.\n",
            "\n",
            "Epoch 00060: val_loss did not improve from 0.09000\n",
            "Epoch 61/100\n",
            "4136/4136 [==============================] - 9s 2ms/step - loss: 0.0723 - accuracy: 0.9749 - val_loss: 0.0901 - val_accuracy: 0.9633\n",
            "\n",
            "Epoch 00061: val_loss did not improve from 0.09000\n",
            "Epoch 62/100\n",
            "4136/4136 [==============================] - 9s 2ms/step - loss: 0.0723 - accuracy: 0.9751 - val_loss: 0.0901 - val_accuracy: 0.9633\n",
            "\n",
            "Epoch 00062: val_loss did not improve from 0.09000\n",
            "Epoch 63/100\n",
            "4136/4136 [==============================] - 9s 2ms/step - loss: 0.0723 - accuracy: 0.9751 - val_loss: 0.0902 - val_accuracy: 0.9633\n",
            "\n",
            "Epoch 00063: val_loss did not improve from 0.09000\n",
            "Epoch 64/100\n",
            "4136/4136 [==============================] - 9s 2ms/step - loss: 0.0723 - accuracy: 0.9751 - val_loss: 0.0901 - val_accuracy: 0.9633\n",
            "\n",
            "Epoch 00064: val_loss did not improve from 0.09000\n",
            "Epoch 65/100\n",
            "4136/4136 [==============================] - 9s 2ms/step - loss: 0.0723 - accuracy: 0.9749 - val_loss: 0.0901 - val_accuracy: 0.9633\n",
            "\n",
            "Epoch 00065: ReduceLROnPlateau reducing learning rate to 1e-07.\n",
            "\n",
            "Epoch 00065: val_loss did not improve from 0.09000\n",
            "Epoch 66/100\n",
            "4136/4136 [==============================] - 9s 2ms/step - loss: 0.0723 - accuracy: 0.9749 - val_loss: 0.0901 - val_accuracy: 0.9633\n",
            "\n",
            "Epoch 00066: val_loss did not improve from 0.09000\n",
            "Epoch 67/100\n",
            "4136/4136 [==============================] - 9s 2ms/step - loss: 0.0723 - accuracy: 0.9751 - val_loss: 0.0901 - val_accuracy: 0.9633\n",
            "\n",
            "Epoch 00067: val_loss did not improve from 0.09000\n",
            "Epoch 68/100\n",
            "4136/4136 [==============================] - 9s 2ms/step - loss: 0.0722 - accuracy: 0.9746 - val_loss: 0.0901 - val_accuracy: 0.9633\n",
            "\n",
            "Epoch 00068: val_loss did not improve from 0.09000\n",
            "Epoch 69/100\n",
            "4136/4136 [==============================] - 9s 2ms/step - loss: 0.0722 - accuracy: 0.9749 - val_loss: 0.0901 - val_accuracy: 0.9633\n",
            "\n",
            "Epoch 00069: val_loss did not improve from 0.09000\n",
            "Epoch 70/100\n",
            "4136/4136 [==============================] - 9s 2ms/step - loss: 0.0723 - accuracy: 0.9751 - val_loss: 0.0901 - val_accuracy: 0.9633\n",
            "\n",
            "Epoch 00070: ReduceLROnPlateau reducing learning rate to 1e-07.\n",
            "\n",
            "Epoch 00070: val_loss did not improve from 0.09000\n",
            "Epoch 00070: early stopping\n"
          ],
          "name": "stdout"
        }
      ]
    },
    {
      "cell_type": "code",
      "metadata": {
        "id": "8cH5NtZRBpH8",
        "colab_type": "code",
        "outputId": "e5669928-3960-46b5-9c5d-03342ccf810e",
        "colab": {
          "base_uri": "https://localhost:8080/",
          "height": 327
        }
      },
      "source": [
        "import matplotlib.pyplot as plt\n",
        "acc = history.history['accuracy']\n",
        "val_acc = history.history['val_accuracy']\n",
        "loss = history.history['loss']\n",
        "val_loss = history.history['val_loss']\n",
        "\n",
        "epochs = range(1,len(acc) + 1)\n",
        "plt.plot(epochs,acc, 'b', color='green', label = 'Training acc')\n",
        "plt.plot(epochs,val_acc, 'b', color='orange', label = 'Validation acc')\n",
        "\n",
        "plt.title('Training and validation accuracy')\n",
        "\n",
        "plt.legend()\n",
        "\n",
        "plt.figure()"
      ],
      "execution_count": 28,
      "outputs": [
        {
          "output_type": "execute_result",
          "data": {
            "text/plain": [
              "<Figure size 432x288 with 0 Axes>"
            ]
          },
          "metadata": {
            "tags": []
          },
          "execution_count": 28
        },
        {
          "output_type": "display_data",
          "data": {
            "image/png": "[encoded data removed]",
            "text/plain": [
              "<Figure size 432x288 with 1 Axes>"
            ]
          },
          "metadata": {
            "tags": []
          }
        },
        {
          "output_type": "display_data",
          "data": {
            "text/plain": [
              "<Figure size 432x288 with 0 Axes>"
            ]
          },
          "metadata": {
            "tags": []
          }
        }
      ]
    },
    {
      "cell_type": "code",
      "metadata": {
        "id": "xOSeILbMDlQq",
        "colab_type": "code",
        "outputId": "79b77f74-e56e-4457-e1d6-29db6fb882cc",
        "colab": {
          "base_uri": "https://localhost:8080/",
          "height": 293
        }
      },
      "source": [
        "plt.plot(epochs, loss, 'b', color='green', label = 'Training loss')\n",
        "plt.plot(epochs, val_loss, 'b', color='orange', label = 'Validation loss')\n",
        "plt.title('Training and validation loss')\n",
        "\n",
        "plt.legend()\n",
        "plt.show()\n"
      ],
      "execution_count": 29,
      "outputs": [
        {
          "output_type": "display_data",
          "data": {
            "image/png": "[encoded data removed]",
            "text/plain": [
              "<Figure size 432x288 with 1 Axes>"
            ]
          },
          "metadata": {
            "tags": []
          }
        }
      ]
    },
    {
      "cell_type": "code",
      "metadata": {
        "id": "n1cAW9R1DncQ",
        "colab_type": "code",
        "outputId": "33d67a6a-ea02-43b0-8e1e-a575ff28c516",
        "colab": {
          "base_uri": "https://localhost:8080/",
          "height": 51
        }
      },
      "source": [
        "model.load_weights('/gdrive/My Drive/Colab Notebooks/squeezenet.h5')\n",
        "model.evaluate(train_x,train_y)"
      ],
      "execution_count": 30,
      "outputs": [
        {
          "output_type": "stream",
          "text": [
            "4136/4136 [==============================] - 6s 1ms/step\n"
          ],
          "name": "stdout"
        },
        {
          "output_type": "execute_result",
          "data": {
            "text/plain": [
              "[0.07229422968839308, 0.9748549461364746]"
            ]
          },
          "metadata": {
            "tags": []
          },
          "execution_count": 30
        }
      ]
    },
    {
      "cell_type": "code",
      "metadata": {
        "id": "qdi-QYTRGKEE",
        "colab_type": "code",
        "outputId": "beaea489-a716-4a18-e768-bc74ac3cb7c3",
        "colab": {
          "base_uri": "https://localhost:8080/",
          "height": 51
        }
      },
      "source": [
        "model.evaluate(valid_x,valid_y)"
      ],
      "execution_count": 31,
      "outputs": [
        {
          "output_type": "stream",
          "text": [
            "1035/1035 [==============================] - 1s 1ms/step\n"
          ],
          "name": "stdout"
        },
        {
          "output_type": "execute_result",
          "data": {
            "text/plain": [
              "[0.08999529443141344, 0.9632850289344788]"
            ]
          },
          "metadata": {
            "tags": []
          },
          "execution_count": 31
        }
      ]
    },
    {
      "cell_type": "code",
      "metadata": {
        "id": "uDHZtwXWQMja",
        "colab_type": "code",
        "outputId": "379d33bc-5097-4ce2-eb6b-a3cd6b3b930f",
        "colab": {
          "base_uri": "https://localhost:8080/",
          "height": 51
        }
      },
      "source": [
        "model.evaluate(test_x,test_y)"
      ],
      "execution_count": 32,
      "outputs": [
        {
          "output_type": "stream",
          "text": [
            "464/464 [==============================] - 1s 2ms/step\n"
          ],
          "name": "stdout"
        },
        {
          "output_type": "execute_result",
          "data": {
            "text/plain": [
              "[0.11334381702131238, 0.9612069129943848]"
            ]
          },
          "metadata": {
            "tags": []
          },
          "execution_count": 32
        }
      ]
    },
    {
      "cell_type": "code",
      "metadata": {
        "id": "HA6OtqPQQdK9",
        "colab_type": "code",
        "colab": {}
      },
      "source": [
        "pred = model.predict(test_x)"
      ],
      "execution_count": 0,
      "outputs": []
    },
    {
      "cell_type": "code",
      "metadata": {
        "id": "jq9nN-cMnq58",
        "colab_type": "code",
        "outputId": "c9c211c2-26f5-4a21-84b2-d925d40de9d9",
        "colab": {
          "base_uri": "https://localhost:8080/",
          "height": 475
        }
      },
      "source": [
        "import seaborn as sns\n",
        "import pandas as pd\n",
        "from sklearn.metrics import confusion_matrix\n",
        "import matplotlib.pyplot as plt\n",
        "\n",
        "y = np.argmax(test_y,axis = 1)\n",
        "pred_y = np.argmax(pred,axis = 1)\n",
        "data = confusion_matrix(y,pred_y)\n",
        "df = pd.DataFrame(data, columns = ['COVID','Normal','Pnemonia'], index = ['COVID','Normal','Pnemonia'])\n",
        "df.index.name = 'Actual'\n",
        "df.columns.name = 'Predicted'\n",
        "plt.figure(figsize = (10,7))\n",
        "sns.set(font_scale = 1.4)\n",
        "sns.heatmap(df, cmap = 'Blues', annot = True, fmt = \"d\")"
      ],
      "execution_count": 34,
      "outputs": [
        {
          "output_type": "execute_result",
          "data": {
            "text/plain": [
              "<matplotlib.axes._subplots.AxesSubplot at 0x7ff101596b38>"
            ]
          },
          "metadata": {
            "tags": []
          },
          "execution_count": 34
        },
        {
          "output_type": "display_data",
          "data": {
            "image/png": "[encoded data removed]",
            "text/plain": [
              "<Figure size 720x504 with 2 Axes>"
            ]
          },
          "metadata": {
            "tags": []
          }
        }
      ]
    },
    {
      "cell_type": "code",
      "metadata": {
        "id": "1w6T51EQ99Nj",
        "colab_type": "code",
        "colab": {
          "base_uri": "https://localhost:8080/",
          "height": 187
        },
        "outputId": "11662579-758a-4772-f136-002b79b46d50"
      },
      "source": [
        "from sklearn import metrics\n",
        "\n",
        "print(metrics.classification_report(y,pred_y,digits=3))"
      ],
      "execution_count": 35,
      "outputs": [
        {
          "output_type": "stream",
          "text": [
            "              precision    recall  f1-score   support\n",
            "\n",
            "           0      0.973     0.973     0.973        37\n",
            "           1      0.964     0.964     0.964       222\n",
            "           2      0.956     0.956     0.956       205\n",
            "\n",
            "    accuracy                          0.961       464\n",
            "   macro avg      0.964     0.964     0.964       464\n",
            "weighted avg      0.961     0.961     0.961       464\n",
            "\n"
          ],
          "name": "stdout"
        }
      ]
    },
    {
      "cell_type": "code",
      "metadata": {
        "id": "2z74CmKZCRHx",
        "colab_type": "code",
        "colab": {}
      },
      "source": [
        ""
      ],
      "execution_count": 0,
      "outputs": []
    }
  ]
}