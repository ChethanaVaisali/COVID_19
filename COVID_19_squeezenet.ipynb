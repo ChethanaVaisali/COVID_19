{
  "nbformat": 4,
  "nbformat_minor": 0,
  "metadata": {
    "colab": {
      "name": "COVID_19_squeezenet.ipynb",
      "provenance": [],
      "collapsed_sections": [],
      "machine_shape": "hm",
      "include_colab_link": true
    },
    "kernelspec": {
      "name": "python3",
      "display_name": "Python 3"
    },
    "accelerator": "GPU"
  },
  "cells": [
    {
      "cell_type": "markdown",
      "metadata": {
        "id": "view-in-github",
        "colab_type": "text"
      },
      "source": [
        "<a href=\"https://colab.research.google.com/github/ChethanaVaisali/COVID_19/blob/master/COVID_19_squeezenet.ipynb\" target=\"_parent\"><img src=\"https://colab.research.google.com/assets/colab-badge.svg\" alt=\"Open In Colab\"/></a>"
      ]
    },
    {
      "cell_type": "markdown",
      "metadata": {
        "id": "iLTEiH3A6dbZ",
        "colab_type": "text"
      },
      "source": [
        "# **SqueezeNet For COVID-19**"
      ]
    },
    {
      "cell_type": "markdown",
      "metadata": {
        "id": "ex3q0R9K6lAJ",
        "colab_type": "text"
      },
      "source": [
        "### Import data"
      ]
    },
    {
      "cell_type": "code",
      "metadata": {
        "id": "PVL_2MpL6hLw",
        "colab_type": "code",
        "outputId": "fcd457ab-2d9a-49d7-f990-fdfd32076cbf",
        "colab": {
          "base_uri": "https://localhost:8080/",
          "height": 122
        }
      },
      "source": [
        "# Mount google drive\n",
        "from google.colab import drive\n",
        "drive.mount('/gdrive')"
      ],
      "execution_count": 1,
      "outputs": [
        {
          "output_type": "stream",
          "text": [
            "Go to this URL in a browser: https://accounts.google.com/o/oauth2/auth?client_id=947318989803-6bn6qk8qdgf4n4g3pfee6491hc0brc4i.apps.googleusercontent.com&redirect_uri=urn%3aietf%3awg%3aoauth%3a2.0%3aoob&response_type=code&scope=email%20https%3a%2f%2fwww.googleapis.com%2fauth%2fdocs.test%20https%3a%2f%2fwww.googleapis.com%2fauth%2fdrive%20https%3a%2f%2fwww.googleapis.com%2fauth%2fdrive.photos.readonly%20https%3a%2f%2fwww.googleapis.com%2fauth%2fpeopleapi.readonly\n",
            "\n",
            "Enter your authorization code:\n",
            "··········\n",
            "Mounted at /gdrive\n"
          ],
          "name": "stdout"
        }
      ]
    },
    {
      "cell_type": "code",
      "metadata": {
        "id": "Ay3zDjNt7u5-",
        "colab_type": "code",
        "colab": {
          "base_uri": "https://localhost:8080/",
          "height": 34
        },
        "outputId": "6b3a3706-2533-4e5c-b9fd-6888ad85cdc0"
      },
      "source": [
        "import keras\n",
        "from keras import backend as K\n",
        "from keras.models import Model, load_model, Sequential\n",
        "from keras.layers import Input, BatchNormalization, Activation, Dense, Dropout, Add, Flatten\n",
        "from keras.layers.core import Lambda, RepeatVector, Reshape\n",
        "from keras.layers.convolutional import Conv2D, Conv2DTranspose\n",
        "from keras.layers.pooling import GlobalMaxPool2D, MaxPooling2D, MaxPool2D, GlobalAveragePooling2D\n",
        "from keras.layers.merge import concatenate, add\n",
        "from keras.callbacks import EarlyStopping, ModelCheckpoint, ReduceLROnPlateau\n",
        "from keras.optimizers import Adam\n",
        "from keras.preprocessing.image import ImageDataGenerator, array_to_img, img_to_array, load_img\n",
        "from keras import regularizers, optimizers"
      ],
      "execution_count": 4,
      "outputs": [
        {
          "output_type": "stream",
          "text": [
            "Using TensorFlow backend.\n"
          ],
          "name": "stderr"
        }
      ]
    },
    {
      "cell_type": "code",
      "metadata": {
        "id": "jhX5tKwK6sob",
        "colab_type": "code",
        "outputId": "49b1b976-1a76-4b1a-d1cd-093141f502ce",
        "colab": {
          "base_uri": "https://localhost:8080/",
          "height": 68
        }
      },
      "source": [
        "import numpy as np\n",
        "\n",
        "train_x = np.load('/gdrive/My Drive/CV Assignment 2/Augmented_data/train1_x.npy')\n",
        "train_y = np.load('/gdrive/My Drive/CV Assignment 2/Augmented_data/train1_y.npy')\n",
        "\n",
        "valid_x = np.load('/gdrive/My Drive/CV Assignment 2/Augmented_data/valid1_x.npy')\n",
        "valid_y = np.load('/gdrive/My Drive/CV Assignment 2/Augmented_data/valid1_y.npy')\n",
        "\n",
        "test_x = np.load('/gdrive/My Drive/CV Assignment 2/Augmented_data/test1_x.npy')\n",
        "test_y = np.load('/gdrive/My Drive/CV Assignment 2/Augmented_data/test1_y.npy')\n",
        "\n",
        "print(train_x.shape, train_y.shape)\n",
        "print(valid_x.shape, valid_y.shape)\n",
        "print(test_x.shape, test_y.shape)"
      ],
      "execution_count": 2,
      "outputs": [
        {
          "output_type": "stream",
          "text": [
            "(4470, 227, 227, 3) (4470,)\n",
            "(1168, 227, 227, 3) (1168,)\n",
            "(465, 227, 227, 3) (465,)\n"
          ],
          "name": "stdout"
        }
      ]
    },
    {
      "cell_type": "code",
      "metadata": {
        "id": "evit5EV1-_gU",
        "colab_type": "code",
        "outputId": "f5de7015-854b-40c7-d019-b21d91531def",
        "colab": {
          "base_uri": "https://localhost:8080/",
          "height": 34
        }
      },
      "source": [
        "## Convert y to one hot encoding\n",
        "\n",
        "train_y = keras.utils.to_categorical(train_y)\n",
        "valid_y = keras.utils.to_categorical(valid_y)\n",
        "test_y = keras.utils.to_categorical(test_y)\n",
        "\n",
        "print(train_y.size, valid_y.size, test_y.size)"
      ],
      "execution_count": 5,
      "outputs": [
        {
          "output_type": "stream",
          "text": [
            "13410 3504 1395\n"
          ],
          "name": "stdout"
        }
      ]
    },
    {
      "cell_type": "code",
      "metadata": {
        "id": "vR0r4mqA7U0O",
        "colab_type": "code",
        "outputId": "654ad4bd-41e3-4ff8-b11d-7f4f762750ca",
        "colab": {
          "base_uri": "https://localhost:8080/",
          "height": 1000
        }
      },
      "source": [
        "!pip install git+https://github.com/rcmalli/keras-squeezenet.git\n",
        "!pip install keras_squeezenet"
      ],
      "execution_count": 6,
      "outputs": [
        {
          "output_type": "stream",
          "text": [
            "Collecting git+https://github.com/rcmalli/keras-squeezenet.git\n",
            "  Cloning https://github.com/rcmalli/keras-squeezenet.git to /tmp/pip-req-build-k5jvxkfa\n",
            "  Running command git clone -q https://github.com/rcmalli/keras-squeezenet.git /tmp/pip-req-build-k5jvxkfa\n",
            "Requirement already satisfied: numpy>=1.9.1 in /usr/local/lib/python3.6/dist-packages (from keras-squeezenet==0.4) (1.18.4)\n",
            "Requirement already satisfied: scipy>=0.14 in /usr/local/lib/python3.6/dist-packages (from keras-squeezenet==0.4) (1.4.1)\n",
            "Requirement already satisfied: h5py in /usr/local/lib/python3.6/dist-packages (from keras-squeezenet==0.4) (2.10.0)\n",
            "Requirement already satisfied: tensorflow in /usr/local/lib/python3.6/dist-packages (from keras-squeezenet==0.4) (2.2.0)\n",
            "Requirement already satisfied: keras in /usr/local/lib/python3.6/dist-packages (from keras-squeezenet==0.4) (2.3.1)\n",
            "Requirement already satisfied: six>=1.9.0 in /usr/local/lib/python3.6/dist-packages (from keras-squeezenet==0.4) (1.12.0)\n",
            "Requirement already satisfied: pyyaml in /usr/local/lib/python3.6/dist-packages (from keras-squeezenet==0.4) (3.13)\n",
            "Requirement already satisfied: astunparse==1.6.3 in /usr/local/lib/python3.6/dist-packages (from tensorflow->keras-squeezenet==0.4) (1.6.3)\n",
            "Requirement already satisfied: tensorflow-estimator<2.3.0,>=2.2.0 in /usr/local/lib/python3.6/dist-packages (from tensorflow->keras-squeezenet==0.4) (2.2.0)\n",
            "Requirement already satisfied: wrapt>=1.11.1 in /usr/local/lib/python3.6/dist-packages (from tensorflow->keras-squeezenet==0.4) (1.12.1)\n",
            "Requirement already satisfied: absl-py>=0.7.0 in /usr/local/lib/python3.6/dist-packages (from tensorflow->keras-squeezenet==0.4) (0.9.0)\n",
            "Requirement already satisfied: gast==0.3.3 in /usr/local/lib/python3.6/dist-packages (from tensorflow->keras-squeezenet==0.4) (0.3.3)\n",
            "Requirement already satisfied: wheel>=0.26; python_version >= \"3\" in /usr/local/lib/python3.6/dist-packages (from tensorflow->keras-squeezenet==0.4) (0.34.2)\n",
            "Requirement already satisfied: google-pasta>=0.1.8 in /usr/local/lib/python3.6/dist-packages (from tensorflow->keras-squeezenet==0.4) (0.2.0)\n",
            "Requirement already satisfied: keras-preprocessing>=1.1.0 in /usr/local/lib/python3.6/dist-packages (from tensorflow->keras-squeezenet==0.4) (1.1.2)\n",
            "Requirement already satisfied: opt-einsum>=2.3.2 in /usr/local/lib/python3.6/dist-packages (from tensorflow->keras-squeezenet==0.4) (3.2.1)\n",
            "Requirement already satisfied: grpcio>=1.8.6 in /usr/local/lib/python3.6/dist-packages (from tensorflow->keras-squeezenet==0.4) (1.29.0)\n",
            "Requirement already satisfied: protobuf>=3.8.0 in /usr/local/lib/python3.6/dist-packages (from tensorflow->keras-squeezenet==0.4) (3.10.0)\n",
            "Requirement already satisfied: tensorboard<2.3.0,>=2.2.0 in /usr/local/lib/python3.6/dist-packages (from tensorflow->keras-squeezenet==0.4) (2.2.1)\n",
            "Requirement already satisfied: termcolor>=1.1.0 in /usr/local/lib/python3.6/dist-packages (from tensorflow->keras-squeezenet==0.4) (1.1.0)\n",
            "Requirement already satisfied: keras-applications>=1.0.6 in /usr/local/lib/python3.6/dist-packages (from keras->keras-squeezenet==0.4) (1.0.8)\n",
            "Requirement already satisfied: setuptools in /usr/local/lib/python3.6/dist-packages (from protobuf>=3.8.0->tensorflow->keras-squeezenet==0.4) (46.3.0)\n",
            "Requirement already satisfied: google-auth<2,>=1.6.3 in /usr/local/lib/python3.6/dist-packages (from tensorboard<2.3.0,>=2.2.0->tensorflow->keras-squeezenet==0.4) (1.7.2)\n",
            "Requirement already satisfied: requests<3,>=2.21.0 in /usr/local/lib/python3.6/dist-packages (from tensorboard<2.3.0,>=2.2.0->tensorflow->keras-squeezenet==0.4) (2.23.0)\n",
            "Requirement already satisfied: google-auth-oauthlib<0.5,>=0.4.1 in /usr/local/lib/python3.6/dist-packages (from tensorboard<2.3.0,>=2.2.0->tensorflow->keras-squeezenet==0.4) (0.4.1)\n",
            "Requirement already satisfied: tensorboard-plugin-wit>=1.6.0 in /usr/local/lib/python3.6/dist-packages (from tensorboard<2.3.0,>=2.2.0->tensorflow->keras-squeezenet==0.4) (1.6.0.post3)\n",
            "Requirement already satisfied: markdown>=2.6.8 in /usr/local/lib/python3.6/dist-packages (from tensorboard<2.3.0,>=2.2.0->tensorflow->keras-squeezenet==0.4) (3.2.2)\n",
            "Requirement already satisfied: werkzeug>=0.11.15 in /usr/local/lib/python3.6/dist-packages (from tensorboard<2.3.0,>=2.2.0->tensorflow->keras-squeezenet==0.4) (1.0.1)\n",
            "Requirement already satisfied: pyasn1-modules>=0.2.1 in /usr/local/lib/python3.6/dist-packages (from google-auth<2,>=1.6.3->tensorboard<2.3.0,>=2.2.0->tensorflow->keras-squeezenet==0.4) (0.2.8)\n",
            "Requirement already satisfied: cachetools<3.2,>=2.0.0 in /usr/local/lib/python3.6/dist-packages (from google-auth<2,>=1.6.3->tensorboard<2.3.0,>=2.2.0->tensorflow->keras-squeezenet==0.4) (3.1.1)\n",
            "Requirement already satisfied: rsa<4.1,>=3.1.4 in /usr/local/lib/python3.6/dist-packages (from google-auth<2,>=1.6.3->tensorboard<2.3.0,>=2.2.0->tensorflow->keras-squeezenet==0.4) (4.0)\n",
            "Requirement already satisfied: chardet<4,>=3.0.2 in /usr/local/lib/python3.6/dist-packages (from requests<3,>=2.21.0->tensorboard<2.3.0,>=2.2.0->tensorflow->keras-squeezenet==0.4) (3.0.4)\n",
            "Requirement already satisfied: idna<3,>=2.5 in /usr/local/lib/python3.6/dist-packages (from requests<3,>=2.21.0->tensorboard<2.3.0,>=2.2.0->tensorflow->keras-squeezenet==0.4) (2.9)\n",
            "Requirement already satisfied: certifi>=2017.4.17 in /usr/local/lib/python3.6/dist-packages (from requests<3,>=2.21.0->tensorboard<2.3.0,>=2.2.0->tensorflow->keras-squeezenet==0.4) (2020.4.5.1)\n",
            "Requirement already satisfied: urllib3!=1.25.0,!=1.25.1,<1.26,>=1.21.1 in /usr/local/lib/python3.6/dist-packages (from requests<3,>=2.21.0->tensorboard<2.3.0,>=2.2.0->tensorflow->keras-squeezenet==0.4) (1.24.3)\n",
            "Requirement already satisfied: requests-oauthlib>=0.7.0 in /usr/local/lib/python3.6/dist-packages (from google-auth-oauthlib<0.5,>=0.4.1->tensorboard<2.3.0,>=2.2.0->tensorflow->keras-squeezenet==0.4) (1.3.0)\n",
            "Requirement already satisfied: importlib-metadata; python_version < \"3.8\" in /usr/local/lib/python3.6/dist-packages (from markdown>=2.6.8->tensorboard<2.3.0,>=2.2.0->tensorflow->keras-squeezenet==0.4) (1.6.0)\n",
            "Requirement already satisfied: pyasn1<0.5.0,>=0.4.6 in /usr/local/lib/python3.6/dist-packages (from pyasn1-modules>=0.2.1->google-auth<2,>=1.6.3->tensorboard<2.3.0,>=2.2.0->tensorflow->keras-squeezenet==0.4) (0.4.8)\n",
            "Requirement already satisfied: oauthlib>=3.0.0 in /usr/local/lib/python3.6/dist-packages (from requests-oauthlib>=0.7.0->google-auth-oauthlib<0.5,>=0.4.1->tensorboard<2.3.0,>=2.2.0->tensorflow->keras-squeezenet==0.4) (3.1.0)\n",
            "Requirement already satisfied: zipp>=0.5 in /usr/local/lib/python3.6/dist-packages (from importlib-metadata; python_version < \"3.8\"->markdown>=2.6.8->tensorboard<2.3.0,>=2.2.0->tensorflow->keras-squeezenet==0.4) (3.1.0)\n",
            "Building wheels for collected packages: keras-squeezenet\n",
            "  Building wheel for keras-squeezenet (setup.py) ... \u001b[?25l\u001b[?25hdone\n",
            "  Created wheel for keras-squeezenet: filename=keras_squeezenet-0.4-cp36-none-any.whl size=4425 sha256=820935fb57086cb629556bbf20bd38f6a7226ef75cd8359334ac795c12c9a2ad\n",
            "  Stored in directory: /tmp/pip-ephem-wheel-cache-zbehfpsh/wheels/15/75/ed/45fffbc76d921a5be07af533b774b35bbf40551334c51af91f\n",
            "Successfully built keras-squeezenet\n",
            "Installing collected packages: keras-squeezenet\n",
            "Successfully installed keras-squeezenet-0.4\n",
            "Requirement already satisfied: keras_squeezenet in /usr/local/lib/python3.6/dist-packages (0.4)\n",
            "Requirement already satisfied: tensorflow in /usr/local/lib/python3.6/dist-packages (from keras_squeezenet) (2.2.0)\n",
            "Requirement already satisfied: keras in /usr/local/lib/python3.6/dist-packages (from keras_squeezenet) (2.3.1)\n",
            "Requirement already satisfied: scipy>=0.14 in /usr/local/lib/python3.6/dist-packages (from keras_squeezenet) (1.4.1)\n",
            "Requirement already satisfied: numpy>=1.9.1 in /usr/local/lib/python3.6/dist-packages (from keras_squeezenet) (1.18.4)\n",
            "Requirement already satisfied: pyyaml in /usr/local/lib/python3.6/dist-packages (from keras_squeezenet) (3.13)\n",
            "Requirement already satisfied: h5py in /usr/local/lib/python3.6/dist-packages (from keras_squeezenet) (2.10.0)\n",
            "Requirement already satisfied: six>=1.9.0 in /usr/local/lib/python3.6/dist-packages (from keras_squeezenet) (1.12.0)\n",
            "Requirement already satisfied: protobuf>=3.8.0 in /usr/local/lib/python3.6/dist-packages (from tensorflow->keras_squeezenet) (3.10.0)\n",
            "Requirement already satisfied: wrapt>=1.11.1 in /usr/local/lib/python3.6/dist-packages (from tensorflow->keras_squeezenet) (1.12.1)\n",
            "Requirement already satisfied: wheel>=0.26; python_version >= \"3\" in /usr/local/lib/python3.6/dist-packages (from tensorflow->keras_squeezenet) (0.34.2)\n",
            "Requirement already satisfied: grpcio>=1.8.6 in /usr/local/lib/python3.6/dist-packages (from tensorflow->keras_squeezenet) (1.29.0)\n",
            "Requirement already satisfied: astunparse==1.6.3 in /usr/local/lib/python3.6/dist-packages (from tensorflow->keras_squeezenet) (1.6.3)\n",
            "Requirement already satisfied: tensorboard<2.3.0,>=2.2.0 in /usr/local/lib/python3.6/dist-packages (from tensorflow->keras_squeezenet) (2.2.1)\n",
            "Requirement already satisfied: tensorflow-estimator<2.3.0,>=2.2.0 in /usr/local/lib/python3.6/dist-packages (from tensorflow->keras_squeezenet) (2.2.0)\n",
            "Requirement already satisfied: keras-preprocessing>=1.1.0 in /usr/local/lib/python3.6/dist-packages (from tensorflow->keras_squeezenet) (1.1.2)\n",
            "Requirement already satisfied: absl-py>=0.7.0 in /usr/local/lib/python3.6/dist-packages (from tensorflow->keras_squeezenet) (0.9.0)\n",
            "Requirement already satisfied: opt-einsum>=2.3.2 in /usr/local/lib/python3.6/dist-packages (from tensorflow->keras_squeezenet) (3.2.1)\n",
            "Requirement already satisfied: google-pasta>=0.1.8 in /usr/local/lib/python3.6/dist-packages (from tensorflow->keras_squeezenet) (0.2.0)\n",
            "Requirement already satisfied: termcolor>=1.1.0 in /usr/local/lib/python3.6/dist-packages (from tensorflow->keras_squeezenet) (1.1.0)\n",
            "Requirement already satisfied: gast==0.3.3 in /usr/local/lib/python3.6/dist-packages (from tensorflow->keras_squeezenet) (0.3.3)\n",
            "Requirement already satisfied: keras-applications>=1.0.6 in /usr/local/lib/python3.6/dist-packages (from keras->keras_squeezenet) (1.0.8)\n",
            "Requirement already satisfied: setuptools in /usr/local/lib/python3.6/dist-packages (from protobuf>=3.8.0->tensorflow->keras_squeezenet) (46.3.0)\n",
            "Requirement already satisfied: markdown>=2.6.8 in /usr/local/lib/python3.6/dist-packages (from tensorboard<2.3.0,>=2.2.0->tensorflow->keras_squeezenet) (3.2.2)\n",
            "Requirement already satisfied: requests<3,>=2.21.0 in /usr/local/lib/python3.6/dist-packages (from tensorboard<2.3.0,>=2.2.0->tensorflow->keras_squeezenet) (2.23.0)\n",
            "Requirement already satisfied: werkzeug>=0.11.15 in /usr/local/lib/python3.6/dist-packages (from tensorboard<2.3.0,>=2.2.0->tensorflow->keras_squeezenet) (1.0.1)\n",
            "Requirement already satisfied: google-auth<2,>=1.6.3 in /usr/local/lib/python3.6/dist-packages (from tensorboard<2.3.0,>=2.2.0->tensorflow->keras_squeezenet) (1.7.2)\n",
            "Requirement already satisfied: google-auth-oauthlib<0.5,>=0.4.1 in /usr/local/lib/python3.6/dist-packages (from tensorboard<2.3.0,>=2.2.0->tensorflow->keras_squeezenet) (0.4.1)\n",
            "Requirement already satisfied: tensorboard-plugin-wit>=1.6.0 in /usr/local/lib/python3.6/dist-packages (from tensorboard<2.3.0,>=2.2.0->tensorflow->keras_squeezenet) (1.6.0.post3)\n",
            "Requirement already satisfied: importlib-metadata; python_version < \"3.8\" in /usr/local/lib/python3.6/dist-packages (from markdown>=2.6.8->tensorboard<2.3.0,>=2.2.0->tensorflow->keras_squeezenet) (1.6.0)\n",
            "Requirement already satisfied: urllib3!=1.25.0,!=1.25.1,<1.26,>=1.21.1 in /usr/local/lib/python3.6/dist-packages (from requests<3,>=2.21.0->tensorboard<2.3.0,>=2.2.0->tensorflow->keras_squeezenet) (1.24.3)\n",
            "Requirement already satisfied: idna<3,>=2.5 in /usr/local/lib/python3.6/dist-packages (from requests<3,>=2.21.0->tensorboard<2.3.0,>=2.2.0->tensorflow->keras_squeezenet) (2.9)\n",
            "Requirement already satisfied: chardet<4,>=3.0.2 in /usr/local/lib/python3.6/dist-packages (from requests<3,>=2.21.0->tensorboard<2.3.0,>=2.2.0->tensorflow->keras_squeezenet) (3.0.4)\n",
            "Requirement already satisfied: certifi>=2017.4.17 in /usr/local/lib/python3.6/dist-packages (from requests<3,>=2.21.0->tensorboard<2.3.0,>=2.2.0->tensorflow->keras_squeezenet) (2020.4.5.1)\n",
            "Requirement already satisfied: pyasn1-modules>=0.2.1 in /usr/local/lib/python3.6/dist-packages (from google-auth<2,>=1.6.3->tensorboard<2.3.0,>=2.2.0->tensorflow->keras_squeezenet) (0.2.8)\n",
            "Requirement already satisfied: cachetools<3.2,>=2.0.0 in /usr/local/lib/python3.6/dist-packages (from google-auth<2,>=1.6.3->tensorboard<2.3.0,>=2.2.0->tensorflow->keras_squeezenet) (3.1.1)\n",
            "Requirement already satisfied: rsa<4.1,>=3.1.4 in /usr/local/lib/python3.6/dist-packages (from google-auth<2,>=1.6.3->tensorboard<2.3.0,>=2.2.0->tensorflow->keras_squeezenet) (4.0)\n",
            "Requirement already satisfied: requests-oauthlib>=0.7.0 in /usr/local/lib/python3.6/dist-packages (from google-auth-oauthlib<0.5,>=0.4.1->tensorboard<2.3.0,>=2.2.0->tensorflow->keras_squeezenet) (1.3.0)\n",
            "Requirement already satisfied: zipp>=0.5 in /usr/local/lib/python3.6/dist-packages (from importlib-metadata; python_version < \"3.8\"->markdown>=2.6.8->tensorboard<2.3.0,>=2.2.0->tensorflow->keras_squeezenet) (3.1.0)\n",
            "Requirement already satisfied: pyasn1<0.5.0,>=0.4.6 in /usr/local/lib/python3.6/dist-packages (from pyasn1-modules>=0.2.1->google-auth<2,>=1.6.3->tensorboard<2.3.0,>=2.2.0->tensorflow->keras_squeezenet) (0.4.8)\n",
            "Requirement already satisfied: oauthlib>=3.0.0 in /usr/local/lib/python3.6/dist-packages (from requests-oauthlib>=0.7.0->google-auth-oauthlib<0.5,>=0.4.1->tensorboard<2.3.0,>=2.2.0->tensorflow->keras_squeezenet) (3.1.0)\n"
          ],
          "name": "stdout"
        }
      ]
    },
    {
      "cell_type": "code",
      "metadata": {
        "id": "T9lAgUBL7xjo",
        "colab_type": "code",
        "outputId": "400749b2-d587-4913-df0b-a5d05d618c0f",
        "colab": {
          "base_uri": "https://localhost:8080/",
          "height": 1000
        }
      },
      "source": [
        "# Import model\n",
        "from keras_squeezenet import SqueezeNet\n",
        "sn_model = SqueezeNet(include_top = False, weights='imagenet',input_shape=(227,227,3))\n",
        "sn_model.summary()"
      ],
      "execution_count": 7,
      "outputs": [
        {
          "output_type": "stream",
          "text": [
            "Downloading data from https://github.com/rcmalli/keras-squeezenet/releases/download/v1.0/squeezenet_weights_tf_dim_ordering_tf_kernels_notop.h5\n",
            "3039232/3032184 [==============================] - 1s 0us/step\n",
            "Model: \"squeezenet\"\n",
            "__________________________________________________________________________________________________\n",
            "Layer (type)                    Output Shape         Param #     Connected to                     \n",
            "==================================================================================================\n",
            "input_1 (InputLayer)            (None, 227, 227, 3)  0                                            \n",
            "__________________________________________________________________________________________________\n",
            "conv1 (Conv2D)                  (None, 113, 113, 64) 1792        input_1[0][0]                    \n",
            "__________________________________________________________________________________________________\n",
            "relu_conv1 (Activation)         (None, 113, 113, 64) 0           conv1[0][0]                      \n",
            "__________________________________________________________________________________________________\n",
            "pool1 (MaxPooling2D)            (None, 56, 56, 64)   0           relu_conv1[0][0]                 \n",
            "__________________________________________________________________________________________________\n",
            "fire2/squeeze1x1 (Conv2D)       (None, 56, 56, 16)   1040        pool1[0][0]                      \n",
            "__________________________________________________________________________________________________\n",
            "fire2/relu_squeeze1x1 (Activati (None, 56, 56, 16)   0           fire2/squeeze1x1[0][0]           \n",
            "__________________________________________________________________________________________________\n",
            "fire2/expand1x1 (Conv2D)        (None, 56, 56, 64)   1088        fire2/relu_squeeze1x1[0][0]      \n",
            "__________________________________________________________________________________________________\n",
            "fire2/expand3x3 (Conv2D)        (None, 56, 56, 64)   9280        fire2/relu_squeeze1x1[0][0]      \n",
            "__________________________________________________________________________________________________\n",
            "fire2/relu_expand1x1 (Activatio (None, 56, 56, 64)   0           fire2/expand1x1[0][0]            \n",
            "__________________________________________________________________________________________________\n",
            "fire2/relu_expand3x3 (Activatio (None, 56, 56, 64)   0           fire2/expand3x3[0][0]            \n",
            "__________________________________________________________________________________________________\n",
            "fire2/concat (Concatenate)      (None, 56, 56, 128)  0           fire2/relu_expand1x1[0][0]       \n",
            "                                                                 fire2/relu_expand3x3[0][0]       \n",
            "__________________________________________________________________________________________________\n",
            "fire3/squeeze1x1 (Conv2D)       (None, 56, 56, 16)   2064        fire2/concat[0][0]               \n",
            "__________________________________________________________________________________________________\n",
            "fire3/relu_squeeze1x1 (Activati (None, 56, 56, 16)   0           fire3/squeeze1x1[0][0]           \n",
            "__________________________________________________________________________________________________\n",
            "fire3/expand1x1 (Conv2D)        (None, 56, 56, 64)   1088        fire3/relu_squeeze1x1[0][0]      \n",
            "__________________________________________________________________________________________________\n",
            "fire3/expand3x3 (Conv2D)        (None, 56, 56, 64)   9280        fire3/relu_squeeze1x1[0][0]      \n",
            "__________________________________________________________________________________________________\n",
            "fire3/relu_expand1x1 (Activatio (None, 56, 56, 64)   0           fire3/expand1x1[0][0]            \n",
            "__________________________________________________________________________________________________\n",
            "fire3/relu_expand3x3 (Activatio (None, 56, 56, 64)   0           fire3/expand3x3[0][0]            \n",
            "__________________________________________________________________________________________________\n",
            "fire3/concat (Concatenate)      (None, 56, 56, 128)  0           fire3/relu_expand1x1[0][0]       \n",
            "                                                                 fire3/relu_expand3x3[0][0]       \n",
            "__________________________________________________________________________________________________\n",
            "pool3 (MaxPooling2D)            (None, 27, 27, 128)  0           fire3/concat[0][0]               \n",
            "__________________________________________________________________________________________________\n",
            "fire4/squeeze1x1 (Conv2D)       (None, 27, 27, 32)   4128        pool3[0][0]                      \n",
            "__________________________________________________________________________________________________\n",
            "fire4/relu_squeeze1x1 (Activati (None, 27, 27, 32)   0           fire4/squeeze1x1[0][0]           \n",
            "__________________________________________________________________________________________________\n",
            "fire4/expand1x1 (Conv2D)        (None, 27, 27, 128)  4224        fire4/relu_squeeze1x1[0][0]      \n",
            "__________________________________________________________________________________________________\n",
            "fire4/expand3x3 (Conv2D)        (None, 27, 27, 128)  36992       fire4/relu_squeeze1x1[0][0]      \n",
            "__________________________________________________________________________________________________\n",
            "fire4/relu_expand1x1 (Activatio (None, 27, 27, 128)  0           fire4/expand1x1[0][0]            \n",
            "__________________________________________________________________________________________________\n",
            "fire4/relu_expand3x3 (Activatio (None, 27, 27, 128)  0           fire4/expand3x3[0][0]            \n",
            "__________________________________________________________________________________________________\n",
            "fire4/concat (Concatenate)      (None, 27, 27, 256)  0           fire4/relu_expand1x1[0][0]       \n",
            "                                                                 fire4/relu_expand3x3[0][0]       \n",
            "__________________________________________________________________________________________________\n",
            "fire5/squeeze1x1 (Conv2D)       (None, 27, 27, 32)   8224        fire4/concat[0][0]               \n",
            "__________________________________________________________________________________________________\n",
            "fire5/relu_squeeze1x1 (Activati (None, 27, 27, 32)   0           fire5/squeeze1x1[0][0]           \n",
            "__________________________________________________________________________________________________\n",
            "fire5/expand1x1 (Conv2D)        (None, 27, 27, 128)  4224        fire5/relu_squeeze1x1[0][0]      \n",
            "__________________________________________________________________________________________________\n",
            "fire5/expand3x3 (Conv2D)        (None, 27, 27, 128)  36992       fire5/relu_squeeze1x1[0][0]      \n",
            "__________________________________________________________________________________________________\n",
            "fire5/relu_expand1x1 (Activatio (None, 27, 27, 128)  0           fire5/expand1x1[0][0]            \n",
            "__________________________________________________________________________________________________\n",
            "fire5/relu_expand3x3 (Activatio (None, 27, 27, 128)  0           fire5/expand3x3[0][0]            \n",
            "__________________________________________________________________________________________________\n",
            "fire5/concat (Concatenate)      (None, 27, 27, 256)  0           fire5/relu_expand1x1[0][0]       \n",
            "                                                                 fire5/relu_expand3x3[0][0]       \n",
            "__________________________________________________________________________________________________\n",
            "pool5 (MaxPooling2D)            (None, 13, 13, 256)  0           fire5/concat[0][0]               \n",
            "__________________________________________________________________________________________________\n",
            "fire6/squeeze1x1 (Conv2D)       (None, 13, 13, 48)   12336       pool5[0][0]                      \n",
            "__________________________________________________________________________________________________\n",
            "fire6/relu_squeeze1x1 (Activati (None, 13, 13, 48)   0           fire6/squeeze1x1[0][0]           \n",
            "__________________________________________________________________________________________________\n",
            "fire6/expand1x1 (Conv2D)        (None, 13, 13, 192)  9408        fire6/relu_squeeze1x1[0][0]      \n",
            "__________________________________________________________________________________________________\n",
            "fire6/expand3x3 (Conv2D)        (None, 13, 13, 192)  83136       fire6/relu_squeeze1x1[0][0]      \n",
            "__________________________________________________________________________________________________\n",
            "fire6/relu_expand1x1 (Activatio (None, 13, 13, 192)  0           fire6/expand1x1[0][0]            \n",
            "__________________________________________________________________________________________________\n",
            "fire6/relu_expand3x3 (Activatio (None, 13, 13, 192)  0           fire6/expand3x3[0][0]            \n",
            "__________________________________________________________________________________________________\n",
            "fire6/concat (Concatenate)      (None, 13, 13, 384)  0           fire6/relu_expand1x1[0][0]       \n",
            "                                                                 fire6/relu_expand3x3[0][0]       \n",
            "__________________________________________________________________________________________________\n",
            "fire7/squeeze1x1 (Conv2D)       (None, 13, 13, 48)   18480       fire6/concat[0][0]               \n",
            "__________________________________________________________________________________________________\n",
            "fire7/relu_squeeze1x1 (Activati (None, 13, 13, 48)   0           fire7/squeeze1x1[0][0]           \n",
            "__________________________________________________________________________________________________\n",
            "fire7/expand1x1 (Conv2D)        (None, 13, 13, 192)  9408        fire7/relu_squeeze1x1[0][0]      \n",
            "__________________________________________________________________________________________________\n",
            "fire7/expand3x3 (Conv2D)        (None, 13, 13, 192)  83136       fire7/relu_squeeze1x1[0][0]      \n",
            "__________________________________________________________________________________________________\n",
            "fire7/relu_expand1x1 (Activatio (None, 13, 13, 192)  0           fire7/expand1x1[0][0]            \n",
            "__________________________________________________________________________________________________\n",
            "fire7/relu_expand3x3 (Activatio (None, 13, 13, 192)  0           fire7/expand3x3[0][0]            \n",
            "__________________________________________________________________________________________________\n",
            "fire7/concat (Concatenate)      (None, 13, 13, 384)  0           fire7/relu_expand1x1[0][0]       \n",
            "                                                                 fire7/relu_expand3x3[0][0]       \n",
            "__________________________________________________________________________________________________\n",
            "fire8/squeeze1x1 (Conv2D)       (None, 13, 13, 64)   24640       fire7/concat[0][0]               \n",
            "__________________________________________________________________________________________________\n",
            "fire8/relu_squeeze1x1 (Activati (None, 13, 13, 64)   0           fire8/squeeze1x1[0][0]           \n",
            "__________________________________________________________________________________________________\n",
            "fire8/expand1x1 (Conv2D)        (None, 13, 13, 256)  16640       fire8/relu_squeeze1x1[0][0]      \n",
            "__________________________________________________________________________________________________\n",
            "fire8/expand3x3 (Conv2D)        (None, 13, 13, 256)  147712      fire8/relu_squeeze1x1[0][0]      \n",
            "__________________________________________________________________________________________________\n",
            "fire8/relu_expand1x1 (Activatio (None, 13, 13, 256)  0           fire8/expand1x1[0][0]            \n",
            "__________________________________________________________________________________________________\n",
            "fire8/relu_expand3x3 (Activatio (None, 13, 13, 256)  0           fire8/expand3x3[0][0]            \n",
            "__________________________________________________________________________________________________\n",
            "fire8/concat (Concatenate)      (None, 13, 13, 512)  0           fire8/relu_expand1x1[0][0]       \n",
            "                                                                 fire8/relu_expand3x3[0][0]       \n",
            "__________________________________________________________________________________________________\n",
            "fire9/squeeze1x1 (Conv2D)       (None, 13, 13, 64)   32832       fire8/concat[0][0]               \n",
            "__________________________________________________________________________________________________\n",
            "fire9/relu_squeeze1x1 (Activati (None, 13, 13, 64)   0           fire9/squeeze1x1[0][0]           \n",
            "__________________________________________________________________________________________________\n",
            "fire9/expand1x1 (Conv2D)        (None, 13, 13, 256)  16640       fire9/relu_squeeze1x1[0][0]      \n",
            "__________________________________________________________________________________________________\n",
            "fire9/expand3x3 (Conv2D)        (None, 13, 13, 256)  147712      fire9/relu_squeeze1x1[0][0]      \n",
            "__________________________________________________________________________________________________\n",
            "fire9/relu_expand1x1 (Activatio (None, 13, 13, 256)  0           fire9/expand1x1[0][0]            \n",
            "__________________________________________________________________________________________________\n",
            "fire9/relu_expand3x3 (Activatio (None, 13, 13, 256)  0           fire9/expand3x3[0][0]            \n",
            "__________________________________________________________________________________________________\n",
            "fire9/concat (Concatenate)      (None, 13, 13, 512)  0           fire9/relu_expand1x1[0][0]       \n",
            "                                                                 fire9/relu_expand3x3[0][0]       \n",
            "==================================================================================================\n",
            "Total params: 722,496\n",
            "Trainable params: 722,496\n",
            "Non-trainable params: 0\n",
            "__________________________________________________________________________________________________\n"
          ],
          "name": "stdout"
        }
      ]
    },
    {
      "cell_type": "code",
      "metadata": {
        "id": "189lzdGs73Fr",
        "colab_type": "code",
        "outputId": "22dc8bff-f912-4d16-8467-8c7a78728863",
        "colab": {
          "base_uri": "https://localhost:8080/",
          "height": 1000
        }
      },
      "source": [
        "# The addition of top layers\n",
        "x = Flatten()(sn_model.layers[-1].output)\n",
        "x = Dense(256, activation = 'relu', kernel_regularizer=keras.regularizers.l2(0.01))(x)\n",
        "x = Dense(256, activation = 'relu', kernel_regularizer=keras.regularizers.l2(0.01))(x)\n",
        "x = Dense(3, activation = 'softmax')(x)\n",
        "model = Model(inputs = sn_model.input, outputs = x)\n",
        "\n",
        "for layer in sn_model.layers:\n",
        "  layer.trainable = False\n",
        "\n",
        "for layer in sn_model.layers:\n",
        "  if\"BatchNormalization\" in layer.__class__.__name__:\n",
        "    layer.trainable = True\n",
        "\n",
        "model.compile(optimizer= optimizers.SGD(lr=0.0003, decay=1e-6, momentum=0.9, nesterov=True) , loss='categorical_crossentropy',metrics=['accuracy'])\n",
        "model.summary()"
      ],
      "execution_count": 8,
      "outputs": [
        {
          "output_type": "stream",
          "text": [
            "Model: \"model_1\"\n",
            "__________________________________________________________________________________________________\n",
            "Layer (type)                    Output Shape         Param #     Connected to                     \n",
            "==================================================================================================\n",
            "input_1 (InputLayer)            (None, 227, 227, 3)  0                                            \n",
            "__________________________________________________________________________________________________\n",
            "conv1 (Conv2D)                  (None, 113, 113, 64) 1792        input_1[0][0]                    \n",
            "__________________________________________________________________________________________________\n",
            "relu_conv1 (Activation)         (None, 113, 113, 64) 0           conv1[0][0]                      \n",
            "__________________________________________________________________________________________________\n",
            "pool1 (MaxPooling2D)            (None, 56, 56, 64)   0           relu_conv1[0][0]                 \n",
            "__________________________________________________________________________________________________\n",
            "fire2/squeeze1x1 (Conv2D)       (None, 56, 56, 16)   1040        pool1[0][0]                      \n",
            "__________________________________________________________________________________________________\n",
            "fire2/relu_squeeze1x1 (Activati (None, 56, 56, 16)   0           fire2/squeeze1x1[0][0]           \n",
            "__________________________________________________________________________________________________\n",
            "fire2/expand1x1 (Conv2D)        (None, 56, 56, 64)   1088        fire2/relu_squeeze1x1[0][0]      \n",
            "__________________________________________________________________________________________________\n",
            "fire2/expand3x3 (Conv2D)        (None, 56, 56, 64)   9280        fire2/relu_squeeze1x1[0][0]      \n",
            "__________________________________________________________________________________________________\n",
            "fire2/relu_expand1x1 (Activatio (None, 56, 56, 64)   0           fire2/expand1x1[0][0]            \n",
            "__________________________________________________________________________________________________\n",
            "fire2/relu_expand3x3 (Activatio (None, 56, 56, 64)   0           fire2/expand3x3[0][0]            \n",
            "__________________________________________________________________________________________________\n",
            "fire2/concat (Concatenate)      (None, 56, 56, 128)  0           fire2/relu_expand1x1[0][0]       \n",
            "                                                                 fire2/relu_expand3x3[0][0]       \n",
            "__________________________________________________________________________________________________\n",
            "fire3/squeeze1x1 (Conv2D)       (None, 56, 56, 16)   2064        fire2/concat[0][0]               \n",
            "__________________________________________________________________________________________________\n",
            "fire3/relu_squeeze1x1 (Activati (None, 56, 56, 16)   0           fire3/squeeze1x1[0][0]           \n",
            "__________________________________________________________________________________________________\n",
            "fire3/expand1x1 (Conv2D)        (None, 56, 56, 64)   1088        fire3/relu_squeeze1x1[0][0]      \n",
            "__________________________________________________________________________________________________\n",
            "fire3/expand3x3 (Conv2D)        (None, 56, 56, 64)   9280        fire3/relu_squeeze1x1[0][0]      \n",
            "__________________________________________________________________________________________________\n",
            "fire3/relu_expand1x1 (Activatio (None, 56, 56, 64)   0           fire3/expand1x1[0][0]            \n",
            "__________________________________________________________________________________________________\n",
            "fire3/relu_expand3x3 (Activatio (None, 56, 56, 64)   0           fire3/expand3x3[0][0]            \n",
            "__________________________________________________________________________________________________\n",
            "fire3/concat (Concatenate)      (None, 56, 56, 128)  0           fire3/relu_expand1x1[0][0]       \n",
            "                                                                 fire3/relu_expand3x3[0][0]       \n",
            "__________________________________________________________________________________________________\n",
            "pool3 (MaxPooling2D)            (None, 27, 27, 128)  0           fire3/concat[0][0]               \n",
            "__________________________________________________________________________________________________\n",
            "fire4/squeeze1x1 (Conv2D)       (None, 27, 27, 32)   4128        pool3[0][0]                      \n",
            "__________________________________________________________________________________________________\n",
            "fire4/relu_squeeze1x1 (Activati (None, 27, 27, 32)   0           fire4/squeeze1x1[0][0]           \n",
            "__________________________________________________________________________________________________\n",
            "fire4/expand1x1 (Conv2D)        (None, 27, 27, 128)  4224        fire4/relu_squeeze1x1[0][0]      \n",
            "__________________________________________________________________________________________________\n",
            "fire4/expand3x3 (Conv2D)        (None, 27, 27, 128)  36992       fire4/relu_squeeze1x1[0][0]      \n",
            "__________________________________________________________________________________________________\n",
            "fire4/relu_expand1x1 (Activatio (None, 27, 27, 128)  0           fire4/expand1x1[0][0]            \n",
            "__________________________________________________________________________________________________\n",
            "fire4/relu_expand3x3 (Activatio (None, 27, 27, 128)  0           fire4/expand3x3[0][0]            \n",
            "__________________________________________________________________________________________________\n",
            "fire4/concat (Concatenate)      (None, 27, 27, 256)  0           fire4/relu_expand1x1[0][0]       \n",
            "                                                                 fire4/relu_expand3x3[0][0]       \n",
            "__________________________________________________________________________________________________\n",
            "fire5/squeeze1x1 (Conv2D)       (None, 27, 27, 32)   8224        fire4/concat[0][0]               \n",
            "__________________________________________________________________________________________________\n",
            "fire5/relu_squeeze1x1 (Activati (None, 27, 27, 32)   0           fire5/squeeze1x1[0][0]           \n",
            "__________________________________________________________________________________________________\n",
            "fire5/expand1x1 (Conv2D)        (None, 27, 27, 128)  4224        fire5/relu_squeeze1x1[0][0]      \n",
            "__________________________________________________________________________________________________\n",
            "fire5/expand3x3 (Conv2D)        (None, 27, 27, 128)  36992       fire5/relu_squeeze1x1[0][0]      \n",
            "__________________________________________________________________________________________________\n",
            "fire5/relu_expand1x1 (Activatio (None, 27, 27, 128)  0           fire5/expand1x1[0][0]            \n",
            "__________________________________________________________________________________________________\n",
            "fire5/relu_expand3x3 (Activatio (None, 27, 27, 128)  0           fire5/expand3x3[0][0]            \n",
            "__________________________________________________________________________________________________\n",
            "fire5/concat (Concatenate)      (None, 27, 27, 256)  0           fire5/relu_expand1x1[0][0]       \n",
            "                                                                 fire5/relu_expand3x3[0][0]       \n",
            "__________________________________________________________________________________________________\n",
            "pool5 (MaxPooling2D)            (None, 13, 13, 256)  0           fire5/concat[0][0]               \n",
            "__________________________________________________________________________________________________\n",
            "fire6/squeeze1x1 (Conv2D)       (None, 13, 13, 48)   12336       pool5[0][0]                      \n",
            "__________________________________________________________________________________________________\n",
            "fire6/relu_squeeze1x1 (Activati (None, 13, 13, 48)   0           fire6/squeeze1x1[0][0]           \n",
            "__________________________________________________________________________________________________\n",
            "fire6/expand1x1 (Conv2D)        (None, 13, 13, 192)  9408        fire6/relu_squeeze1x1[0][0]      \n",
            "__________________________________________________________________________________________________\n",
            "fire6/expand3x3 (Conv2D)        (None, 13, 13, 192)  83136       fire6/relu_squeeze1x1[0][0]      \n",
            "__________________________________________________________________________________________________\n",
            "fire6/relu_expand1x1 (Activatio (None, 13, 13, 192)  0           fire6/expand1x1[0][0]            \n",
            "__________________________________________________________________________________________________\n",
            "fire6/relu_expand3x3 (Activatio (None, 13, 13, 192)  0           fire6/expand3x3[0][0]            \n",
            "__________________________________________________________________________________________________\n",
            "fire6/concat (Concatenate)      (None, 13, 13, 384)  0           fire6/relu_expand1x1[0][0]       \n",
            "                                                                 fire6/relu_expand3x3[0][0]       \n",
            "__________________________________________________________________________________________________\n",
            "fire7/squeeze1x1 (Conv2D)       (None, 13, 13, 48)   18480       fire6/concat[0][0]               \n",
            "__________________________________________________________________________________________________\n",
            "fire7/relu_squeeze1x1 (Activati (None, 13, 13, 48)   0           fire7/squeeze1x1[0][0]           \n",
            "__________________________________________________________________________________________________\n",
            "fire7/expand1x1 (Conv2D)        (None, 13, 13, 192)  9408        fire7/relu_squeeze1x1[0][0]      \n",
            "__________________________________________________________________________________________________\n",
            "fire7/expand3x3 (Conv2D)        (None, 13, 13, 192)  83136       fire7/relu_squeeze1x1[0][0]      \n",
            "__________________________________________________________________________________________________\n",
            "fire7/relu_expand1x1 (Activatio (None, 13, 13, 192)  0           fire7/expand1x1[0][0]            \n",
            "__________________________________________________________________________________________________\n",
            "fire7/relu_expand3x3 (Activatio (None, 13, 13, 192)  0           fire7/expand3x3[0][0]            \n",
            "__________________________________________________________________________________________________\n",
            "fire7/concat (Concatenate)      (None, 13, 13, 384)  0           fire7/relu_expand1x1[0][0]       \n",
            "                                                                 fire7/relu_expand3x3[0][0]       \n",
            "__________________________________________________________________________________________________\n",
            "fire8/squeeze1x1 (Conv2D)       (None, 13, 13, 64)   24640       fire7/concat[0][0]               \n",
            "__________________________________________________________________________________________________\n",
            "fire8/relu_squeeze1x1 (Activati (None, 13, 13, 64)   0           fire8/squeeze1x1[0][0]           \n",
            "__________________________________________________________________________________________________\n",
            "fire8/expand1x1 (Conv2D)        (None, 13, 13, 256)  16640       fire8/relu_squeeze1x1[0][0]      \n",
            "__________________________________________________________________________________________________\n",
            "fire8/expand3x3 (Conv2D)        (None, 13, 13, 256)  147712      fire8/relu_squeeze1x1[0][0]      \n",
            "__________________________________________________________________________________________________\n",
            "fire8/relu_expand1x1 (Activatio (None, 13, 13, 256)  0           fire8/expand1x1[0][0]            \n",
            "__________________________________________________________________________________________________\n",
            "fire8/relu_expand3x3 (Activatio (None, 13, 13, 256)  0           fire8/expand3x3[0][0]            \n",
            "__________________________________________________________________________________________________\n",
            "fire8/concat (Concatenate)      (None, 13, 13, 512)  0           fire8/relu_expand1x1[0][0]       \n",
            "                                                                 fire8/relu_expand3x3[0][0]       \n",
            "__________________________________________________________________________________________________\n",
            "fire9/squeeze1x1 (Conv2D)       (None, 13, 13, 64)   32832       fire8/concat[0][0]               \n",
            "__________________________________________________________________________________________________\n",
            "fire9/relu_squeeze1x1 (Activati (None, 13, 13, 64)   0           fire9/squeeze1x1[0][0]           \n",
            "__________________________________________________________________________________________________\n",
            "fire9/expand1x1 (Conv2D)        (None, 13, 13, 256)  16640       fire9/relu_squeeze1x1[0][0]      \n",
            "__________________________________________________________________________________________________\n",
            "fire9/expand3x3 (Conv2D)        (None, 13, 13, 256)  147712      fire9/relu_squeeze1x1[0][0]      \n",
            "__________________________________________________________________________________________________\n",
            "fire9/relu_expand1x1 (Activatio (None, 13, 13, 256)  0           fire9/expand1x1[0][0]            \n",
            "__________________________________________________________________________________________________\n",
            "fire9/relu_expand3x3 (Activatio (None, 13, 13, 256)  0           fire9/expand3x3[0][0]            \n",
            "__________________________________________________________________________________________________\n",
            "fire9/concat (Concatenate)      (None, 13, 13, 512)  0           fire9/relu_expand1x1[0][0]       \n",
            "                                                                 fire9/relu_expand3x3[0][0]       \n",
            "__________________________________________________________________________________________________\n",
            "flatten_1 (Flatten)             (None, 86528)        0           fire9/concat[0][0]               \n",
            "__________________________________________________________________________________________________\n",
            "dense_1 (Dense)                 (None, 256)          22151424    flatten_1[0][0]                  \n",
            "__________________________________________________________________________________________________\n",
            "dense_2 (Dense)                 (None, 256)          65792       dense_1[0][0]                    \n",
            "__________________________________________________________________________________________________\n",
            "dense_3 (Dense)                 (None, 3)            771         dense_2[0][0]                    \n",
            "==================================================================================================\n",
            "Total params: 22,940,483\n",
            "Trainable params: 22,217,987\n",
            "Non-trainable params: 722,496\n",
            "__________________________________________________________________________________________________\n"
          ],
          "name": "stdout"
        }
      ]
    },
    {
      "cell_type": "code",
      "metadata": {
        "id": "LJmqlcsvAAKe",
        "colab_type": "code",
        "outputId": "63e8456f-3a10-4dfc-d5a4-118c6f766443",
        "colab": {
          "base_uri": "https://localhost:8080/",
          "height": 1000
        }
      },
      "source": [
        "mc = ModelCheckpoint('/gdrive/My Drive/Colab Notebooks/squeezenet.h5',monitor='val_loss', save_best_only = True, verbose = 1, mode='min')\n",
        "es = EarlyStopping(monitor='val_loss', mode = 'min',patience = 15, verbose=1)\n",
        "lr = ReduceLROnPlateau(factor=0.1, patience = 5, min_lr = 0.0000001, verbose = 1)\n",
        "history = model.fit(train_x, train_y, batch_size = 64, epochs = 100, validation_data=(valid_x,valid_y), shuffle = True, callbacks = [es,lr, mc])"
      ],
      "execution_count": 50,
      "outputs": [
        {
          "output_type": "stream",
          "text": [
            "Train on 4470 samples, validate on 1168 samples\n",
            "Epoch 1/100\n",
            "4470/4470 [==============================] - 9s 2ms/step - loss: 5.3265 - accuracy: 0.9714 - val_loss: 5.4893 - val_accuracy: 0.9272\n",
            "\n",
            "Epoch 00001: val_loss improved from inf to 5.48931, saving model to /gdrive/My Drive/Colab Notebooks/squeezenet.h5\n",
            "Epoch 2/100\n",
            "4470/4470 [==============================] - 9s 2ms/step - loss: 5.3242 - accuracy: 0.9725 - val_loss: 5.4874 - val_accuracy: 0.9281\n",
            "\n",
            "Epoch 00002: val_loss improved from 5.48931 to 5.48744, saving model to /gdrive/My Drive/Colab Notebooks/squeezenet.h5\n",
            "Epoch 3/100\n",
            "4470/4470 [==============================] - 9s 2ms/step - loss: 5.3232 - accuracy: 0.9723 - val_loss: 5.4867 - val_accuracy: 0.9281\n",
            "\n",
            "Epoch 00003: val_loss improved from 5.48744 to 5.48669, saving model to /gdrive/My Drive/Colab Notebooks/squeezenet.h5\n",
            "Epoch 4/100\n",
            "4470/4470 [==============================] - 9s 2ms/step - loss: 5.3229 - accuracy: 0.9727 - val_loss: 5.4864 - val_accuracy: 0.9289\n",
            "\n",
            "Epoch 00004: val_loss improved from 5.48669 to 5.48643, saving model to /gdrive/My Drive/Colab Notebooks/squeezenet.h5\n",
            "Epoch 5/100\n",
            "4470/4470 [==============================] - 9s 2ms/step - loss: 5.3227 - accuracy: 0.9732 - val_loss: 5.4864 - val_accuracy: 0.9298\n",
            "\n",
            "Epoch 00005: val_loss improved from 5.48643 to 5.48635, saving model to /gdrive/My Drive/Colab Notebooks/squeezenet.h5\n",
            "Epoch 6/100\n",
            "4470/4470 [==============================] - 9s 2ms/step - loss: 5.3226 - accuracy: 0.9732 - val_loss: 5.4863 - val_accuracy: 0.9289\n",
            "\n",
            "Epoch 00006: val_loss improved from 5.48635 to 5.48630, saving model to /gdrive/My Drive/Colab Notebooks/squeezenet.h5\n",
            "Epoch 7/100\n",
            "4470/4470 [==============================] - 9s 2ms/step - loss: 5.3225 - accuracy: 0.9734 - val_loss: 5.4863 - val_accuracy: 0.9289\n",
            "\n",
            "Epoch 00007: val_loss improved from 5.48630 to 5.48627, saving model to /gdrive/My Drive/Colab Notebooks/squeezenet.h5\n",
            "Epoch 8/100\n",
            "4470/4470 [==============================] - 9s 2ms/step - loss: 5.3225 - accuracy: 0.9736 - val_loss: 5.4862 - val_accuracy: 0.9298\n",
            "\n",
            "Epoch 00008: val_loss improved from 5.48627 to 5.48624, saving model to /gdrive/My Drive/Colab Notebooks/squeezenet.h5\n",
            "Epoch 9/100\n",
            "4470/4470 [==============================] - 9s 2ms/step - loss: 5.3224 - accuracy: 0.9738 - val_loss: 5.4862 - val_accuracy: 0.9298\n",
            "\n",
            "Epoch 00009: val_loss did not improve from 5.48624\n",
            "Epoch 10/100\n",
            "4470/4470 [==============================] - 9s 2ms/step - loss: 5.3223 - accuracy: 0.9736 - val_loss: 5.4862 - val_accuracy: 0.9298\n",
            "\n",
            "Epoch 00010: val_loss improved from 5.48624 to 5.48618, saving model to /gdrive/My Drive/Colab Notebooks/squeezenet.h5\n",
            "Epoch 11/100\n",
            "4470/4470 [==============================] - 9s 2ms/step - loss: 5.3223 - accuracy: 0.9740 - val_loss: 5.4862 - val_accuracy: 0.9307\n",
            "\n",
            "Epoch 00011: val_loss improved from 5.48618 to 5.48616, saving model to /gdrive/My Drive/Colab Notebooks/squeezenet.h5\n",
            "Epoch 12/100\n",
            "4470/4470 [==============================] - 9s 2ms/step - loss: 5.3222 - accuracy: 0.9736 - val_loss: 5.4861 - val_accuracy: 0.9307\n",
            "\n",
            "Epoch 00012: val_loss improved from 5.48616 to 5.48612, saving model to /gdrive/My Drive/Colab Notebooks/squeezenet.h5\n",
            "Epoch 13/100\n",
            "4470/4470 [==============================] - 9s 2ms/step - loss: 5.3221 - accuracy: 0.9738 - val_loss: 5.4861 - val_accuracy: 0.9307\n",
            "\n",
            "Epoch 00013: val_loss improved from 5.48612 to 5.48609, saving model to /gdrive/My Drive/Colab Notebooks/squeezenet.h5\n",
            "Epoch 14/100\n",
            "4470/4470 [==============================] - 9s 2ms/step - loss: 5.3221 - accuracy: 0.9736 - val_loss: 5.4860 - val_accuracy: 0.9298\n",
            "\n",
            "Epoch 00014: val_loss improved from 5.48609 to 5.48599, saving model to /gdrive/My Drive/Colab Notebooks/squeezenet.h5\n",
            "Epoch 15/100\n",
            "4470/4470 [==============================] - 9s 2ms/step - loss: 5.3220 - accuracy: 0.9738 - val_loss: 5.4860 - val_accuracy: 0.9307\n",
            "\n",
            "Epoch 00015: val_loss improved from 5.48599 to 5.48596, saving model to /gdrive/My Drive/Colab Notebooks/squeezenet.h5\n",
            "Epoch 16/100\n",
            "4470/4470 [==============================] - 9s 2ms/step - loss: 5.3220 - accuracy: 0.9738 - val_loss: 5.4860 - val_accuracy: 0.9307\n",
            "\n",
            "Epoch 00016: val_loss did not improve from 5.48596\n",
            "Epoch 17/100\n",
            "4470/4470 [==============================] - 9s 2ms/step - loss: 5.3219 - accuracy: 0.9736 - val_loss: 5.4859 - val_accuracy: 0.9307\n",
            "\n",
            "Epoch 00017: val_loss improved from 5.48596 to 5.48586, saving model to /gdrive/My Drive/Colab Notebooks/squeezenet.h5\n",
            "Epoch 18/100\n",
            "4470/4470 [==============================] - 9s 2ms/step - loss: 5.3219 - accuracy: 0.9738 - val_loss: 5.4859 - val_accuracy: 0.9307\n",
            "\n",
            "Epoch 00018: val_loss improved from 5.48586 to 5.48585, saving model to /gdrive/My Drive/Colab Notebooks/squeezenet.h5\n",
            "Epoch 19/100\n",
            "4470/4470 [==============================] - 9s 2ms/step - loss: 5.3218 - accuracy: 0.9738 - val_loss: 5.4858 - val_accuracy: 0.9307\n",
            "\n",
            "Epoch 00019: val_loss improved from 5.48585 to 5.48578, saving model to /gdrive/My Drive/Colab Notebooks/squeezenet.h5\n",
            "Epoch 20/100\n",
            "4470/4470 [==============================] - 9s 2ms/step - loss: 5.3217 - accuracy: 0.9736 - val_loss: 5.4858 - val_accuracy: 0.9307\n",
            "\n",
            "Epoch 00020: val_loss improved from 5.48578 to 5.48577, saving model to /gdrive/My Drive/Colab Notebooks/squeezenet.h5\n",
            "Epoch 21/100\n",
            "4470/4470 [==============================] - 9s 2ms/step - loss: 5.3217 - accuracy: 0.9736 - val_loss: 5.4857 - val_accuracy: 0.9307\n",
            "\n",
            "Epoch 00021: val_loss improved from 5.48577 to 5.48569, saving model to /gdrive/My Drive/Colab Notebooks/squeezenet.h5\n",
            "Epoch 22/100\n",
            "4470/4470 [==============================] - 9s 2ms/step - loss: 5.3216 - accuracy: 0.9738 - val_loss: 5.4856 - val_accuracy: 0.9298\n",
            "\n",
            "Epoch 00022: val_loss improved from 5.48569 to 5.48559, saving model to /gdrive/My Drive/Colab Notebooks/squeezenet.h5\n",
            "Epoch 23/100\n",
            "4470/4470 [==============================] - 9s 2ms/step - loss: 5.3216 - accuracy: 0.9738 - val_loss: 5.4856 - val_accuracy: 0.9307\n",
            "\n",
            "Epoch 00023: val_loss improved from 5.48559 to 5.48557, saving model to /gdrive/My Drive/Colab Notebooks/squeezenet.h5\n",
            "Epoch 24/100\n",
            "4470/4470 [==============================] - 9s 2ms/step - loss: 5.3215 - accuracy: 0.9738 - val_loss: 5.4855 - val_accuracy: 0.9307\n",
            "\n",
            "Epoch 00024: val_loss improved from 5.48557 to 5.48550, saving model to /gdrive/My Drive/Colab Notebooks/squeezenet.h5\n",
            "Epoch 25/100\n",
            "4470/4470 [==============================] - 9s 2ms/step - loss: 5.3215 - accuracy: 0.9738 - val_loss: 5.4855 - val_accuracy: 0.9307\n",
            "\n",
            "Epoch 00025: val_loss improved from 5.48550 to 5.48548, saving model to /gdrive/My Drive/Colab Notebooks/squeezenet.h5\n",
            "Epoch 26/100\n",
            "4470/4470 [==============================] - 9s 2ms/step - loss: 5.3214 - accuracy: 0.9738 - val_loss: 5.4854 - val_accuracy: 0.9307\n",
            "\n",
            "Epoch 00026: val_loss improved from 5.48548 to 5.48543, saving model to /gdrive/My Drive/Colab Notebooks/squeezenet.h5\n",
            "Epoch 27/100\n",
            "4470/4470 [==============================] - 9s 2ms/step - loss: 5.3213 - accuracy: 0.9738 - val_loss: 5.4854 - val_accuracy: 0.9307\n",
            "\n",
            "Epoch 00027: val_loss improved from 5.48543 to 5.48538, saving model to /gdrive/My Drive/Colab Notebooks/squeezenet.h5\n",
            "Epoch 28/100\n",
            "4470/4470 [==============================] - 9s 2ms/step - loss: 5.3213 - accuracy: 0.9736 - val_loss: 5.4854 - val_accuracy: 0.9315\n",
            "\n",
            "Epoch 00028: val_loss did not improve from 5.48538\n",
            "Epoch 29/100\n",
            "4470/4470 [==============================] - 9s 2ms/step - loss: 5.3212 - accuracy: 0.9738 - val_loss: 5.4853 - val_accuracy: 0.9315\n",
            "\n",
            "Epoch 00029: val_loss improved from 5.48538 to 5.48534, saving model to /gdrive/My Drive/Colab Notebooks/squeezenet.h5\n",
            "Epoch 30/100\n",
            "4470/4470 [==============================] - 9s 2ms/step - loss: 5.3212 - accuracy: 0.9738 - val_loss: 5.4852 - val_accuracy: 0.9307\n",
            "\n",
            "Epoch 00030: val_loss improved from 5.48534 to 5.48521, saving model to /gdrive/My Drive/Colab Notebooks/squeezenet.h5\n",
            "Epoch 31/100\n",
            "4470/4470 [==============================] - 9s 2ms/step - loss: 5.3211 - accuracy: 0.9738 - val_loss: 5.4852 - val_accuracy: 0.9307\n",
            "\n",
            "Epoch 00031: val_loss improved from 5.48521 to 5.48515, saving model to /gdrive/My Drive/Colab Notebooks/squeezenet.h5\n",
            "Epoch 32/100\n",
            "4470/4470 [==============================] - 9s 2ms/step - loss: 5.3211 - accuracy: 0.9738 - val_loss: 5.4851 - val_accuracy: 0.9307\n",
            "\n",
            "Epoch 00032: val_loss improved from 5.48515 to 5.48508, saving model to /gdrive/My Drive/Colab Notebooks/squeezenet.h5\n",
            "Epoch 33/100\n",
            "4470/4470 [==============================] - 9s 2ms/step - loss: 5.3210 - accuracy: 0.9738 - val_loss: 5.4851 - val_accuracy: 0.9307\n",
            "\n",
            "Epoch 00033: val_loss did not improve from 5.48508\n",
            "Epoch 34/100\n",
            "4470/4470 [==============================] - 9s 2ms/step - loss: 5.3210 - accuracy: 0.9738 - val_loss: 5.4851 - val_accuracy: 0.9315\n",
            "\n",
            "Epoch 00034: val_loss improved from 5.48508 to 5.48508, saving model to /gdrive/My Drive/Colab Notebooks/squeezenet.h5\n",
            "Epoch 35/100\n",
            "4470/4470 [==============================] - 9s 2ms/step - loss: 5.3209 - accuracy: 0.9738 - val_loss: 5.4850 - val_accuracy: 0.9307\n",
            "\n",
            "Epoch 00035: val_loss improved from 5.48508 to 5.48497, saving model to /gdrive/My Drive/Colab Notebooks/squeezenet.h5\n",
            "Epoch 36/100\n",
            "4470/4470 [==============================] - 9s 2ms/step - loss: 5.3209 - accuracy: 0.9736 - val_loss: 5.4849 - val_accuracy: 0.9307\n",
            "\n",
            "Epoch 00036: val_loss improved from 5.48497 to 5.48490, saving model to /gdrive/My Drive/Colab Notebooks/squeezenet.h5\n",
            "Epoch 37/100\n",
            "4470/4470 [==============================] - 9s 2ms/step - loss: 5.3208 - accuracy: 0.9736 - val_loss: 5.4849 - val_accuracy: 0.9307\n",
            "\n",
            "Epoch 00037: val_loss improved from 5.48490 to 5.48486, saving model to /gdrive/My Drive/Colab Notebooks/squeezenet.h5\n",
            "Epoch 38/100\n",
            "4470/4470 [==============================] - 9s 2ms/step - loss: 5.3207 - accuracy: 0.9738 - val_loss: 5.4848 - val_accuracy: 0.9307\n",
            "\n",
            "Epoch 00038: val_loss improved from 5.48486 to 5.48478, saving model to /gdrive/My Drive/Colab Notebooks/squeezenet.h5\n",
            "Epoch 39/100\n",
            "4470/4470 [==============================] - 9s 2ms/step - loss: 5.3207 - accuracy: 0.9736 - val_loss: 5.4847 - val_accuracy: 0.9307\n",
            "\n",
            "Epoch 00039: val_loss improved from 5.48478 to 5.48473, saving model to /gdrive/My Drive/Colab Notebooks/squeezenet.h5\n",
            "Epoch 40/100\n",
            "4470/4470 [==============================] - 9s 2ms/step - loss: 5.3206 - accuracy: 0.9738 - val_loss: 5.4847 - val_accuracy: 0.9307\n",
            "\n",
            "Epoch 00040: val_loss improved from 5.48473 to 5.48467, saving model to /gdrive/My Drive/Colab Notebooks/squeezenet.h5\n",
            "Epoch 41/100\n",
            "4470/4470 [==============================] - 9s 2ms/step - loss: 5.3206 - accuracy: 0.9738 - val_loss: 5.4846 - val_accuracy: 0.9307\n",
            "\n",
            "Epoch 00041: val_loss improved from 5.48467 to 5.48460, saving model to /gdrive/My Drive/Colab Notebooks/squeezenet.h5\n",
            "Epoch 42/100\n",
            "4470/4470 [==============================] - 9s 2ms/step - loss: 5.3205 - accuracy: 0.9736 - val_loss: 5.4846 - val_accuracy: 0.9307\n",
            "\n",
            "Epoch 00042: val_loss improved from 5.48460 to 5.48457, saving model to /gdrive/My Drive/Colab Notebooks/squeezenet.h5\n",
            "Epoch 43/100\n",
            "4470/4470 [==============================] - 9s 2ms/step - loss: 5.3205 - accuracy: 0.9736 - val_loss: 5.4845 - val_accuracy: 0.9307\n",
            "\n",
            "Epoch 00043: val_loss improved from 5.48457 to 5.48451, saving model to /gdrive/My Drive/Colab Notebooks/squeezenet.h5\n",
            "Epoch 44/100\n",
            "4470/4470 [==============================] - 9s 2ms/step - loss: 5.3204 - accuracy: 0.9738 - val_loss: 5.4845 - val_accuracy: 0.9307\n",
            "\n",
            "Epoch 00044: val_loss improved from 5.48451 to 5.48448, saving model to /gdrive/My Drive/Colab Notebooks/squeezenet.h5\n",
            "Epoch 45/100\n",
            "4470/4470 [==============================] - 9s 2ms/step - loss: 5.3204 - accuracy: 0.9736 - val_loss: 5.4844 - val_accuracy: 0.9307\n",
            "\n",
            "Epoch 00045: val_loss improved from 5.48448 to 5.48440, saving model to /gdrive/My Drive/Colab Notebooks/squeezenet.h5\n",
            "Epoch 46/100\n",
            "4470/4470 [==============================] - 9s 2ms/step - loss: 5.3203 - accuracy: 0.9738 - val_loss: 5.4844 - val_accuracy: 0.9315\n",
            "\n",
            "Epoch 00046: val_loss did not improve from 5.48440\n",
            "Epoch 47/100\n",
            "4470/4470 [==============================] - 9s 2ms/step - loss: 5.3203 - accuracy: 0.9736 - val_loss: 5.4843 - val_accuracy: 0.9307\n",
            "\n",
            "Epoch 00047: val_loss improved from 5.48440 to 5.48426, saving model to /gdrive/My Drive/Colab Notebooks/squeezenet.h5\n",
            "Epoch 48/100\n",
            "4470/4470 [==============================] - 9s 2ms/step - loss: 5.3202 - accuracy: 0.9738 - val_loss: 5.4843 - val_accuracy: 0.9307\n",
            "\n",
            "Epoch 00048: val_loss did not improve from 5.48426\n",
            "Epoch 49/100\n",
            "4470/4470 [==============================] - 9s 2ms/step - loss: 5.3201 - accuracy: 0.9738 - val_loss: 5.4842 - val_accuracy: 0.9307\n",
            "\n",
            "Epoch 00049: val_loss improved from 5.48426 to 5.48422, saving model to /gdrive/My Drive/Colab Notebooks/squeezenet.h5\n",
            "Epoch 50/100\n",
            "4470/4470 [==============================] - 9s 2ms/step - loss: 5.3201 - accuracy: 0.9736 - val_loss: 5.4841 - val_accuracy: 0.9307\n",
            "\n",
            "Epoch 00050: val_loss improved from 5.48422 to 5.48414, saving model to /gdrive/My Drive/Colab Notebooks/squeezenet.h5\n",
            "Epoch 51/100\n",
            "4470/4470 [==============================] - 9s 2ms/step - loss: 5.3200 - accuracy: 0.9738 - val_loss: 5.4841 - val_accuracy: 0.9307\n",
            "\n",
            "Epoch 00051: val_loss improved from 5.48414 to 5.48410, saving model to /gdrive/My Drive/Colab Notebooks/squeezenet.h5\n",
            "Epoch 52/100\n",
            "4470/4470 [==============================] - 9s 2ms/step - loss: 5.3200 - accuracy: 0.9740 - val_loss: 5.4841 - val_accuracy: 0.9307\n",
            "\n",
            "Epoch 00052: val_loss improved from 5.48410 to 5.48406, saving model to /gdrive/My Drive/Colab Notebooks/squeezenet.h5\n",
            "Epoch 53/100\n",
            "4470/4470 [==============================] - 9s 2ms/step - loss: 5.3199 - accuracy: 0.9738 - val_loss: 5.4840 - val_accuracy: 0.9315\n",
            "\n",
            "Epoch 00053: val_loss improved from 5.48406 to 5.48402, saving model to /gdrive/My Drive/Colab Notebooks/squeezenet.h5\n",
            "Epoch 54/100\n",
            "4470/4470 [==============================] - 9s 2ms/step - loss: 5.3199 - accuracy: 0.9736 - val_loss: 5.4839 - val_accuracy: 0.9307\n",
            "\n",
            "Epoch 00054: val_loss improved from 5.48402 to 5.48391, saving model to /gdrive/My Drive/Colab Notebooks/squeezenet.h5\n",
            "Epoch 55/100\n",
            "4470/4470 [==============================] - 9s 2ms/step - loss: 5.3198 - accuracy: 0.9738 - val_loss: 5.4839 - val_accuracy: 0.9307\n",
            "\n",
            "Epoch 00055: val_loss improved from 5.48391 to 5.48386, saving model to /gdrive/My Drive/Colab Notebooks/squeezenet.h5\n",
            "Epoch 56/100\n",
            "4470/4470 [==============================] - 9s 2ms/step - loss: 5.3198 - accuracy: 0.9736 - val_loss: 5.4838 - val_accuracy: 0.9307\n",
            "\n",
            "Epoch 00056: val_loss improved from 5.48386 to 5.48383, saving model to /gdrive/My Drive/Colab Notebooks/squeezenet.h5\n",
            "Epoch 57/100\n",
            "4470/4470 [==============================] - 9s 2ms/step - loss: 5.3197 - accuracy: 0.9738 - val_loss: 5.4838 - val_accuracy: 0.9307\n",
            "\n",
            "Epoch 00057: val_loss improved from 5.48383 to 5.48377, saving model to /gdrive/My Drive/Colab Notebooks/squeezenet.h5\n",
            "Epoch 58/100\n",
            "4470/4470 [==============================] - 9s 2ms/step - loss: 5.3196 - accuracy: 0.9738 - val_loss: 5.4837 - val_accuracy: 0.9307\n",
            "\n",
            "Epoch 00058: val_loss improved from 5.48377 to 5.48372, saving model to /gdrive/My Drive/Colab Notebooks/squeezenet.h5\n",
            "Epoch 59/100\n",
            "4470/4470 [==============================] - 9s 2ms/step - loss: 5.3196 - accuracy: 0.9736 - val_loss: 5.4837 - val_accuracy: 0.9307\n",
            "\n",
            "Epoch 00059: val_loss improved from 5.48372 to 5.48368, saving model to /gdrive/My Drive/Colab Notebooks/squeezenet.h5\n",
            "Epoch 60/100\n",
            "4470/4470 [==============================] - 9s 2ms/step - loss: 5.3195 - accuracy: 0.9738 - val_loss: 5.4836 - val_accuracy: 0.9307\n",
            "\n",
            "Epoch 00060: val_loss improved from 5.48368 to 5.48358, saving model to /gdrive/My Drive/Colab Notebooks/squeezenet.h5\n",
            "Epoch 61/100\n",
            "4470/4470 [==============================] - 9s 2ms/step - loss: 5.3195 - accuracy: 0.9738 - val_loss: 5.4836 - val_accuracy: 0.9315\n",
            "\n",
            "Epoch 00061: val_loss improved from 5.48358 to 5.48358, saving model to /gdrive/My Drive/Colab Notebooks/squeezenet.h5\n",
            "Epoch 62/100\n",
            "4470/4470 [==============================] - 9s 2ms/step - loss: 5.3194 - accuracy: 0.9738 - val_loss: 5.4835 - val_accuracy: 0.9307\n",
            "\n",
            "Epoch 00062: val_loss improved from 5.48358 to 5.48348, saving model to /gdrive/My Drive/Colab Notebooks/squeezenet.h5\n",
            "Epoch 63/100\n",
            "4470/4470 [==============================] - 9s 2ms/step - loss: 5.3194 - accuracy: 0.9738 - val_loss: 5.4834 - val_accuracy: 0.9307\n",
            "\n",
            "Epoch 00063: val_loss improved from 5.48348 to 5.48344, saving model to /gdrive/My Drive/Colab Notebooks/squeezenet.h5\n",
            "Epoch 64/100\n",
            "4470/4470 [==============================] - 9s 2ms/step - loss: 5.3193 - accuracy: 0.9736 - val_loss: 5.4834 - val_accuracy: 0.9315\n",
            "\n",
            "Epoch 00064: val_loss improved from 5.48344 to 5.48343, saving model to /gdrive/My Drive/Colab Notebooks/squeezenet.h5\n",
            "Epoch 65/100\n",
            "4470/4470 [==============================] - 9s 2ms/step - loss: 5.3193 - accuracy: 0.9736 - val_loss: 5.4834 - val_accuracy: 0.9315\n",
            "\n",
            "Epoch 00065: val_loss improved from 5.48343 to 5.48335, saving model to /gdrive/My Drive/Colab Notebooks/squeezenet.h5\n",
            "Epoch 66/100\n",
            "4470/4470 [==============================] - 9s 2ms/step - loss: 5.3192 - accuracy: 0.9736 - val_loss: 5.4833 - val_accuracy: 0.9307\n",
            "\n",
            "Epoch 00066: val_loss improved from 5.48335 to 5.48327, saving model to /gdrive/My Drive/Colab Notebooks/squeezenet.h5\n",
            "Epoch 67/100\n",
            "4470/4470 [==============================] - 9s 2ms/step - loss: 5.3192 - accuracy: 0.9738 - val_loss: 5.4832 - val_accuracy: 0.9307\n",
            "\n",
            "Epoch 00067: val_loss improved from 5.48327 to 5.48319, saving model to /gdrive/My Drive/Colab Notebooks/squeezenet.h5\n",
            "Epoch 68/100\n",
            "4470/4470 [==============================] - 9s 2ms/step - loss: 5.3191 - accuracy: 0.9736 - val_loss: 5.4831 - val_accuracy: 0.9307\n",
            "\n",
            "Epoch 00068: val_loss improved from 5.48319 to 5.48314, saving model to /gdrive/My Drive/Colab Notebooks/squeezenet.h5\n",
            "Epoch 69/100\n",
            "4470/4470 [==============================] - 9s 2ms/step - loss: 5.3191 - accuracy: 0.9736 - val_loss: 5.4831 - val_accuracy: 0.9307\n",
            "\n",
            "Epoch 00069: val_loss improved from 5.48314 to 5.48311, saving model to /gdrive/My Drive/Colab Notebooks/squeezenet.h5\n",
            "Epoch 70/100\n",
            "4470/4470 [==============================] - 9s 2ms/step - loss: 5.3190 - accuracy: 0.9738 - val_loss: 5.4831 - val_accuracy: 0.9315\n",
            "\n",
            "Epoch 00070: val_loss improved from 5.48311 to 5.48308, saving model to /gdrive/My Drive/Colab Notebooks/squeezenet.h5\n",
            "Epoch 71/100\n",
            "4470/4470 [==============================] - 9s 2ms/step - loss: 5.3190 - accuracy: 0.9738 - val_loss: 5.4830 - val_accuracy: 0.9307\n",
            "\n",
            "Epoch 00071: val_loss improved from 5.48308 to 5.48299, saving model to /gdrive/My Drive/Colab Notebooks/squeezenet.h5\n",
            "Epoch 72/100\n",
            "4470/4470 [==============================] - 9s 2ms/step - loss: 5.3189 - accuracy: 0.9738 - val_loss: 5.4830 - val_accuracy: 0.9315\n",
            "\n",
            "Epoch 00072: val_loss did not improve from 5.48299\n",
            "Epoch 73/100\n",
            "4470/4470 [==============================] - 9s 2ms/step - loss: 5.3188 - accuracy: 0.9738 - val_loss: 5.4829 - val_accuracy: 0.9315\n",
            "\n",
            "Epoch 00073: val_loss improved from 5.48299 to 5.48293, saving model to /gdrive/My Drive/Colab Notebooks/squeezenet.h5\n",
            "Epoch 74/100\n",
            "4470/4470 [==============================] - 9s 2ms/step - loss: 5.3188 - accuracy: 0.9736 - val_loss: 5.4828 - val_accuracy: 0.9307\n",
            "\n",
            "Epoch 00074: val_loss improved from 5.48293 to 5.48283, saving model to /gdrive/My Drive/Colab Notebooks/squeezenet.h5\n",
            "Epoch 75/100\n",
            "4470/4470 [==============================] - 9s 2ms/step - loss: 5.3187 - accuracy: 0.9738 - val_loss: 5.4828 - val_accuracy: 0.9307\n",
            "\n",
            "Epoch 00075: val_loss improved from 5.48283 to 5.48277, saving model to /gdrive/My Drive/Colab Notebooks/squeezenet.h5\n",
            "Epoch 76/100\n",
            "4470/4470 [==============================] - 9s 2ms/step - loss: 5.3187 - accuracy: 0.9736 - val_loss: 5.4827 - val_accuracy: 0.9307\n",
            "\n",
            "Epoch 00076: val_loss improved from 5.48277 to 5.48273, saving model to /gdrive/My Drive/Colab Notebooks/squeezenet.h5\n",
            "Epoch 77/100\n",
            "4470/4470 [==============================] - 9s 2ms/step - loss: 5.3186 - accuracy: 0.9738 - val_loss: 5.4827 - val_accuracy: 0.9315\n",
            "\n",
            "Epoch 00077: val_loss improved from 5.48273 to 5.48269, saving model to /gdrive/My Drive/Colab Notebooks/squeezenet.h5\n",
            "Epoch 78/100\n",
            "4470/4470 [==============================] - 9s 2ms/step - loss: 5.3186 - accuracy: 0.9736 - val_loss: 5.4826 - val_accuracy: 0.9307\n",
            "\n",
            "Epoch 00078: val_loss improved from 5.48269 to 5.48262, saving model to /gdrive/My Drive/Colab Notebooks/squeezenet.h5\n",
            "Epoch 79/100\n",
            "4470/4470 [==============================] - 9s 2ms/step - loss: 5.3185 - accuracy: 0.9738 - val_loss: 5.4826 - val_accuracy: 0.9315\n",
            "\n",
            "Epoch 00079: val_loss improved from 5.48262 to 5.48259, saving model to /gdrive/My Drive/Colab Notebooks/squeezenet.h5\n",
            "Epoch 80/100\n",
            "4470/4470 [==============================] - 9s 2ms/step - loss: 5.3185 - accuracy: 0.9738 - val_loss: 5.4825 - val_accuracy: 0.9307\n",
            "\n",
            "Epoch 00080: val_loss improved from 5.48259 to 5.48247, saving model to /gdrive/My Drive/Colab Notebooks/squeezenet.h5\n",
            "Epoch 81/100\n",
            "4470/4470 [==============================] - 9s 2ms/step - loss: 5.3184 - accuracy: 0.9738 - val_loss: 5.4824 - val_accuracy: 0.9307\n",
            "\n",
            "Epoch 00081: val_loss improved from 5.48247 to 5.48245, saving model to /gdrive/My Drive/Colab Notebooks/squeezenet.h5\n",
            "Epoch 82/100\n",
            "4470/4470 [==============================] - 9s 2ms/step - loss: 5.3183 - accuracy: 0.9743 - val_loss: 5.4825 - val_accuracy: 0.9315\n",
            "\n",
            "Epoch 00082: val_loss did not improve from 5.48245\n",
            "Epoch 83/100\n",
            "4470/4470 [==============================] - 9s 2ms/step - loss: 5.3183 - accuracy: 0.9738 - val_loss: 5.4823 - val_accuracy: 0.9307\n",
            "\n",
            "Epoch 00083: val_loss improved from 5.48245 to 5.48233, saving model to /gdrive/My Drive/Colab Notebooks/squeezenet.h5\n",
            "Epoch 84/100\n",
            "4470/4470 [==============================] - 9s 2ms/step - loss: 5.3182 - accuracy: 0.9740 - val_loss: 5.4823 - val_accuracy: 0.9307\n",
            "\n",
            "Epoch 00084: val_loss improved from 5.48233 to 5.48229, saving model to /gdrive/My Drive/Colab Notebooks/squeezenet.h5\n",
            "Epoch 85/100\n",
            "4470/4470 [==============================] - 9s 2ms/step - loss: 5.3182 - accuracy: 0.9738 - val_loss: 5.4823 - val_accuracy: 0.9315\n",
            "\n",
            "Epoch 00085: val_loss improved from 5.48229 to 5.48227, saving model to /gdrive/My Drive/Colab Notebooks/squeezenet.h5\n",
            "Epoch 86/100\n",
            "4470/4470 [==============================] - 9s 2ms/step - loss: 5.3181 - accuracy: 0.9736 - val_loss: 5.4822 - val_accuracy: 0.9307\n",
            "\n",
            "Epoch 00086: val_loss improved from 5.48227 to 5.48218, saving model to /gdrive/My Drive/Colab Notebooks/squeezenet.h5\n",
            "Epoch 87/100\n",
            "4470/4470 [==============================] - 9s 2ms/step - loss: 5.3181 - accuracy: 0.9738 - val_loss: 5.4821 - val_accuracy: 0.9315\n",
            "\n",
            "Epoch 00087: val_loss improved from 5.48218 to 5.48213, saving model to /gdrive/My Drive/Colab Notebooks/squeezenet.h5\n",
            "Epoch 88/100\n",
            "4470/4470 [==============================] - 9s 2ms/step - loss: 5.3180 - accuracy: 0.9738 - val_loss: 5.4821 - val_accuracy: 0.9307\n",
            "\n",
            "Epoch 00088: val_loss improved from 5.48213 to 5.48207, saving model to /gdrive/My Drive/Colab Notebooks/squeezenet.h5\n",
            "Epoch 89/100\n",
            "4470/4470 [==============================] - 9s 2ms/step - loss: 5.3179 - accuracy: 0.9738 - val_loss: 5.4820 - val_accuracy: 0.9307\n",
            "\n",
            "Epoch 00089: val_loss improved from 5.48207 to 5.48202, saving model to /gdrive/My Drive/Colab Notebooks/squeezenet.h5\n",
            "Epoch 90/100\n",
            "4470/4470 [==============================] - 9s 2ms/step - loss: 5.3179 - accuracy: 0.9738 - val_loss: 5.4820 - val_accuracy: 0.9315\n",
            "\n",
            "Epoch 00090: val_loss improved from 5.48202 to 5.48197, saving model to /gdrive/My Drive/Colab Notebooks/squeezenet.h5\n",
            "Epoch 91/100\n",
            "4470/4470 [==============================] - 9s 2ms/step - loss: 5.3178 - accuracy: 0.9738 - val_loss: 5.4819 - val_accuracy: 0.9307\n",
            "\n",
            "Epoch 00091: val_loss improved from 5.48197 to 5.48189, saving model to /gdrive/My Drive/Colab Notebooks/squeezenet.h5\n",
            "Epoch 92/100\n",
            "4470/4470 [==============================] - 9s 2ms/step - loss: 5.3178 - accuracy: 0.9738 - val_loss: 5.4819 - val_accuracy: 0.9315\n",
            "\n",
            "Epoch 00092: val_loss did not improve from 5.48189\n",
            "Epoch 93/100\n",
            "4470/4470 [==============================] - 9s 2ms/step - loss: 5.3177 - accuracy: 0.9738 - val_loss: 5.4818 - val_accuracy: 0.9307\n",
            "\n",
            "Epoch 00093: val_loss improved from 5.48189 to 5.48179, saving model to /gdrive/My Drive/Colab Notebooks/squeezenet.h5\n",
            "Epoch 94/100\n",
            "4470/4470 [==============================] - 9s 2ms/step - loss: 5.3177 - accuracy: 0.9738 - val_loss: 5.4817 - val_accuracy: 0.9307\n",
            "\n",
            "Epoch 00094: val_loss improved from 5.48179 to 5.48171, saving model to /gdrive/My Drive/Colab Notebooks/squeezenet.h5\n",
            "Epoch 95/100\n",
            "4470/4470 [==============================] - 9s 2ms/step - loss: 5.3176 - accuracy: 0.9738 - val_loss: 5.4817 - val_accuracy: 0.9315\n",
            "\n",
            "Epoch 00095: val_loss did not improve from 5.48171\n",
            "Epoch 96/100\n",
            "4470/4470 [==============================] - 9s 2ms/step - loss: 5.3176 - accuracy: 0.9738 - val_loss: 5.4816 - val_accuracy: 0.9307\n",
            "\n",
            "Epoch 00096: val_loss improved from 5.48171 to 5.48162, saving model to /gdrive/My Drive/Colab Notebooks/squeezenet.h5\n",
            "Epoch 97/100\n",
            "4470/4470 [==============================] - 9s 2ms/step - loss: 5.3175 - accuracy: 0.9738 - val_loss: 5.4816 - val_accuracy: 0.9315\n",
            "\n",
            "Epoch 00097: val_loss improved from 5.48162 to 5.48159, saving model to /gdrive/My Drive/Colab Notebooks/squeezenet.h5\n",
            "Epoch 98/100\n",
            "4470/4470 [==============================] - 9s 2ms/step - loss: 5.3175 - accuracy: 0.9738 - val_loss: 5.4815 - val_accuracy: 0.9315\n",
            "\n",
            "Epoch 00098: val_loss improved from 5.48159 to 5.48153, saving model to /gdrive/My Drive/Colab Notebooks/squeezenet.h5\n",
            "Epoch 99/100\n",
            "4470/4470 [==============================] - 9s 2ms/step - loss: 5.3174 - accuracy: 0.9738 - val_loss: 5.4814 - val_accuracy: 0.9307\n",
            "\n",
            "Epoch 00099: val_loss improved from 5.48153 to 5.48144, saving model to /gdrive/My Drive/Colab Notebooks/squeezenet.h5\n",
            "Epoch 100/100\n",
            "4470/4470 [==============================] - 9s 2ms/step - loss: 5.3173 - accuracy: 0.9738 - val_loss: 5.4814 - val_accuracy: 0.9307\n",
            "\n",
            "Epoch 00100: val_loss improved from 5.48144 to 5.48138, saving model to /gdrive/My Drive/Colab Notebooks/squeezenet.h5\n"
          ],
          "name": "stdout"
        }
      ]
    },
    {
      "cell_type": "code",
      "metadata": {
        "id": "8cH5NtZRBpH8",
        "colab_type": "code",
        "colab": {
          "base_uri": "https://localhost:8080/",
          "height": 315
        },
        "outputId": "960a97ec-2b1d-4f74-a6d8-1fdcededd64b"
      },
      "source": [
        "import matplotlib.pyplot as plt\n",
        "acc = history.history['accuracy']\n",
        "val_acc = history.history['val_accuracy']\n",
        "loss = history.history['loss']\n",
        "val_loss = history.history['val_loss']\n",
        "\n",
        "epochs = range(1,len(acc) + 1)\n",
        "plt.plot(epochs,acc, 'b', color='green', label = 'Training acc')\n",
        "plt.plot(epochs,val_acc, 'b', color='orange', label = 'Validation acc')\n",
        "\n",
        "plt.title('Training and validation accuracy')\n",
        "\n",
        "plt.legend()\n",
        "\n",
        "plt.figure()"
      ],
      "execution_count": 51,
      "outputs": [
        {
          "output_type": "execute_result",
          "data": {
            "text/plain": [
              "<Figure size 432x288 with 0 Axes>"
            ]
          },
          "metadata": {
            "tags": []
          },
          "execution_count": 51
        },
        {
          "output_type": "display_data",
          "data": {
            "image/png": "[encoded data removed]",
            "text/plain": [
              "<Figure size 432x288 with 1 Axes>"
            ]
          },
          "metadata": {
            "tags": [],
            "needs_background": "light"
          }
        },
        {
          "output_type": "display_data",
          "data": {
            "text/plain": [
              "<Figure size 432x288 with 0 Axes>"
            ]
          },
          "metadata": {
            "tags": []
          }
        }
      ]
    },
    {
      "cell_type": "code",
      "metadata": {
        "id": "xOSeILbMDlQq",
        "colab_type": "code",
        "colab": {
          "base_uri": "https://localhost:8080/",
          "height": 281
        },
        "outputId": "64a6c78c-2166-41f0-ec4c-b9639b0710b8"
      },
      "source": [
        "plt.plot(epochs, loss, 'b', color='green', label = 'Training loss')\n",
        "plt.plot(epochs, val_loss, 'b', color='orange', label = 'Validation loss')\n",
        "plt.title('Training and validation loss')\n",
        "\n",
        "plt.legend()\n",
        "plt.show()\n"
      ],
      "execution_count": 52,
      "outputs": [
        {
          "output_type": "display_data",
          "data": {
            "image/png": "[encoded data removed]",
            "text/plain": [
              "<Figure size 432x288 with 1 Axes>"
            ]
          },
          "metadata": {
            "tags": [],
            "needs_background": "light"
          }
        }
      ]
    },
    {
      "cell_type": "code",
      "metadata": {
        "id": "n1cAW9R1DncQ",
        "colab_type": "code",
        "colab": {
          "base_uri": "https://localhost:8080/",
          "height": 51
        },
        "outputId": "7e2587b6-c7a7-44b8-bb55-49f7ab6c0c9e"
      },
      "source": [
        "model.load_weights('/gdrive/My Drive/Colab Notebooks/squeezenet.h5')\n",
        "model.evaluate(train_x,train_y)"
      ],
      "execution_count": 9,
      "outputs": [
        {
          "output_type": "stream",
          "text": [
            "4470/4470 [==============================] - 13s 3ms/step\n"
          ],
          "name": "stdout"
        },
        {
          "output_type": "execute_result",
          "data": {
            "text/plain": [
              "[5.317285267832029, 0.9738255143165588]"
            ]
          },
          "metadata": {
            "tags": []
          },
          "execution_count": 9
        }
      ]
    },
    {
      "cell_type": "code",
      "metadata": {
        "id": "qdi-QYTRGKEE",
        "colab_type": "code",
        "colab": {
          "base_uri": "https://localhost:8080/",
          "height": 51
        },
        "outputId": "507ce683-a73e-4fd4-a016-237f105593da"
      },
      "source": [
        "model.evaluate(valid_x,valid_y)"
      ],
      "execution_count": 10,
      "outputs": [
        {
          "output_type": "stream",
          "text": [
            "1168/1168 [==============================] - 2s 2ms/step\n"
          ],
          "name": "stdout"
        },
        {
          "output_type": "execute_result",
          "data": {
            "text/plain": [
              "[5.481382167502625, 0.9306507110595703]"
            ]
          },
          "metadata": {
            "tags": []
          },
          "execution_count": 10
        }
      ]
    },
    {
      "cell_type": "code",
      "metadata": {
        "id": "uDHZtwXWQMja",
        "colab_type": "code",
        "colab": {
          "base_uri": "https://localhost:8080/",
          "height": 51
        },
        "outputId": "64b35450-0dbd-4923-9ee9-7ebe67b0af00"
      },
      "source": [
        "model.evaluate(test_x,test_y)"
      ],
      "execution_count": 11,
      "outputs": [
        {
          "output_type": "stream",
          "text": [
            "465/465 [==============================] - 1s 2ms/step\n"
          ],
          "name": "stdout"
        },
        {
          "output_type": "execute_result",
          "data": {
            "text/plain": [
              "[5.697024239775955, 0.8645161390304565]"
            ]
          },
          "metadata": {
            "tags": []
          },
          "execution_count": 11
        }
      ]
    },
    {
      "cell_type": "code",
      "metadata": {
        "id": "HA6OtqPQQdK9",
        "colab_type": "code",
        "colab": {}
      },
      "source": [
        "pred = model.predict(test_x)"
      ],
      "execution_count": 0,
      "outputs": []
    },
    {
      "cell_type": "code",
      "metadata": {
        "id": "jq9nN-cMnq58",
        "colab_type": "code",
        "colab": {
          "base_uri": "https://localhost:8080/",
          "height": 494
        },
        "outputId": "a0c3dc27-838b-45f8-e7d7-9dd53d3c22e0"
      },
      "source": [
        "import seaborn as sns\n",
        "import pandas as pd\n",
        "from sklearn.metrics import multilabel_confusion_matrix\n",
        "import matplotlib.pyplot as plt\n",
        "\n",
        "y = np.argmax(test_y,axis = 1)\n",
        "pred_y = np.argmax(pred,axis = 1)\n",
        "print(y.shape,pred_y.shape)\n",
        "data = confusion_matrix(y,pred_y)\n",
        "df = pd.DataFrame(data, columns = ['COVID','Normal','Pnemonia'], index = ['COVID','Normal','Pnemonia'])\n",
        "df.index.name = 'Actual'\n",
        "df.columns.name = 'Predicted'\n",
        "plt.figure(figsize = (10,7))\n",
        "sns.set(font_scale = 1.4)\n",
        "sns.heatmap(df, cmap = 'Blues', annot = True, fmt = \"d\")"
      ],
      "execution_count": 29,
      "outputs": [
        {
          "output_type": "stream",
          "text": [
            "(465,) (465,)\n"
          ],
          "name": "stdout"
        },
        {
          "output_type": "execute_result",
          "data": {
            "text/plain": [
              "<matplotlib.axes._subplots.AxesSubplot at 0x7faa1ef347b8>"
            ]
          },
          "metadata": {
            "tags": []
          },
          "execution_count": 29
        },
        {
          "output_type": "display_data",
          "data": {
            "image/png": "[encoded data removed]",
            "text/plain": [
              "<Figure size 720x504 with 2 Axes>"
            ]
          },
          "metadata": {
            "tags": [],
            "needs_background": "light"
          }
        }
      ]
    },
    {
      "cell_type": "code",
      "metadata": {
        "id": "PMJhgnjXpth8",
        "colab_type": "code",
        "colab": {}
      },
      "source": [
        ""
      ],
      "execution_count": 0,
      "outputs": []
    }
  ]
}